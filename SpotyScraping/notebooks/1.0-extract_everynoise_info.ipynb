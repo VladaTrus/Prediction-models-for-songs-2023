{
 "cells": [
  {
   "cell_type": "code",
   "execution_count": 1,
   "metadata": {},
   "outputs": [],
   "source": [
    "import pickle\n",
    "import requests\n",
    "import re \n",
    "from bs4 import BeautifulSoup\n",
    "import pandas as pd\n",
    "import re\n",
    "import tqdm"
   ]
  },
  {
   "cell_type": "code",
   "execution_count": 2,
   "metadata": {},
   "outputs": [],
   "source": [
    "def get_genre_pages():\n",
    "    \"\"\"Retrieve urls of all genres with name containing *genre_name*\n",
    "\n",
    "    :genre_list: list of genre names\n",
    "    :return: list of links (to use globally, add locally defined *url* var prefix) with genre names [(genre_full_name, link), (...), ... ]\n",
    "    \"\"\"\n",
    "    url = \"https://everynoise.com/\"\n",
    "    resp = requests.get(url)\n",
    "    soup = BeautifulSoup(resp.content, \"lxml\")\n",
    "\n",
    "    genres_divs = soup.find_all(\"div\", class_=\"genre scanme\")\n",
    "    \n",
    "\n",
    "    links = []\n",
    "\n",
    "    for genre_div in genres_divs:\n",
    "        genre_full_name = genre_div.text[:-2] # to remove the \"» \" part\n",
    "\n",
    "        if re.findall(\"(^rap| rap|-rap|hip hop|hip-hop)\", genre_full_name):\n",
    "            href = genre_div.find(\"a\")[\"href\"]\n",
    "            links.append((genre_full_name, href))\n",
    "\n",
    "    \n",
    "    return links\n",
    "\n",
    "\n",
    "def get_artist_names(genre_page_url):\n",
    "    \"\"\"Retrieve names of all artists within a genre page\n",
    "    \"\"\"\n",
    "\n",
    "    full_address = \"https://everynoise.com/\" + genre_page_url\n",
    "    resp = requests.get(full_address)\n",
    "    soup = BeautifulSoup(resp.content, \"lxml\")\n",
    "\n",
    "    artist_names_divs = soup.find_all(\"div\", class_=\"genre scanme\")\n",
    "    \n",
    "\n",
    "    artists_ids = []\n",
    "\n",
    "    for name_div in artist_names_divs:\n",
    "        spotify_artist_id = name_div.find(\"a\")[\"href\"]\n",
    "        everynoise_artist_name = name_div.text[:-2]\n",
    "        artists_ids.append((everynoise_artist_name, spotify_artist_id))\n",
    "\n",
    "    return artists_ids\n",
    "\n"
   ]
  },
  {
   "cell_type": "code",
   "execution_count": 3,
   "metadata": {},
   "outputs": [],
   "source": [
    "links = get_genre_pages()"
   ]
  },
  {
   "cell_type": "code",
   "execution_count": 4,
   "metadata": {},
   "outputs": [],
   "source": [
    "genre_names = dict()"
   ]
  },
  {
   "cell_type": "code",
   "execution_count": 7,
   "metadata": {},
   "outputs": [
    {
     "name": "stderr",
     "output_type": "stream",
     "text": [
      "100%|██████████| 424/424 [02:18<00:00,  3.07it/s]\n"
     ]
    }
   ],
   "source": [
    "for genre_name, href in tqdm.tqdm(links):\n",
    "    artists_ids = get_artist_names(href)\n",
    "    genre_names.update({genre_name: artists_ids})"
   ]
  },
  {
   "cell_type": "code",
   "execution_count": 8,
   "metadata": {},
   "outputs": [],
   "source": [
    "with open(\"everynoise_genres_artists_ids.pickle\", \"wb\") as f:\n",
    "    pickle.dump(genre_names, f)"
   ]
  },
  {
   "cell_type": "code",
   "execution_count": 11,
   "metadata": {},
   "outputs": [
    {
     "data": {
      "text/plain": [
       "[('Benboy', 'artistprofile.cgi?id=7zN9bOdwGJBJnvXEVMxOC1'),\n",
       " ('MiztaNesh', 'artistprofile.cgi?id=3Ybo9p1IcdSkk9ox2TyDGw'),\n",
       " ('Navin K', 'artistprofile.cgi?id=5obr761pU0HpydmyR7nIoJ'),\n",
       " ('Mr. 5k', 'artistprofile.cgi?id=02PdZzRSBHl0fntm8CPot2'),\n",
       " ('Dr MOTS & Kakis', 'artistprofile.cgi?id=1L20rbk3c9MB13dMQTjgZZ'),\n",
       " ('R.5', 'artistprofile.cgi?id=350YzQb2awcbWcfI0xYJcj'),\n",
       " ('Harvinth Skin', 'artistprofile.cgi?id=6qgKUwOGSU1iHNktLOON00'),\n",
       " ('Balan Kash', 'artistprofile.cgi?id=58WvdKjSjjthpO3u9t0bfe'),\n",
       " ('Mathan', 'artistprofile.cgi?id=6SKyKdlIxDf1JmwWgJ9l2W'),\n",
       " ('Northern Anthem Artistes', 'artistprofile.cgi?id=7BCKTEW6pE17y1nKvsL5CY'),\n",
       " ('SHIVANZ', 'artistprofile.cgi?id=4MBHszd8aiPzSPFbhVdgWd'),\n",
       " ('RapDawgz', 'artistprofile.cgi?id=5Z3megaWkihcrRV6T3oVLQ'),\n",
       " ('Sivaraj Chandran', 'artistprofile.cgi?id=4zgeOOycOKHDIdrtU9zb1m'),\n",
       " ('Vethen', 'artistprofile.cgi?id=0isfyCgjskjnpAEh3HyLkB'),\n",
       " ('MC Syze', 'artistprofile.cgi?id=415RH1HJvYXcARc4o4CdBV'),\n",
       " ('Linerz Motorsports', 'artistprofile.cgi?id=6JIyUASSB8Q1tiTE8GE02z'),\n",
       " ('Ak Shoun', 'artistprofile.cgi?id=0FiTTQnUmuFS73PNPYoAc7'),\n",
       " ('Switch Lock Up', 'artistprofile.cgi?id=0JMraP70dypedCsfesBle4'),\n",
       " ('Buggimaan', 'artistprofile.cgi?id=0r4YXuFgQ7PpwQpi9cVrSo'),\n",
       " ('Lock Up Nathan', 'artistprofile.cgi?id=2BeoiuMEIv79Zi9NKJJkyK'),\n",
       " ('Sheezay', 'artistprofile.cgi?id=59ZFcw0jfy0Z4rcF1DXKBF'),\n",
       " ('Arvind Raj', 'artistprofile.cgi?id=26CNPypOLdqMPbT7qyVskl'),\n",
       " ('Psychomantra', 'artistprofile.cgi?id=3as8HCXqsoGHDGPMcqaJOW'),\n",
       " ('Taseltech', 'artistprofile.cgi?id=04Kx3UvbFEhtrn69T2oAa6'),\n",
       " ('Niven', 'artistprofile.cgi?id=0pJ8bfDTa0jRHmQJmbkpCb'),\n",
       " ('Rabbit Mac', 'artistprofile.cgi?id=6XswDHNrF5xRBwCs0eNVC7'),\n",
       " ('Kobby', 'artistprofile.cgi?id=0Pee2E60eosL6MaiY3I3qQ'),\n",
       " ('TACTMATIC', 'artistprofile.cgi?id=32Dm97eB2gKLnTUDbFMEDV'),\n",
       " ('Ørumari', 'artistprofile.cgi?id=4nNBcu6MohzPUzvVoN04YJ'),\n",
       " ('Parameswara', 'artistprofile.cgi?id=60go3QdDJ7bU8pNQlXDAH0'),\n",
       " ('MC Killadi', 'artistprofile.cgi?id=4kdLmXMeslrjAKIiOH6xAA'),\n",
       " ('Havoc Brothers', 'artistprofile.cgi?id=5pa1YQyC2QId306LA64Wfh'),\n",
       " ('ARVEIN RAJA', 'artistprofile.cgi?id=4qHFwFlwlLygRLQexq61CV'),\n",
       " ('Khees', 'artistprofile.cgi?id=1BHw3WBP5PMEK46dxleEU6'),\n",
       " ('Dheyrann', 'artistprofile.cgi?id=2Mwpu4ebsc2wV6wIeZLGAR'),\n",
       " ('Qyl Gee', 'artistprofile.cgi?id=1YdriK0hbbIF6HRrYqqqEo'),\n",
       " ('Young Ruff', 'artistprofile.cgi?id=0XKMqigV8EXK5ultll4Gw4'),\n",
       " ('Satiish', 'artistprofile.cgi?id=3Hu31jkfcU8slcnDTx5CEZ'),\n",
       " ('iLL Krux', 'artistprofile.cgi?id=6xqoJf5zjtglXgJAhV24yz'),\n",
       " ('Sicarios', 'artistprofile.cgi?id=7FTGozVwqXZke1LeP3nCS3'),\n",
       " ('Highlife.my', 'artistprofile.cgi?id=7wtl5QQRhEVYCBqmOqq40l'),\n",
       " ('MA3STROmy', 'artistprofile.cgi?id=3IiffYpzE7azxw39RTfTnq'),\n",
       " ('Thushi Kumanan', 'artistprofile.cgi?id=5rXwhzbnv5YcTwN7cAhH7u'),\n",
       " ('Sasi The Don', 'artistprofile.cgi?id=6APAnfUdrwL4p3SKl733Q8'),\n",
       " ('CJL', 'artistprofile.cgi?id=3SYJxJLEwUw30kArVkoPUi'),\n",
       " ('The INC', 'artistprofile.cgi?id=14okiorItCcEQJ3Pz6gC4U'),\n",
       " ('Aby-g', 'artistprofile.cgi?id=01SjmsAPbpfBKVk92O9bCx'),\n",
       " ('MA3STRO', 'artistprofile.cgi?id=6HRp3MxbR54PP5fc1jaqrz'),\n",
       " ('Thevendraa', 'artistprofile.cgi?id=0ofLl1kXEpRJfk6eHdjJXW'),\n",
       " ('Future Fresh', 'artistprofile.cgi?id=4Ye5RyOOP6ndJ84UbMU6d0'),\n",
       " ('Arunboii', 'artistprofile.cgi?id=0sZgdVrhx2mt37bPvpZqoB'),\n",
       " ('Dharvin-V', 'artistprofile.cgi?id=50ncI4x78eNfrFVmxat639')]"
      ]
     },
     "execution_count": 11,
     "metadata": {},
     "output_type": "execute_result"
    }
   ],
   "source": [
    "genre_names['malaysian tamil rap']"
   ]
  }
 ],
 "metadata": {
  "kernelspec": {
   "display_name": "Python 3 (ipykernel)",
   "language": "python",
   "name": "python3"
  },
  "language_info": {
   "codemirror_mode": {
    "name": "ipython",
    "version": 3
   },
   "file_extension": ".py",
   "mimetype": "text/x-python",
   "name": "python",
   "nbconvert_exporter": "python",
   "pygments_lexer": "ipython3",
   "version": "3.8.10"
  },
  "toc": {
   "base_numbering": 1,
   "nav_menu": {},
   "number_sections": true,
   "sideBar": true,
   "skip_h1_title": false,
   "title_cell": "Table of Contents",
   "title_sidebar": "Contents",
   "toc_cell": false,
   "toc_position": {},
   "toc_section_display": true,
   "toc_window_display": false
  },
  "vscode": {
   "interpreter": {
    "hash": "31f2aee4e71d21fbe5cf8b01ff0e069b9275f58929596ceb00d14d90e3e16cd6"
   }
  }
 },
 "nbformat": 4,
 "nbformat_minor": 2
}
