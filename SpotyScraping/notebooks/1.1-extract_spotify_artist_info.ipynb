{
 "cells": [
  {
   "cell_type": "code",
   "execution_count": 2,
   "metadata": {},
   "outputs": [],
   "source": [
    "import pickle\n",
    "import requests\n",
    "import pandas as pd\n",
    "import re\n",
    "import numpy as np\n",
    "import time"
   ]
  },
  {
   "cell_type": "code",
   "execution_count": 3,
   "metadata": {},
   "outputs": [],
   "source": [
    "with open(\"../data/extracted/1.0-everynoise_extraction/everynoise_genres_artists_ids.pickle\", \"rb\") as f:\n",
    "    genres_ids = pickle.load(f)"
   ]
  },
  {
   "cell_type": "markdown",
   "metadata": {},
   "source": [
    "### Initialize dataframe"
   ]
  },
  {
   "cell_type": "code",
   "execution_count": 4,
   "metadata": {},
   "outputs": [],
   "source": [
    "to_df = []\n",
    "for genre_key in genres_ids:\n",
    "    for artist_name, artist_id in genres_ids[genre_key]:\n",
    "        artist_id = artist_id.split(\"=\")[1]\n",
    "        to_df.append([genre_key, artist_name, artist_id])\n",
    "\n",
    "artists_df = pd.DataFrame(to_df, columns=['genre', 'artist_name', 'artist_id'])\n",
    "artists_df.drop_duplicates(subset='artist_id', inplace=True)\n",
    "del to_df"
   ]
  },
  {
   "cell_type": "code",
   "execution_count": 6,
   "metadata": {},
   "outputs": [
    {
     "data": {
      "text/html": [
       "<div>\n",
       "<style scoped>\n",
       "    .dataframe tbody tr th:only-of-type {\n",
       "        vertical-align: middle;\n",
       "    }\n",
       "\n",
       "    .dataframe tbody tr th {\n",
       "        vertical-align: top;\n",
       "    }\n",
       "\n",
       "    .dataframe thead th {\n",
       "        text-align: right;\n",
       "    }\n",
       "</style>\n",
       "<table border=\"1\" class=\"dataframe\">\n",
       "  <thead>\n",
       "    <tr style=\"text-align: right;\">\n",
       "      <th></th>\n",
       "      <th>genre</th>\n",
       "      <th>artist_name</th>\n",
       "      <th>artist_id</th>\n",
       "    </tr>\n",
       "  </thead>\n",
       "  <tbody>\n",
       "    <tr>\n",
       "      <th>0</th>\n",
       "      <td>chicago rap</td>\n",
       "      <td>Save Money</td>\n",
       "      <td>10pQ3PEwE8swseRAmQW5GZ</td>\n",
       "    </tr>\n",
       "    <tr>\n",
       "      <th>1</th>\n",
       "      <td>chicago rap</td>\n",
       "      <td>Jusblow</td>\n",
       "      <td>01bA7d8WtgbqK19Lav33G2</td>\n",
       "    </tr>\n",
       "    <tr>\n",
       "      <th>2</th>\n",
       "      <td>chicago rap</td>\n",
       "      <td>Cdai</td>\n",
       "      <td>2IO3FyVSkdvt4Xedln10eQ</td>\n",
       "    </tr>\n",
       "    <tr>\n",
       "      <th>3</th>\n",
       "      <td>chicago rap</td>\n",
       "      <td>Elvy The God</td>\n",
       "      <td>48ADN7L0AyJJvAEdx5HwHI</td>\n",
       "    </tr>\n",
       "    <tr>\n",
       "      <th>4</th>\n",
       "      <td>chicago rap</td>\n",
       "      <td>Lud Foe</td>\n",
       "      <td>0Cu32uCaqDJYQADOev92Et</td>\n",
       "    </tr>\n",
       "  </tbody>\n",
       "</table>\n",
       "</div>"
      ],
      "text/plain": [
       "         genre   artist_name               artist_id\n",
       "0  chicago rap    Save Money  10pQ3PEwE8swseRAmQW5GZ\n",
       "1  chicago rap       Jusblow  01bA7d8WtgbqK19Lav33G2\n",
       "2  chicago rap          Cdai  2IO3FyVSkdvt4Xedln10eQ\n",
       "3  chicago rap  Elvy The God  48ADN7L0AyJJvAEdx5HwHI\n",
       "4  chicago rap       Lud Foe  0Cu32uCaqDJYQADOev92Et"
      ]
     },
     "execution_count": 6,
     "metadata": {},
     "output_type": "execute_result"
    }
   ],
   "source": [
    "artists_df.head(5)"
   ]
  },
  {
   "cell_type": "markdown",
   "metadata": {},
   "source": [
    "### Save df for a future extraction of artists-related spotify info (done in separate scripts)"
   ]
  },
  {
   "cell_type": "code",
   "execution_count": 15,
   "metadata": {},
   "outputs": [],
   "source": [
    "artists_df.to_csv(\"../data/generated/1.1-spotify_artist_ids/artists_ids.csv\", index=False)"
   ]
  },
  {
   "cell_type": "markdown",
   "metadata": {},
   "source": [
    "1) достать инфо про артиста (популярность, жанры, фоловеры, ссылки на изображения [если есть])\n",
    "2) отсеять тех, где нет в жанрах хип-хоп/рэп\n",
    "3) достать дискографию и посчитать количество треков\n",
    "4) отсеять исполнителей, у которых меньше чем k треков (прикинуть количество из распределения слов на статье на пудинге)\n",
    "5) проверить доступность лирикса на Genius для каждого исполнителя, динамически отсеивая тех, для которых не набралось k песен с лириксом"
   ]
  }
 ],
 "metadata": {
  "kernelspec": {
   "display_name": "Python 3 (ipykernel)",
   "language": "python",
   "name": "python3"
  },
  "language_info": {
   "codemirror_mode": {
    "name": "ipython",
    "version": 3
   },
   "file_extension": ".py",
   "mimetype": "text/x-python",
   "name": "python",
   "nbconvert_exporter": "python",
   "pygments_lexer": "ipython3",
   "version": "3.8.10"
  },
  "toc": {
   "base_numbering": 1,
   "nav_menu": {},
   "number_sections": true,
   "sideBar": true,
   "skip_h1_title": false,
   "title_cell": "Table of Contents",
   "title_sidebar": "Contents",
   "toc_cell": false,
   "toc_position": {},
   "toc_section_display": true,
   "toc_window_display": false
  },
  "vscode": {
   "interpreter": {
    "hash": "31f2aee4e71d21fbe5cf8b01ff0e069b9275f58929596ceb00d14d90e3e16cd6"
   }
  }
 },
 "nbformat": 4,
 "nbformat_minor": 2
}
