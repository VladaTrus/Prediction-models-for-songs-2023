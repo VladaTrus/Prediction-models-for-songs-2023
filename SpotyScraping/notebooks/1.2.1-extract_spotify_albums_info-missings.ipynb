{
 "cells": [
  {
   "cell_type": "code",
   "execution_count": 1,
   "metadata": {},
   "outputs": [],
   "source": [
    "import pickle\n",
    "import requests\n",
    "import pandas as pd\n",
    "import re\n",
    "import numpy as np\n",
    "import time\n",
    "from os import listdir"
   ]
  },
  {
   "attachments": {},
   "cell_type": "markdown",
   "metadata": {},
   "source": [
    "### Check what parts have been collected, and find misssings"
   ]
  },
  {
   "cell_type": "code",
   "execution_count": 2,
   "metadata": {},
   "outputs": [],
   "source": [
    "artists_info = pd.read_csv(\"../data/generated/1.2-spotify_artists_info/artists_info.csv\")"
   ]
  },
  {
   "cell_type": "code",
   "execution_count": 3,
   "metadata": {},
   "outputs": [],
   "source": [
    "retrieved = []\n",
    "for dir_i in range(1, 6):\n",
    "    path_to_dir = f\"../scripts/1.2-spotify_artists_albums_extraction/extracted_albums_info/pt_{dir_i}\"\n",
    "    files = listdir(path_to_dir)\n",
    "    for pickle_name in files:\n",
    "        with open(f\"{path_to_dir}/{pickle_name}\", \"rb\") as f:\n",
    "            pickle_part_ = pickle.load(f)\n",
    "            retrieved.append(pickle_part_)\n",
    "retrieved_df = pd.concat(retrieved)"
   ]
  },
  {
   "cell_type": "code",
   "execution_count": 4,
   "metadata": {},
   "outputs": [],
   "source": [
    "to_download = set(artists_info['artist_id']).difference(set(retrieved_df['artist_id']))"
   ]
  },
  {
   "attachments": {},
   "cell_type": "markdown",
   "metadata": {},
   "source": [
    "### Create a csv with artists to post-load"
   ]
  },
  {
   "cell_type": "code",
   "execution_count": 8,
   "metadata": {},
   "outputs": [],
   "source": [
    "artists_info[artists_info['artist_id'].isin(to_download)].to_csv(\"../scripts/1.2.1-spotify_artists_albums_extraction-missings/to_extract.csv\", index=False)"
   ]
  },
  {
   "attachments": {},
   "cell_type": "markdown",
   "metadata": {},
   "source": [
    "### Script 1.2.1*** is to be launched from the scripts directory to load the rest albums"
   ]
  }
 ],
 "metadata": {
  "kernelspec": {
   "display_name": "Python 3",
   "language": "python",
   "name": "python3"
  },
  "language_info": {
   "codemirror_mode": {
    "name": "ipython",
    "version": 3
   },
   "file_extension": ".py",
   "mimetype": "text/x-python",
   "name": "python",
   "nbconvert_exporter": "python",
   "pygments_lexer": "ipython3",
   "version": "3.8.10"
  },
  "orig_nbformat": 4,
  "vscode": {
   "interpreter": {
    "hash": "916dbcbb3f70747c44a77c7bcd40155683ae19c65e1c03b4aa3499c5328201f1"
   }
  }
 },
 "nbformat": 4,
 "nbformat_minor": 2
}
