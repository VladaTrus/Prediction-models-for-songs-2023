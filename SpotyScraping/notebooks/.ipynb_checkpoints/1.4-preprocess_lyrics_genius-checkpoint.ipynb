{
 "cells": [
  {
   "cell_type": "code",
   "execution_count": 3,
   "metadata": {},
   "outputs": [],
   "source": [
    "import pickle\n",
    "import pandas as pd"
   ]
  },
  {
   "cell_type": "code",
   "execution_count": 4,
   "metadata": {},
   "outputs": [],
   "source": [
    "example_artist = pd.read_pickle(\"../scripts/1.3-genius_info_extraction/genius_track_info_extracted/genius_artists_pt1/0av074qUwLn5eyzwqoq3xh.pickle\")"
   ]
  },
  {
   "cell_type": "code",
   "execution_count": 19,
   "metadata": {},
   "outputs": [],
   "source": [
    "lyrics = example_artist['0av074qUwLn5eyzwqoq3xh'][0][0][1][0][6]"
   ]
  },
  {
   "cell_type": "code",
   "execution_count": 21,
   "metadata": {},
   "outputs": [],
   "source": [
    "lyrics_sample = \"Seasons change and kids grow \\nI think we came through your town a few years ago\\nIt's me and Mikey still rolling in the rental\\nGroundhog Day, I try not to get sentimental\\nI'm lookin' out the window of the motel\\nFor twenty years, trippin' seein' how all these shows sell out\\nBut we never did and never could, that's no doubt, dig it\\nDid it for the P army, army constantly committed\\n\\\n",
    "And the industry hated it\\nConsistently faded it\\nWe pushed through the future blind\\nWas never afraid of it\\nThe mind over matter, what matters over this part\\nWe reach out forever through hip-hop or too much heart\\nTo chart on a Billboard, to care about record sales\\nPut food on my table, I'm happy, plus I got lots of tales\\nAnd stories for freakin' days, and friends that got family\\nNow move 12 albums deep to document the humanity\\nWith that\""
   ]
  },
  {
   "cell_type": "code",
   "execution_count": 23,
   "metadata": {},
   "outputs": [
    {
     "data": {
      "text/plain": [
       "['Seasons change and kids grow ',\n",
       " 'I think we came through your town a few years ago',\n",
       " \"It's me and Mikey still rolling in the rental\",\n",
       " 'Groundhog Day, I try not to get sentimental',\n",
       " \"I'm lookin' out the window of the motel\",\n",
       " \"For twenty years, trippin' seein' how all these shows sell out\",\n",
       " \"But we never did and never could, that's no doubt, dig it\",\n",
       " 'Did it for the P army, army constantly committed',\n",
       " 'And the industry hated it',\n",
       " 'Consistently faded it',\n",
       " 'We pushed through the future blind',\n",
       " 'Was never afraid of it',\n",
       " 'The mind over matter, what matters over this part',\n",
       " 'We reach out forever through hip-hop or too much heart',\n",
       " 'To chart on a Billboard, to care about record sales',\n",
       " \"Put food on my table, I'm happy, plus I got lots of tales\",\n",
       " \"And stories for freakin' days, and friends that got family\",\n",
       " 'Now move 12 albums deep to document the humanity',\n",
       " 'With that']"
      ]
     },
     "execution_count": 23,
     "metadata": {},
     "output_type": "execute_result"
    }
   ],
   "source": [
    "lyrics_lines = lyrics_sample.split(\"\\n\")\n",
    "lyrics_lines"
   ]
  },
  {
   "cell_type": "code",
   "execution_count": 29,
   "metadata": {},
   "outputs": [],
   "source": [
    "from phonemizer import phonemize\n",
    "\n",
    "text = [\"Catch a throatful from the fire vocal with ash and molten glass like Eyjafjallajökull\"]\n",
    "\n",
    "phonemized = phonemize(text, language='en-us', backend='espeak')"
   ]
  },
  {
   "cell_type": "code",
   "execution_count": 30,
   "metadata": {},
   "outputs": [
    {
     "data": {
      "text/plain": [
       "['kætʃ ɐ θɹoʊtfəl fɹʌmðə faɪɚ voʊkəl wɪð æʃ ænd moʊltən ɡlæs laɪk eɪjɐfjætlɐjɜːkuːth ']"
      ]
     },
     "execution_count": 30,
     "metadata": {},
     "output_type": "execute_result"
    }
   ],
   "source": [
    "phonemized"
   ]
  }
 ],
 "metadata": {
  "kernelspec": {
   "display_name": "Python 3 (ipykernel)",
   "language": "python",
   "name": "python3"
  },
  "language_info": {
   "codemirror_mode": {
    "name": "ipython",
    "version": 3
   },
   "file_extension": ".py",
   "mimetype": "text/x-python",
   "name": "python",
   "nbconvert_exporter": "python",
   "pygments_lexer": "ipython3",
   "version": "3.8.10"
  },
  "toc": {
   "base_numbering": 1,
   "nav_menu": {},
   "number_sections": true,
   "sideBar": true,
   "skip_h1_title": false,
   "title_cell": "Table of Contents",
   "title_sidebar": "Contents",
   "toc_cell": false,
   "toc_position": {},
   "toc_section_display": true,
   "toc_window_display": false
  }
 },
 "nbformat": 4,
 "nbformat_minor": 2
}
