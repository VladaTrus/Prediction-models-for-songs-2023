{
 "cells": [
  {
   "attachments": {},
   "cell_type": "markdown",
   "metadata": {},
   "source": [
    "4) отсеять исполнителей, у которых меньше чем k треков (прикинуть количество из распределения слов на статье на пудинге)\n",
    "5) проверить доступность лирикса на Genius для каждого исполнителя, динамически отсеивая тех, для которых не набралось k песен с лириксом"
   ]
  },
  {
   "cell_type": "code",
   "execution_count": 2,
   "metadata": {},
   "outputs": [],
   "source": [
    "import pickle\n",
    "import re\n",
    "import time\n",
    "from os import listdir\n",
    "\n",
    "import numpy as np\n",
    "import pandas as pd\n",
    "import requests\n",
    "import seaborn as sns\n",
    "from matplotlib import pyplot as plt"
   ]
  },
  {
   "cell_type": "code",
   "execution_count": 67,
   "metadata": {},
   "outputs": [],
   "source": [
    "artists_info = pd.read_csv(\n",
    "    \"../data/generated/1.2-spotify_artists_info/artists_info.csv\"\n",
    ")"
   ]
  },
  {
   "cell_type": "code",
   "execution_count": 68,
   "metadata": {},
   "outputs": [],
   "source": [
    "import pickle\n",
    "\n",
    "retrieved = []\n",
    "for dir_i in range(1, 6):\n",
    "    path_to_dir = f\"../scripts/1.2-spotify_artists_albums_extraction/extracted_albums_info/pt_{dir_i}\"\n",
    "    files = listdir(path_to_dir)\n",
    "    for pickle_name in files:\n",
    "        with open(f\"{path_to_dir}/{pickle_name}\", \"rb\") as f:\n",
    "            pickle_part_ = pickle.load(f)\n",
    "            retrieved.append(pickle_part_)\n",
    "\n",
    "path_to_missings = (\n",
    "    \"../scripts/1.2-spotify_artists_albums_extraction/extracted_albums_info/missings\"\n",
    ")\n",
    "for missing_pickle in listdir(path_to_missings):\n",
    "    with open(f\"{path_to_missings}/{missing_pickle}\", \"rb\") as f:\n",
    "        pickle_part_ = pickle.load(f)\n",
    "        retrieved.append(pickle_part_)\n",
    "\n",
    "retrieved_df = pd.concat(retrieved)"
   ]
  },
  {
   "cell_type": "code",
   "execution_count": 71,
   "metadata": {},
   "outputs": [
    {
     "name": "stdout",
     "output_type": "stream",
     "text": [
      "By setting a cut-off point as 20000 words we lose 79.11% of the artists\n"
     ]
    }
   ],
   "source": [
    "tracks_n_nums = (\n",
    "    retrieved_df[[\"artist_id\", \"n_tracks\"]].groupby(\"artist_id\").count().n_tracks.values\n",
    ")\n",
    "cut_off_words = 20000\n",
    "cut_off_tracks = np.floor(cut_off_words / 700)\n",
    "\n",
    "print(\n",
    "    f\"By setting a cut-off point as {cut_off_words} words we lose {np.round((tracks_n_nums < cut_off_tracks).mean()*100, 2)}% of the artists\"\n",
    ")"
   ]
  },
  {
   "cell_type": "code",
   "execution_count": 6,
   "metadata": {},
   "outputs": [],
   "source": [
    "artist_albums_agg = retrieved_df[[\"artist_id\", \"n_tracks\"]].groupby(\"artist_id\").count()\n",
    "legit_ids = artist_albums_agg[artist_albums_agg[\"n_tracks\"] >= cut_off_tracks].index\n",
    "artists_albums_min_words = retrieved_df[retrieved_df[\"artist_id\"].isin(legit_ids)]"
   ]
  },
  {
   "cell_type": "code",
   "execution_count": 7,
   "metadata": {},
   "outputs": [
    {
     "data": {
      "text/html": [
       "<div>\n",
       "<style scoped>\n",
       "    .dataframe tbody tr th:only-of-type {\n",
       "        vertical-align: middle;\n",
       "    }\n",
       "\n",
       "    .dataframe tbody tr th {\n",
       "        vertical-align: top;\n",
       "    }\n",
       "\n",
       "    .dataframe thead th {\n",
       "        text-align: right;\n",
       "    }\n",
       "</style>\n",
       "<table border=\"1\" class=\"dataframe\">\n",
       "  <thead>\n",
       "    <tr style=\"text-align: right;\">\n",
       "      <th></th>\n",
       "      <th>genre</th>\n",
       "      <th>artist_name</th>\n",
       "      <th>artist_id</th>\n",
       "      <th>followers</th>\n",
       "      <th>genres</th>\n",
       "      <th>image_url</th>\n",
       "      <th>popularity</th>\n",
       "      <th>is_valid_genre</th>\n",
       "    </tr>\n",
       "  </thead>\n",
       "  <tbody>\n",
       "    <tr>\n",
       "      <th>4513</th>\n",
       "      <td>hip hop tuga</td>\n",
       "      <td>Preto Show</td>\n",
       "      <td>4YlvKlWWHJl1TuXvrk94OW</td>\n",
       "      <td>43266</td>\n",
       "      <td>hip hop tuga||kizomba||musica angolana||rap an...</td>\n",
       "      <td>https://i.scdn.co/image/ab6761610000e5ebffc89b...</td>\n",
       "      <td>39</td>\n",
       "      <td>True</td>\n",
       "    </tr>\n",
       "  </tbody>\n",
       "</table>\n",
       "</div>"
      ],
      "text/plain": [
       "             genre artist_name               artist_id  followers  \\\n",
       "4513  hip hop tuga  Preto Show  4YlvKlWWHJl1TuXvrk94OW      43266   \n",
       "\n",
       "                                                 genres  \\\n",
       "4513  hip hop tuga||kizomba||musica angolana||rap an...   \n",
       "\n",
       "                                              image_url  popularity  \\\n",
       "4513  https://i.scdn.co/image/ab6761610000e5ebffc89b...          39   \n",
       "\n",
       "      is_valid_genre  \n",
       "4513            True  "
      ]
     },
     "execution_count": 7,
     "metadata": {},
     "output_type": "execute_result"
    }
   ],
   "source": [
    "artists_albums_min_words[\"artist_id\"].unique()\n",
    "artists_info[artists_info[\"artist_name\"] == \"Preto Show\"]"
   ]
  },
  {
   "cell_type": "code",
   "execution_count": 8,
   "metadata": {},
   "outputs": [],
   "source": [
    "total_tracks = (\n",
    "    retrieved_df[[\"artist_id\", \"n_tracks\"]].groupby(\"artist_id\").sum().reset_index()\n",
    ")\n",
    "artists_to_retrieve_ids = total_tracks[total_tracks[\"n_tracks\"] > 20][\"artist_id\"]\n",
    "artists_to_retrieve_names = artists_info[\n",
    "    artists_info[\"artist_id\"].isin(artists_to_retrieve_ids)\n",
    "]"
   ]
  },
  {
   "cell_type": "code",
   "execution_count": 180,
   "metadata": {},
   "outputs": [],
   "source": [
    "gen_api_client = lyricsgenius.Genius(\n",
    "    \"69ryL9iFYcVyyotx4dwu0jHM7w6epbNcUije9veLy-eM1V0hH1KLU1dwSDsTlrgp\", verbose=False\n",
    ")"
   ]
  },
  {
   "cell_type": "code",
   "execution_count": 12,
   "metadata": {},
   "outputs": [],
   "source": [
    "album_ = gen_api_client.search_album(\"Кривой эфир\", \"ATL\")"
   ]
  },
  {
   "cell_type": "code",
   "execution_count": 73,
   "metadata": {},
   "outputs": [],
   "source": [
    "merged_full_artists = pd.merge(\n",
    "    retrieved_df, artists_info[[\"artist_name\", \"artist_id\"]], on=\"artist_id\"\n",
    ")\n",
    "merged_full_artists = merged_full_artists[merged_full_artists[\"release_date\"] != \"0000\"]\n",
    "artists_ids_list_full = merged_full_artists[\"artist_id\"].unique()"
   ]
  },
  {
   "cell_type": "code",
   "execution_count": 75,
   "metadata": {},
   "outputs": [
    {
     "data": {
      "text/html": [
       "<div>\n",
       "<style scoped>\n",
       "    .dataframe tbody tr th:only-of-type {\n",
       "        vertical-align: middle;\n",
       "    }\n",
       "\n",
       "    .dataframe tbody tr th {\n",
       "        vertical-align: top;\n",
       "    }\n",
       "\n",
       "    .dataframe thead th {\n",
       "        text-align: right;\n",
       "    }\n",
       "</style>\n",
       "<table border=\"1\" class=\"dataframe\">\n",
       "  <thead>\n",
       "    <tr style=\"text-align: right;\">\n",
       "      <th></th>\n",
       "      <th>artist_id</th>\n",
       "      <th>album_id</th>\n",
       "      <th>album_name</th>\n",
       "      <th>album_type</th>\n",
       "      <th>artists</th>\n",
       "      <th>release_date</th>\n",
       "      <th>n_tracks</th>\n",
       "      <th>artist_name</th>\n",
       "    </tr>\n",
       "  </thead>\n",
       "  <tbody>\n",
       "    <tr>\n",
       "      <th>128519</th>\n",
       "      <td>31L9u9oYb9kZIrkrCAxThc</td>\n",
       "      <td>1qFHduYUn2R2Gg8wpjc2Is</td>\n",
       "      <td>Kemotherapy I</td>\n",
       "      <td>album</td>\n",
       "      <td>31L9u9oYb9kZIrkrCAxThc</td>\n",
       "      <td>2021-09-09</td>\n",
       "      <td>12</td>\n",
       "      <td>Bull Dogg</td>\n",
       "    </tr>\n",
       "    <tr>\n",
       "      <th>128520</th>\n",
       "      <td>31L9u9oYb9kZIrkrCAxThc</td>\n",
       "      <td>7tgDEr4237vUKCp37qORap</td>\n",
       "      <td>Mood</td>\n",
       "      <td>single</td>\n",
       "      <td>31L9u9oYb9kZIrkrCAxThc</td>\n",
       "      <td>2021-07-07</td>\n",
       "      <td>1</td>\n",
       "      <td>Bull Dogg</td>\n",
       "    </tr>\n",
       "    <tr>\n",
       "      <th>128521</th>\n",
       "      <td>31L9u9oYb9kZIrkrCAxThc</td>\n",
       "      <td>3Oqja3LreapjbkwpmhE6RN</td>\n",
       "      <td>Byose Kuri Jah</td>\n",
       "      <td>single</td>\n",
       "      <td>31L9u9oYb9kZIrkrCAxThc</td>\n",
       "      <td>2020-07-14</td>\n",
       "      <td>3</td>\n",
       "      <td>Bull Dogg</td>\n",
       "    </tr>\n",
       "  </tbody>\n",
       "</table>\n",
       "</div>"
      ],
      "text/plain": [
       "                     artist_id                album_id      album_name  \\\n",
       "128519  31L9u9oYb9kZIrkrCAxThc  1qFHduYUn2R2Gg8wpjc2Is   Kemotherapy I   \n",
       "128520  31L9u9oYb9kZIrkrCAxThc  7tgDEr4237vUKCp37qORap            Mood   \n",
       "128521  31L9u9oYb9kZIrkrCAxThc  3Oqja3LreapjbkwpmhE6RN  Byose Kuri Jah   \n",
       "\n",
       "       album_type                 artists release_date  n_tracks artist_name  \n",
       "128519      album  31L9u9oYb9kZIrkrCAxThc   2021-09-09        12   Bull Dogg  \n",
       "128520     single  31L9u9oYb9kZIrkrCAxThc   2021-07-07         1   Bull Dogg  \n",
       "128521     single  31L9u9oYb9kZIrkrCAxThc   2020-07-14         3   Bull Dogg  "
      ]
     },
     "execution_count": 75,
     "metadata": {},
     "output_type": "execute_result"
    }
   ],
   "source": [
    "merged_full_artists[merged_full_artists[\"artist_id\"] == \"31L9u9oYb9kZIrkrCAxThc\"]"
   ]
  },
  {
   "cell_type": "code",
   "execution_count": 14,
   "metadata": {},
   "outputs": [
    {
     "ename": "NameError",
     "evalue": "name 'album' is not defined",
     "output_type": "error",
     "traceback": [
      "\u001b[0;31m---------------------------------------------------------------------------\u001b[0m",
      "\u001b[0;31mNameError\u001b[0m                                 Traceback (most recent call last)",
      "Cell \u001b[0;32mIn[14], line 1\u001b[0m\n\u001b[0;32m----> 1\u001b[0m album\u001b[39m.\u001b[39m\u001b[39m__dict__\u001b[39m[\u001b[39m'\u001b[39m\u001b[39mtracks\u001b[39m\u001b[39m'\u001b[39m][\u001b[39m0\u001b[39m]\u001b[39m.\u001b[39m\u001b[39m__dict__\u001b[39m[\u001b[39m'\u001b[39m\u001b[39msong\u001b[39m\u001b[39m'\u001b[39m]\u001b[39m.\u001b[39m\u001b[39m__dict__\u001b[39m[\u001b[39m'\u001b[39m\u001b[39mlyrics_state\u001b[39m\u001b[39m'\u001b[39m]\n",
      "\u001b[0;31mNameError\u001b[0m: name 'album' is not defined"
     ]
    }
   ],
   "source": [
    "album.__dict__[\"tracks\"][0].__dict__[\"song\"].__dict__[\"lyrics_state\"]"
   ]
  },
  {
   "cell_type": "code",
   "execution_count": null,
   "metadata": {},
   "outputs": [],
   "source": [
    "album = gen_api_client.search_album(name=\"Amarelo\", artist=\"Emicida\")"
   ]
  },
  {
   "cell_type": "code",
   "execution_count": null,
   "metadata": {},
   "outputs": [],
   "source": [
    "track_mixed = gen_api_client.search_song(title=\"Konstrukt\", artist=\"Oxxxymiron, Porchy\")"
   ]
  },
  {
   "cell_type": "code",
   "execution_count": null,
   "metadata": {},
   "outputs": [
    {
     "data": {
      "text/plain": [
       "'ru'"
      ]
     },
     "execution_count": 52,
     "metadata": {},
     "output_type": "execute_result"
    }
   ],
   "source": [
    "track_mixed.__dict__[\"_body\"][\"language\"]"
   ]
  },
  {
   "cell_type": "code",
   "execution_count": null,
   "metadata": {},
   "outputs": [],
   "source": [
    "album_bad = gen_api_client.search_album(\n",
    "    name=\"Be More Chill\", artist=\"Be More Chill Ensemble\"\n",
    ")"
   ]
  },
  {
   "cell_type": "code",
   "execution_count": null,
   "metadata": {},
   "outputs": [
    {
     "data": {
      "text/plain": [
       "True"
      ]
     },
     "execution_count": 70,
     "metadata": {},
     "output_type": "execute_result"
    }
   ],
   "source": [
    "album_bad.__dict__[\"tracks\"][0].__dict__[\"_body\"][\"song\"][\"instrumental\"]"
   ]
  },
  {
   "cell_type": "code",
   "execution_count": null,
   "metadata": {},
   "outputs": [
    {
     "data": {
      "text/plain": [
       "dict_keys(['_type', 'annotation_count', 'api_path', 'artist_names', 'full_title', 'header_image_thumbnail_url', 'header_image_url', 'id', 'instrumental', 'language', 'lyrics_owner_id', 'lyrics_state', 'lyrics_updated_at', 'path', 'pyongs_count', 'relationships_index_url', 'release_date_components', 'release_date_for_display', 'release_date_with_abbreviated_month_for_display', 'song_art_image_thumbnail_url', 'song_art_image_url', 'stats', 'title', 'title_with_featured', 'updated_by_human_at', 'url', 'featured_artists', 'primary_artist'])"
      ]
     },
     "execution_count": 33,
     "metadata": {},
     "output_type": "execute_result"
    }
   ],
   "source": [
    "album_.__dict__[\"tracks\"][0].__dict__[\"song\"].__dict__[\"_body\"].keys()"
   ]
  },
  {
   "cell_type": "code",
   "execution_count": null,
   "metadata": {},
   "outputs": [
    {
     "ename": "KeyError",
     "evalue": "'lyrics'",
     "output_type": "error",
     "traceback": [
      "\u001b[0;31m---------------------------------------------------------------------------\u001b[0m",
      "\u001b[0;31mKeyError\u001b[0m                                  Traceback (most recent call last)",
      "Cell \u001b[0;32mIn[53], line 1\u001b[0m\n\u001b[0;32m----> 1\u001b[0m album_\u001b[39m.\u001b[39;49m\u001b[39m__dict__\u001b[39;49m[\u001b[39m'\u001b[39;49m\u001b[39mtracks\u001b[39;49m\u001b[39m'\u001b[39;49m][\u001b[39m0\u001b[39;49m]\u001b[39m.\u001b[39;49m\u001b[39m__dict__\u001b[39;49m[\u001b[39m'\u001b[39;49m\u001b[39msong\u001b[39;49m\u001b[39m'\u001b[39;49m]\u001b[39m.\u001b[39;49m\u001b[39m__dict__\u001b[39;49m[\u001b[39m'\u001b[39;49m\u001b[39m_body\u001b[39;49m\u001b[39m'\u001b[39;49m][\u001b[39m'\u001b[39;49m\u001b[39mlyrics\u001b[39;49m\u001b[39m'\u001b[39;49m]\n",
      "\u001b[0;31mKeyError\u001b[0m: 'lyrics'"
     ]
    }
   ],
   "source": [
    "album_.__dict__[\"tracks\"][0].__dict__[\"song\"].__dict__[\"_body\"][\"lyrics\"]"
   ]
  },
  {
   "cell_type": "code",
   "execution_count": null,
   "metadata": {},
   "outputs": [
    {
     "data": {
      "text/plain": [
       "'Кривой эфир (Curve Broadcast)'"
      ]
     },
     "execution_count": 76,
     "metadata": {},
     "output_type": "execute_result"
    }
   ],
   "source": [
    "album_.__dict__[\"tracks\"][0].__dict__[\"song\"].__dict__[\"_body\"][\"title\"]"
   ]
  },
  {
   "cell_type": "code",
   "execution_count": null,
   "metadata": {},
   "outputs": [
    {
     "data": {
      "text/plain": [
       "'Кривой эфир (Curve Broadcast)'"
      ]
     },
     "execution_count": 91,
     "metadata": {},
     "output_type": "execute_result"
    }
   ],
   "source": [
    "album_.__dict__[\"tracks\"][0].__dict__[\"song\"].__dict__[\"_body\"][\"title_with_featured\"]"
   ]
  },
  {
   "cell_type": "code",
   "execution_count": null,
   "metadata": {},
   "outputs": [
    {
     "data": {
      "text/plain": [
       "dict_keys(['_type', 'annotation_count', 'api_path', 'artist_names', 'full_title', 'header_image_thumbnail_url', 'header_image_url', 'id', 'instrumental', 'language', 'lyrics_owner_id', 'lyrics_state', 'lyrics_updated_at', 'path', 'pyongs_count', 'relationships_index_url', 'release_date_components', 'release_date_for_display', 'release_date_with_abbreviated_month_for_display', 'song_art_image_thumbnail_url', 'song_art_image_url', 'stats', 'title', 'title_with_featured', 'updated_by_human_at', 'url', 'featured_artists', 'primary_artist'])"
      ]
     },
     "execution_count": 32,
     "metadata": {},
     "output_type": "execute_result"
    }
   ],
   "source": [
    "album_.__dict__[\"tracks\"][0].__dict__[\"_body\"][\"song\"].keys()"
   ]
  },
  {
   "cell_type": "code",
   "execution_count": null,
   "metadata": {},
   "outputs": [
    {
     "data": {
      "text/plain": [
       "{'_type': 'artist',\n",
       " 'api_path': '/artists/1167808',\n",
       " 'header_image_url': 'https://images.genius.com/5f5903b50ee061570c48a30f727af0ab.1000x432x1.jpg',\n",
       " 'id': 1167808,\n",
       " 'image_url': 'https://images.genius.com/3e7ad2e3223bca6ab39fc3a34f5a3408.1000x1000x1.jpg',\n",
       " 'index_character': 'b',\n",
       " 'is_meme_verified': False,\n",
       " 'is_verified': False,\n",
       " 'name': 'Booking Machine',\n",
       " 'slug': 'Booking-machine',\n",
       " 'url': 'https://genius.com/artists/Booking-machine'}"
      ]
     },
     "execution_count": 36,
     "metadata": {},
     "output_type": "execute_result"
    }
   ],
   "source": [
    "track_mixed.__dict__[\"_body\"][\"primary_artist\"]"
   ]
  },
  {
   "cell_type": "code",
   "execution_count": null,
   "metadata": {},
   "outputs": [
    {
     "data": {
      "text/plain": [
       "'Кривой эфир (Distorted Broadcast)'"
      ]
     },
     "execution_count": 43,
     "metadata": {},
     "output_type": "execute_result"
    }
   ],
   "source": [
    "album_.__dict__[\"_body\"][\"name\"]"
   ]
  },
  {
   "cell_type": "code",
   "execution_count": null,
   "metadata": {},
   "outputs": [],
   "source": [
    "def is_track_ok(track):\n",
    "    song_dict = track.__dict__[\"song\"].__dict__\n",
    "    if song_dict[\"lyrics_state\"] != \"complete\":\n",
    "        return False\n",
    "    if song_dict[\"_body\"][\"instrumental\"]:\n",
    "        return False\n",
    "    if song_dict[\"_body\"][\"language\"] != \"en\":\n",
    "        return False\n",
    "    if not song_dict[\"lyrics\"]:\n",
    "        return False\n",
    "\n",
    "    return True\n",
    "\n",
    "\n",
    "def process_track_data(track, is_single=False):\n",
    "    if is_single:\n",
    "        song_dict = track.__dict__\n",
    "    else:\n",
    "        song_dict = track.__dict__[\"song\"].__dict__\n",
    "\n",
    "    # track data\n",
    "    lyrics = song_dict[\"lyrics\"]\n",
    "    annotation_count = song_dict[\"_body\"][\"annotation_count\"]\n",
    "    title_ = song_dict[\"_body\"][\"title\"]\n",
    "    title_with_featured = song_dict[\"_body\"][\"title_with_featured\"]\n",
    "    track_id = song_dict[\"_body\"][\"id\"]\n",
    "\n",
    "    _stats = song_dict[\"_body\"][\"stats\"]\n",
    "    try:\n",
    "        is_hot = _stats[\"hot\"]\n",
    "    except KeyError:\n",
    "        is_hot = None\n",
    "\n",
    "    try:\n",
    "        pageviews = _stats[\"pageviews\"]\n",
    "    except KeyError:\n",
    "        pageviews = None\n",
    "\n",
    "    # artist data\n",
    "\n",
    "    primary_artist_raw = song_dict[\"_body\"][\"primary_artist\"]\n",
    "    primary_artist_id = primary_artist_raw[\"id\"]\n",
    "    primary_artist_name = primary_artist_raw[\"name\"]\n",
    "\n",
    "    featured_artists_raw = song_dict[\"_body\"][\"featured_artists\"]\n",
    "    if featured_artists_raw:\n",
    "        featured_artists = [\n",
    "            [i[\"_type\"], i[\"id\"], i[\"name\"]] for i in featured_artists_raw\n",
    "        ]\n",
    "    else:\n",
    "        featured_artists = []\n",
    "\n",
    "    return [\n",
    "        [\n",
    "            track_id,\n",
    "            title_,\n",
    "            title_with_featured,\n",
    "            annotation_count,\n",
    "            is_hot,\n",
    "            pageviews,\n",
    "            lyrics,\n",
    "            primary_artist_id,\n",
    "            primary_artist_name,\n",
    "        ],\n",
    "        featured_artists,\n",
    "    ]\n",
    "\n",
    "\n",
    "def collect_album_data(artist_name, album_name, gen_api):\n",
    "    album_data = gen_api.search_album(name=album_name, artist=artist_name)\n",
    "    return album_data\n",
    "\n",
    "\n",
    "def process_album_data(album_, *args):\n",
    "    album_tracks = album_.__dict__[\"tracks\"]\n",
    "    n_tracks_album = len(album_.__dict__[\"tracks\"])\n",
    "    album_data = []\n",
    "    for track in album_tracks:\n",
    "        if not is_track_ok(track):\n",
    "            continue\n",
    "\n",
    "        track_info_genius, featured_artists = process_track_data(track)\n",
    "        album_data.append(\n",
    "            [track_info_genius, featured_artists, args]\n",
    "        )  # artist_id_spotify, album_name_spotify, album_type_spotify,\n",
    "    return album_data, n_tracks_album\n",
    "\n",
    "\n",
    "def collect_single_data(artist_name, single_name, gen_api):\n",
    "    single_data = gen_api.search_song(title=single_name, artist=artist_name)\n",
    "    return single_data"
   ]
  },
  {
   "cell_type": "code",
   "execution_count": null,
   "metadata": {},
   "outputs": [
    {
     "data": {
      "text/html": [
       "<div>\n",
       "<style scoped>\n",
       "    .dataframe tbody tr th:only-of-type {\n",
       "        vertical-align: middle;\n",
       "    }\n",
       "\n",
       "    .dataframe tbody tr th {\n",
       "        vertical-align: top;\n",
       "    }\n",
       "\n",
       "    .dataframe thead th {\n",
       "        text-align: right;\n",
       "    }\n",
       "</style>\n",
       "<table border=\"1\" class=\"dataframe\">\n",
       "  <thead>\n",
       "    <tr style=\"text-align: right;\">\n",
       "      <th></th>\n",
       "      <th>artist_id</th>\n",
       "      <th>album_id</th>\n",
       "      <th>album_name</th>\n",
       "      <th>album_type</th>\n",
       "      <th>artists</th>\n",
       "      <th>release_date</th>\n",
       "      <th>n_tracks</th>\n",
       "      <th>artist_name</th>\n",
       "    </tr>\n",
       "  </thead>\n",
       "  <tbody>\n",
       "    <tr>\n",
       "      <th>405918</th>\n",
       "      <td>17kX2iCte2ZwbtwhIF7bBq</td>\n",
       "      <td>7HUNKLZXUpf9PNmihCjg6a</td>\n",
       "      <td>Porta (Freestyle)</td>\n",
       "      <td>single</td>\n",
       "      <td>17kX2iCte2ZwbtwhIF7bBq</td>\n",
       "      <td>2023-06-06</td>\n",
       "      <td>1</td>\n",
       "      <td>Black K</td>\n",
       "    </tr>\n",
       "    <tr>\n",
       "      <th>163410</th>\n",
       "      <td>0kEfub5RzlZOB2zGomqVSU</td>\n",
       "      <td>4ShnBsLIY7i42sluMXvn9U</td>\n",
       "      <td>The Comment (Mixes)</td>\n",
       "      <td>single</td>\n",
       "      <td>0kEfub5RzlZOB2zGomqVSU|7lgauJ5ZMIIwrJwvUvrWC4</td>\n",
       "      <td>2023-05-26</td>\n",
       "      <td>2</td>\n",
       "      <td>Gil Scott-Heron</td>\n",
       "    </tr>\n",
       "    <tr>\n",
       "      <th>163411</th>\n",
       "      <td>0kEfub5RzlZOB2zGomqVSU</td>\n",
       "      <td>2TrdvdDY8MzA8YcePXsNhZ</td>\n",
       "      <td>Whitey On The Moon</td>\n",
       "      <td>single</td>\n",
       "      <td>0kEfub5RzlZOB2zGomqVSU|7lgauJ5ZMIIwrJwvUvrWC4</td>\n",
       "      <td>2023-05-26</td>\n",
       "      <td>2</td>\n",
       "      <td>Gil Scott-Heron</td>\n",
       "    </tr>\n",
       "    <tr>\n",
       "      <th>1408</th>\n",
       "      <td>0FUsrstJwmg4WVHQMTYuUA</td>\n",
       "      <td>71kPiLmNbaT0eylc5Ycvdj</td>\n",
       "      <td>Prenses (Remix)</td>\n",
       "      <td>single</td>\n",
       "      <td>0FUsrstJwmg4WVHQMTYuUA</td>\n",
       "      <td>2023-05-03</td>\n",
       "      <td>1</td>\n",
       "      <td>Şehinşah</td>\n",
       "    </tr>\n",
       "    <tr>\n",
       "      <th>150779</th>\n",
       "      <td>6XQrv3AiNUS61JFK1VITTU</td>\n",
       "      <td>3yvd16lFMNCqDoiaqjo0Qx</td>\n",
       "      <td>Fragmentado</td>\n",
       "      <td>single</td>\n",
       "      <td>62sKdgq98PB8klSTM8Qvaw|6XQrv3AiNUS61JFK1VITTU|...</td>\n",
       "      <td>2023-04-07</td>\n",
       "      <td>1</td>\n",
       "      <td>Jean Tassy</td>\n",
       "    </tr>\n",
       "    <tr>\n",
       "      <th>...</th>\n",
       "      <td>...</td>\n",
       "      <td>...</td>\n",
       "      <td>...</td>\n",
       "      <td>...</td>\n",
       "      <td>...</td>\n",
       "      <td>...</td>\n",
       "      <td>...</td>\n",
       "      <td>...</td>\n",
       "    </tr>\n",
       "    <tr>\n",
       "      <th>207535</th>\n",
       "      <td>3ctWmmsiRK0L4BsQsfYJ4V</td>\n",
       "      <td>0ivNYmsFWwW7COWIin7S1k</td>\n",
       "      <td>Obiecana Ziemia</td>\n",
       "      <td>album</td>\n",
       "      <td>3ctWmmsiRK0L4BsQsfYJ4V</td>\n",
       "      <td>1900</td>\n",
       "      <td>15</td>\n",
       "      <td>Thinkadelic</td>\n",
       "    </tr>\n",
       "    <tr>\n",
       "      <th>207534</th>\n",
       "      <td>3ctWmmsiRK0L4BsQsfYJ4V</td>\n",
       "      <td>7gW25CIhTdWOZJUsIbSlyV</td>\n",
       "      <td>Obiecana Ziemia</td>\n",
       "      <td>album</td>\n",
       "      <td>3ctWmmsiRK0L4BsQsfYJ4V</td>\n",
       "      <td>1900</td>\n",
       "      <td>15</td>\n",
       "      <td>Thinkadelic</td>\n",
       "    </tr>\n",
       "    <tr>\n",
       "      <th>207378</th>\n",
       "      <td>69hBq9L22B5LOu2gkbBRlb</td>\n",
       "      <td>4Zs14OydKIxTwcU6Y7ZI0Z</td>\n",
       "      <td>Ironia</td>\n",
       "      <td>album</td>\n",
       "      <td>69hBq9L22B5LOu2gkbBRlb</td>\n",
       "      <td>1900</td>\n",
       "      <td>15</td>\n",
       "      <td>Pareslow</td>\n",
       "    </tr>\n",
       "    <tr>\n",
       "      <th>207379</th>\n",
       "      <td>69hBq9L22B5LOu2gkbBRlb</td>\n",
       "      <td>4N7t5W4ZfkLlJ6WKT3KaOI</td>\n",
       "      <td>Galaktao</td>\n",
       "      <td>album</td>\n",
       "      <td>69hBq9L22B5LOu2gkbBRlb</td>\n",
       "      <td>1900</td>\n",
       "      <td>20</td>\n",
       "      <td>Pareslow</td>\n",
       "    </tr>\n",
       "    <tr>\n",
       "      <th>531412</th>\n",
       "      <td>45QCMNCvbNaU269mTbgnsO</td>\n",
       "      <td>1qKpjxSuQgD3E3p5kT4etZ</td>\n",
       "      <td>Esperando Você</td>\n",
       "      <td>album</td>\n",
       "      <td>45QCMNCvbNaU269mTbgnsO</td>\n",
       "      <td>1899</td>\n",
       "      <td>12</td>\n",
       "      <td>Magno</td>\n",
       "    </tr>\n",
       "  </tbody>\n",
       "</table>\n",
       "<p>612475 rows × 8 columns</p>\n",
       "</div>"
      ],
      "text/plain": [
       "                     artist_id                album_id           album_name  \\\n",
       "405918  17kX2iCte2ZwbtwhIF7bBq  7HUNKLZXUpf9PNmihCjg6a    Porta (Freestyle)   \n",
       "163410  0kEfub5RzlZOB2zGomqVSU  4ShnBsLIY7i42sluMXvn9U  The Comment (Mixes)   \n",
       "163411  0kEfub5RzlZOB2zGomqVSU  2TrdvdDY8MzA8YcePXsNhZ   Whitey On The Moon   \n",
       "1408    0FUsrstJwmg4WVHQMTYuUA  71kPiLmNbaT0eylc5Ycvdj      Prenses (Remix)   \n",
       "150779  6XQrv3AiNUS61JFK1VITTU  3yvd16lFMNCqDoiaqjo0Qx          Fragmentado   \n",
       "...                        ...                     ...                  ...   \n",
       "207535  3ctWmmsiRK0L4BsQsfYJ4V  0ivNYmsFWwW7COWIin7S1k      Obiecana Ziemia   \n",
       "207534  3ctWmmsiRK0L4BsQsfYJ4V  7gW25CIhTdWOZJUsIbSlyV      Obiecana Ziemia   \n",
       "207378  69hBq9L22B5LOu2gkbBRlb  4Zs14OydKIxTwcU6Y7ZI0Z               Ironia   \n",
       "207379  69hBq9L22B5LOu2gkbBRlb  4N7t5W4ZfkLlJ6WKT3KaOI             Galaktao   \n",
       "531412  45QCMNCvbNaU269mTbgnsO  1qKpjxSuQgD3E3p5kT4etZ       Esperando Você   \n",
       "\n",
       "       album_type                                            artists  \\\n",
       "405918     single                             17kX2iCte2ZwbtwhIF7bBq   \n",
       "163410     single      0kEfub5RzlZOB2zGomqVSU|7lgauJ5ZMIIwrJwvUvrWC4   \n",
       "163411     single      0kEfub5RzlZOB2zGomqVSU|7lgauJ5ZMIIwrJwvUvrWC4   \n",
       "1408       single                             0FUsrstJwmg4WVHQMTYuUA   \n",
       "150779     single  62sKdgq98PB8klSTM8Qvaw|6XQrv3AiNUS61JFK1VITTU|...   \n",
       "...           ...                                                ...   \n",
       "207535      album                             3ctWmmsiRK0L4BsQsfYJ4V   \n",
       "207534      album                             3ctWmmsiRK0L4BsQsfYJ4V   \n",
       "207378      album                             69hBq9L22B5LOu2gkbBRlb   \n",
       "207379      album                             69hBq9L22B5LOu2gkbBRlb   \n",
       "531412      album                             45QCMNCvbNaU269mTbgnsO   \n",
       "\n",
       "       release_date  n_tracks      artist_name  \n",
       "405918   2023-06-06         1          Black K  \n",
       "163410   2023-05-26         2  Gil Scott-Heron  \n",
       "163411   2023-05-26         2  Gil Scott-Heron  \n",
       "1408     2023-05-03         1         Şehinşah  \n",
       "150779   2023-04-07         1       Jean Tassy  \n",
       "...             ...       ...              ...  \n",
       "207535         1900        15      Thinkadelic  \n",
       "207534         1900        15      Thinkadelic  \n",
       "207378         1900        15         Pareslow  \n",
       "207379         1900        20         Pareslow  \n",
       "531412         1899        12            Magno  \n",
       "\n",
       "[612475 rows x 8 columns]"
      ]
     },
     "execution_count": 81,
     "metadata": {},
     "output_type": "execute_result"
    }
   ],
   "source": [
    "merged_full_artists.sort_values(by=\"release_date\", ascending=False)"
   ]
  },
  {
   "cell_type": "code",
   "execution_count": null,
   "metadata": {},
   "outputs": [
    {
     "data": {
      "text/plain": [
       "array(['0DOixxvuN7cxZ7YiyMzlOt', '3DOJU0CqEqSdfFIMGiykRv',\n",
       "       '71SuRO9s3mJNnwAlw7TD7l', ..., '1qOsx30xuEUpA6XpJSsoIN',\n",
       "       '4vb1fNDFbTmCBI3VINepk7', '6nELoJ6eMXfYHX5xocKf33'], dtype=object)"
      ]
     },
     "execution_count": 17,
     "metadata": {},
     "output_type": "execute_result"
    }
   ],
   "source": [
    "artists_ids_list_full"
   ]
  },
  {
   "cell_type": "code",
   "execution_count": null,
   "metadata": {},
   "outputs": [
    {
     "data": {
      "text/plain": [
       "Album(id, artist, ...)"
      ]
     },
     "execution_count": 25,
     "metadata": {},
     "output_type": "execute_result"
    }
   ],
   "source": [
    "album_bad"
   ]
  },
  {
   "cell_type": "code",
   "execution_count": 27,
   "metadata": {},
   "outputs": [
    {
     "data": {
      "text/html": [
       "<div>\n",
       "<style scoped>\n",
       "    .dataframe tbody tr th:only-of-type {\n",
       "        vertical-align: middle;\n",
       "    }\n",
       "\n",
       "    .dataframe tbody tr th {\n",
       "        vertical-align: top;\n",
       "    }\n",
       "\n",
       "    .dataframe thead th {\n",
       "        text-align: right;\n",
       "    }\n",
       "</style>\n",
       "<table border=\"1\" class=\"dataframe\">\n",
       "  <thead>\n",
       "    <tr style=\"text-align: right;\">\n",
       "      <th></th>\n",
       "      <th>artist_id</th>\n",
       "      <th>album_id</th>\n",
       "      <th>album_name</th>\n",
       "      <th>album_type</th>\n",
       "      <th>artists</th>\n",
       "      <th>release_date</th>\n",
       "      <th>n_tracks</th>\n",
       "      <th>artist_name</th>\n",
       "    </tr>\n",
       "  </thead>\n",
       "  <tbody>\n",
       "    <tr>\n",
       "      <th>0</th>\n",
       "      <td>0DOixxvuN7cxZ7YiyMzlOt</td>\n",
       "      <td>0kQduCUJJoJsKVJ6zr67nB</td>\n",
       "      <td>Lisboa Azul (Original Series Soundtrack)</td>\n",
       "      <td>album</td>\n",
       "      <td>0DOixxvuN7cxZ7YiyMzlOt</td>\n",
       "      <td>2019-10-23</td>\n",
       "      <td>19</td>\n",
       "      <td>Johnny Virtus</td>\n",
       "    </tr>\n",
       "    <tr>\n",
       "      <th>1</th>\n",
       "      <td>0DOixxvuN7cxZ7YiyMzlOt</td>\n",
       "      <td>6FjefVWpWhfmrOIX7SKKvl</td>\n",
       "      <td>UniVersos</td>\n",
       "      <td>album</td>\n",
       "      <td>0DOixxvuN7cxZ7YiyMzlOt</td>\n",
       "      <td>2012-01-21</td>\n",
       "      <td>20</td>\n",
       "      <td>Johnny Virtus</td>\n",
       "    </tr>\n",
       "    <tr>\n",
       "      <th>2</th>\n",
       "      <td>0DOixxvuN7cxZ7YiyMzlOt</td>\n",
       "      <td>15G7TOQBrQD0huFgZMIXKQ</td>\n",
       "      <td>Não Posso Agora</td>\n",
       "      <td>single</td>\n",
       "      <td>0DOixxvuN7cxZ7YiyMzlOt</td>\n",
       "      <td>2023-02-10</td>\n",
       "      <td>1</td>\n",
       "      <td>Johnny Virtus</td>\n",
       "    </tr>\n",
       "    <tr>\n",
       "      <th>3</th>\n",
       "      <td>0DOixxvuN7cxZ7YiyMzlOt</td>\n",
       "      <td>148fCYh6wwJ3EQ1L5nDSG3</td>\n",
       "      <td>Sicklos</td>\n",
       "      <td>single</td>\n",
       "      <td>0DOixxvuN7cxZ7YiyMzlOt</td>\n",
       "      <td>2022-06-29</td>\n",
       "      <td>1</td>\n",
       "      <td>Johnny Virtus</td>\n",
       "    </tr>\n",
       "    <tr>\n",
       "      <th>4</th>\n",
       "      <td>0DOixxvuN7cxZ7YiyMzlOt</td>\n",
       "      <td>6vP5NkRvMajnbHh3crLRns</td>\n",
       "      <td>Conversa em Dia</td>\n",
       "      <td>single</td>\n",
       "      <td>0DOixxvuN7cxZ7YiyMzlOt</td>\n",
       "      <td>2021-02-12</td>\n",
       "      <td>1</td>\n",
       "      <td>Johnny Virtus</td>\n",
       "    </tr>\n",
       "    <tr>\n",
       "      <th>...</th>\n",
       "      <td>...</td>\n",
       "      <td>...</td>\n",
       "      <td>...</td>\n",
       "      <td>...</td>\n",
       "      <td>...</td>\n",
       "      <td>...</td>\n",
       "      <td>...</td>\n",
       "      <td>...</td>\n",
       "    </tr>\n",
       "    <tr>\n",
       "      <th>612477</th>\n",
       "      <td>6nELoJ6eMXfYHX5xocKf33</td>\n",
       "      <td>2FzUHjvyicfBWDD5o534DH</td>\n",
       "      <td>Prosper</td>\n",
       "      <td>single</td>\n",
       "      <td>6nELoJ6eMXfYHX5xocKf33</td>\n",
       "      <td>2021-04-09</td>\n",
       "      <td>1</td>\n",
       "      <td>S.O.</td>\n",
       "    </tr>\n",
       "    <tr>\n",
       "      <th>612478</th>\n",
       "      <td>6nELoJ6eMXfYHX5xocKf33</td>\n",
       "      <td>4cam4h7xk2aA2QJAYE0PhD</td>\n",
       "      <td>Closer</td>\n",
       "      <td>single</td>\n",
       "      <td>455WReaTbCB1fEjWrV29x4|6nELoJ6eMXfYHX5xocKf33</td>\n",
       "      <td>2021-03-12</td>\n",
       "      <td>1</td>\n",
       "      <td>S.O.</td>\n",
       "    </tr>\n",
       "    <tr>\n",
       "      <th>612479</th>\n",
       "      <td>6nELoJ6eMXfYHX5xocKf33</td>\n",
       "      <td>4EVqXVMvFc6JDLNWyxUeww</td>\n",
       "      <td>All I Know</td>\n",
       "      <td>single</td>\n",
       "      <td>4w00ajMRfMhWzm7a88Hlon|6nELoJ6eMXfYHX5xocKf33|...</td>\n",
       "      <td>2021-02-26</td>\n",
       "      <td>1</td>\n",
       "      <td>S.O.</td>\n",
       "    </tr>\n",
       "    <tr>\n",
       "      <th>612480</th>\n",
       "      <td>6nELoJ6eMXfYHX5xocKf33</td>\n",
       "      <td>05hG4ktRZrQMWiZvVssJsC</td>\n",
       "      <td>Pray for Me</td>\n",
       "      <td>single</td>\n",
       "      <td>6RPalPy5qqMN2iHkKEVYFu|0gOMnWbGP52F3paKcp5Ts2|...</td>\n",
       "      <td>2020-06-12</td>\n",
       "      <td>1</td>\n",
       "      <td>S.O.</td>\n",
       "    </tr>\n",
       "    <tr>\n",
       "      <th>612481</th>\n",
       "      <td>6nELoJ6eMXfYHX5xocKf33</td>\n",
       "      <td>44vjaJMeA3rfJLOPn3ApXC</td>\n",
       "      <td>Pray for Me</td>\n",
       "      <td>single</td>\n",
       "      <td>6RPalPy5qqMN2iHkKEVYFu|0gOMnWbGP52F3paKcp5Ts2|...</td>\n",
       "      <td>2020-06-12</td>\n",
       "      <td>1</td>\n",
       "      <td>S.O.</td>\n",
       "    </tr>\n",
       "  </tbody>\n",
       "</table>\n",
       "<p>612475 rows × 8 columns</p>\n",
       "</div>"
      ],
      "text/plain": [
       "                     artist_id                album_id  \\\n",
       "0       0DOixxvuN7cxZ7YiyMzlOt  0kQduCUJJoJsKVJ6zr67nB   \n",
       "1       0DOixxvuN7cxZ7YiyMzlOt  6FjefVWpWhfmrOIX7SKKvl   \n",
       "2       0DOixxvuN7cxZ7YiyMzlOt  15G7TOQBrQD0huFgZMIXKQ   \n",
       "3       0DOixxvuN7cxZ7YiyMzlOt  148fCYh6wwJ3EQ1L5nDSG3   \n",
       "4       0DOixxvuN7cxZ7YiyMzlOt  6vP5NkRvMajnbHh3crLRns   \n",
       "...                        ...                     ...   \n",
       "612477  6nELoJ6eMXfYHX5xocKf33  2FzUHjvyicfBWDD5o534DH   \n",
       "612478  6nELoJ6eMXfYHX5xocKf33  4cam4h7xk2aA2QJAYE0PhD   \n",
       "612479  6nELoJ6eMXfYHX5xocKf33  4EVqXVMvFc6JDLNWyxUeww   \n",
       "612480  6nELoJ6eMXfYHX5xocKf33  05hG4ktRZrQMWiZvVssJsC   \n",
       "612481  6nELoJ6eMXfYHX5xocKf33  44vjaJMeA3rfJLOPn3ApXC   \n",
       "\n",
       "                                      album_name album_type  \\\n",
       "0       Lisboa Azul (Original Series Soundtrack)      album   \n",
       "1                                      UniVersos      album   \n",
       "2                                Não Posso Agora     single   \n",
       "3                                        Sicklos     single   \n",
       "4                                Conversa em Dia     single   \n",
       "...                                          ...        ...   \n",
       "612477                                   Prosper     single   \n",
       "612478                                    Closer     single   \n",
       "612479                                All I Know     single   \n",
       "612480                               Pray for Me     single   \n",
       "612481                               Pray for Me     single   \n",
       "\n",
       "                                                  artists release_date  \\\n",
       "0                                  0DOixxvuN7cxZ7YiyMzlOt   2019-10-23   \n",
       "1                                  0DOixxvuN7cxZ7YiyMzlOt   2012-01-21   \n",
       "2                                  0DOixxvuN7cxZ7YiyMzlOt   2023-02-10   \n",
       "3                                  0DOixxvuN7cxZ7YiyMzlOt   2022-06-29   \n",
       "4                                  0DOixxvuN7cxZ7YiyMzlOt   2021-02-12   \n",
       "...                                                   ...          ...   \n",
       "612477                             6nELoJ6eMXfYHX5xocKf33   2021-04-09   \n",
       "612478      455WReaTbCB1fEjWrV29x4|6nELoJ6eMXfYHX5xocKf33   2021-03-12   \n",
       "612479  4w00ajMRfMhWzm7a88Hlon|6nELoJ6eMXfYHX5xocKf33|...   2021-02-26   \n",
       "612480  6RPalPy5qqMN2iHkKEVYFu|0gOMnWbGP52F3paKcp5Ts2|...   2020-06-12   \n",
       "612481  6RPalPy5qqMN2iHkKEVYFu|0gOMnWbGP52F3paKcp5Ts2|...   2020-06-12   \n",
       "\n",
       "        n_tracks    artist_name  \n",
       "0             19  Johnny Virtus  \n",
       "1             20  Johnny Virtus  \n",
       "2              1  Johnny Virtus  \n",
       "3              1  Johnny Virtus  \n",
       "4              1  Johnny Virtus  \n",
       "...          ...            ...  \n",
       "612477         1           S.O.  \n",
       "612478         1           S.O.  \n",
       "612479         1           S.O.  \n",
       "612480         1           S.O.  \n",
       "612481         1           S.O.  \n",
       "\n",
       "[612475 rows x 8 columns]"
      ]
     },
     "execution_count": 27,
     "metadata": {},
     "output_type": "execute_result"
    }
   ],
   "source": [
    "merged_full_artists"
   ]
  },
  {
   "cell_type": "code",
   "execution_count": 79,
   "metadata": {},
   "outputs": [
    {
     "data": {
      "text/plain": [
       "True"
      ]
     },
     "execution_count": 79,
     "metadata": {},
     "output_type": "execute_result"
    }
   ],
   "source": []
  },
  {
   "cell_type": "code",
   "execution_count": 16,
   "metadata": {},
   "outputs": [],
   "source": [
    "ids_split = np.array_split(artists_ids_list_full, 5)\n",
    "for i, split_ in enumerate(ids_split):\n",
    "    df_split = merged_full_artists[merged_full_artists[\"artist_id\"].isin(split_)]\n",
    "    with open(\n",
    "        f\"../data/generated/1.3-genius_ids_to_load/artists_ids_pt{i+1}.pickle\", \"wb\"\n",
    "    ) as f, open(\n",
    "        f\"../data/generated/1.3-genius_ids_to_load/artists_and_albums_ids_pt{i+1}.pickle\",\n",
    "        \"wb\",\n",
    "    ) as f1:\n",
    "        pickle.dump(split_, f)\n",
    "        pickle.dump(df_split, f1)"
   ]
  },
  {
   "cell_type": "code",
   "execution_count": null,
   "metadata": {},
   "outputs": [],
   "source": [
    "# TODO: 1) be sure that I also save the data related to initial query (album name, artist name)\n",
    "# 2) make sure I also include the artists which are in .feat (artists in retrieved_df) - hopefully, \\\n",
    "# I won't need to post-load additional data related to authentic names from Spotify\n",
    "# 3) create 5 separate scripts with separate tokens for lyrics retrieval\n",
    "\n",
    "for artist_id in artists_ids_list_full:\n",
    "    artist_discography = {artist_id: []}\n",
    "\n",
    "    sub_df = merged_full_artists[merged_full_artists[\"artist_id\"] == artist_id]\n",
    "    sub_df = sub_df.sort_values(by=\"release_date\", ascending=False)\n",
    "    artist_name = sub_df[\"artist_name\"]\n",
    "    data_saved = []\n",
    "\n",
    "    tracks_collected = 0\n",
    "    tracks_traversed = 0\n",
    "\n",
    "    tracks_max = sub_df[\"n_tracks\"].sum()\n",
    "    for i, df_row in sub_df.iterrows():\n",
    "        album_name = df_row[\"album_name\"]\n",
    "        album_type = df_row[\"album_type\"]\n",
    "        tracks_traversed += df_row[\"n_tracks\"]\n",
    "\n",
    "        if album_type == \"album\":\n",
    "            album_data = collect_album_data(artist_name, album_name, gen_api)\n",
    "            if not album_data:\n",
    "                continue\n",
    "            album_info, n_tracks = process_album_data(\n",
    "                album_data, album_name, album_type\n",
    "            )\n",
    "\n",
    "        elif album_type == \"single\":\n",
    "            single_data = collect_single_data(artist_name, album_name, gen_api)\n",
    "            if not single_data:\n",
    "                continue\n",
    "            album_info = [\n",
    "                process_track_data(single_data, is_single=True)\n",
    "                + [album_name, album_type]\n",
    "            ]\n",
    "            n_tracks = 1\n",
    "\n",
    "        tracks_collected += n_tracks\n",
    "\n",
    "        artist_discography[artist_id].append([album_info, n_tracks])\n",
    "        if tracks_max - tracks_traversed + tracks_collected < 15:\n",
    "            # add to the list of unfound artists and report how many albums were actually found\n",
    "            # TODO: Maybe save the data anyway to a separate directory\n",
    "            break\n",
    "\n",
    "        if tracks_collected > 65:\n",
    "            with open(f\"{artist_id}.pickle\", \"wb\") as f:\n",
    "                pickle.dump(artist_discography, f)\n",
    "            break"
   ]
  },
  {
   "attachments": {},
   "cell_type": "markdown",
   "metadata": {},
   "source": [
    "for legit_artist in list_artsists:\n",
    "    data_saved = []\n",
    "\n",
    "    tracks_collected = 0\n",
    "    tracks_traversed = 0\n",
    "    tracks_max = max_tracks(legit_artist)\n",
    "    for album_name in album_list(legit_artist):\n",
    "        \n",
    "        album_data = collect_album_data(legit_artist, album_name)\n",
    "        n_tracks_album = get_n_tracks(album_name)\n",
    "        for track in album_tracks:\n",
    "            if not_ok(track):\n",
    "                continue\n",
    "\n",
    "            # lyrics_state\n",
    "            lyrics = collect_lyrics(track)\n",
    "            other_info = collect_info(track)\n",
    "            data_save.append(lyrics, **other_info)\n",
    "            tracks_collected += 1\n",
    "        \n",
    "        tracks_traversed += n_tracks_album\n",
    "\n",
    "        if tracks_max - tracks_traversed + tracks_collected < 15:\n",
    "            break\n",
    "        \n",
    "        if tracks_collected > 65:\n",
    "            save_data\n",
    "            break\n",
    "            \n",
    "    "
   ]
  },
  {
   "cell_type": "code",
   "execution_count": 34,
   "metadata": {},
   "outputs": [],
   "source": [
    "import json\n",
    "\n",
    "PT = \"1\"\n",
    "LEFT_SUFFIX = \"\"\n",
    "EXTRACTION_PATH = \"../data/generated/1.3-genius_ids_to_load\"\n",
    "\n",
    "with open(\"../tokens/genius_tokens.json\", \"r\") as f:\n",
    "    genius_tokens = json.load(f)\n",
    "    genius_access_token = genius_tokens[PT][\"access_token\"]\n",
    "\n",
    "\n",
    "with open(\n",
    "    f\"{EXTRACTION_PATH}/artists_ids_pt{PT}{LEFT_SUFFIX}.pickle\", \"rb\"\n",
    ") as f1, open(\n",
    "    f\"{EXTRACTION_PATH}/artists_and_albums_ids_pt{PT}{LEFT_SUFFIX}.pickle\", \"rb\"\n",
    ") as f2:\n",
    "    artists_ids = pickle.load(f1)\n",
    "    df_artists_albums = pickle.load(f2)\n",
    "gen_api = lyricsgenius.Genius(genius_access_token, verbose=False)"
   ]
  },
  {
   "cell_type": "code",
   "execution_count": 26,
   "metadata": {},
   "outputs": [],
   "source": [
    "def is_track_ok(track):\n",
    "    song_dict = track.__dict__[\"song\"].__dict__\n",
    "    if song_dict[\"lyrics_state\"] != \"complete\":\n",
    "        return False\n",
    "    if song_dict[\"_body\"][\"instrumental\"]:\n",
    "        return False\n",
    "    if song_dict[\"_body\"][\"language\"] != \"en\":\n",
    "        return False\n",
    "    if not song_dict[\"lyrics\"]:\n",
    "        return False\n",
    "\n",
    "    return True\n",
    "\n",
    "\n",
    "def process_track_data(track, is_single=False):\n",
    "    if is_single:\n",
    "        song_dict = track.__dict__\n",
    "    else:\n",
    "        song_dict = track.__dict__[\"song\"].__dict__\n",
    "\n",
    "    # track data\n",
    "    lyrics = song_dict[\"lyrics\"]\n",
    "    annotation_count = song_dict[\"_body\"][\"annotation_count\"]\n",
    "    title_ = song_dict[\"_body\"][\"title\"]\n",
    "    title_with_featured = song_dict[\"_body\"][\"title_with_featured\"]\n",
    "    track_id = song_dict[\"_body\"][\"id\"]\n",
    "\n",
    "    _stats = song_dict[\"_body\"][\"stats\"]\n",
    "    try:\n",
    "        is_hot = _stats[\"hot\"]\n",
    "    except KeyError:\n",
    "        is_hot = None\n",
    "\n",
    "    try:\n",
    "        pageviews = _stats[\"pageviews\"]\n",
    "    except KeyError:\n",
    "        pageviews = None\n",
    "\n",
    "    # artist data\n",
    "\n",
    "    primary_artist_raw = song_dict[\"_body\"][\"primary_artist\"]\n",
    "    primary_artist_id = primary_artist_raw[\"id\"]\n",
    "    primary_artist_name = primary_artist_raw[\"name\"]\n",
    "\n",
    "    featured_artists_raw = song_dict[\"_body\"][\"featured_artists\"]\n",
    "    if featured_artists_raw:\n",
    "        featured_artists = [\n",
    "            [i[\"_type\"], i[\"id\"], i[\"name\"]] for i in featured_artists_raw\n",
    "        ]\n",
    "    else:\n",
    "        featured_artists = []\n",
    "\n",
    "    return [\n",
    "        [\n",
    "            track_id,\n",
    "            title_,\n",
    "            title_with_featured,\n",
    "            annotation_count,\n",
    "            is_hot,\n",
    "            pageviews,\n",
    "            lyrics,\n",
    "            primary_artist_id,\n",
    "            primary_artist_name,\n",
    "        ],\n",
    "        featured_artists,\n",
    "    ]\n",
    "\n",
    "\n",
    "def collect_album_data(artist_name, album_name, gen_api):\n",
    "    album_data = gen_api.search_album(name=album_name, artist=artist_name)\n",
    "    return album_data\n",
    "\n",
    "\n",
    "def process_album_data(album_, *args):\n",
    "    album_tracks = album_.__dict__[\"tracks\"]\n",
    "    n_tracks_album = len(album_.__dict__[\"tracks\"])\n",
    "    album_data = []\n",
    "    for track in album_tracks:\n",
    "        if not is_track_ok(track):\n",
    "            continue\n",
    "\n",
    "        track_info_genius, featured_artists = process_track_data(track)\n",
    "        album_data.append(\n",
    "            [track_info_genius, featured_artists, args]\n",
    "        )  # artist_id_spotify, album_name_spotify, album_type_spotify,\n",
    "    return album_data, n_tracks_album\n",
    "\n",
    "\n",
    "def collect_single_data(artist_name, single_name, gen_api):\n",
    "    single_data = gen_api.search_song(title=single_name, artist=artist_name)\n",
    "    return single_data"
   ]
  },
  {
   "cell_type": "code",
   "execution_count": 42,
   "metadata": {},
   "outputs": [],
   "source": [
    "artists_ids_left = artists_ids.copy()\n",
    "df_artists_albums_left = df_artists_albums.copy()\n",
    "\n",
    "for artist_id in artists_ids:\n",
    "    artist_discography = {artist_id: []}\n",
    "    sub_df = df_artists_albums[df_artists_albums[\"artist_id\"] == artist_id]\n",
    "    sub_df = sub_df.sort_values(by=\"release_date\", ascending=False)\n",
    "    artist_name = sub_df[\"artist_name\"].iloc[0]\n",
    "    data_saved = []\n",
    "    saved_full = False\n",
    "\n",
    "    tracks_collected = 0\n",
    "    tracks_traversed = 0\n",
    "\n",
    "    tracks_max = sub_df[\"n_tracks\"].sum()\n",
    "    for i, df_row in sub_df.iterrows():\n",
    "        album_name = df_row[\"album_name\"]\n",
    "        if album_name != \"UniVersos\":\n",
    "            continue\n",
    "\n",
    "        album_type = df_row[\"album_type\"]\n",
    "        tracks_traversed += df_row[\"n_tracks\"]\n",
    "\n",
    "        if album_type == \"album\":\n",
    "            album_data = collect_album_data(artist_name, album_name, gen_api)\n",
    "            if not album_data:\n",
    "                continue\n",
    "            album_info, n_tracks = process_album_data(\n",
    "                album_data, album_name, album_type\n",
    "            )\n",
    "\n",
    "        elif album_type == \"single\":\n",
    "            single_data = collect_single_data(artist_name, album_name, gen_api)\n",
    "            if not single_data:\n",
    "                continue\n",
    "            album_info = [\n",
    "                process_track_data(single_data, is_single=True)\n",
    "                + [album_name, album_type]\n",
    "            ]\n",
    "            n_tracks = 1\n",
    "\n",
    "        tracks_collected += n_tracks\n",
    "\n",
    "        artist_discography[artist_id].append([album_info, n_tracks])\n",
    "        if tracks_max - tracks_traversed + tracks_collected < 15:\n",
    "            with open(\n",
    "                f\"genius_track_info_extracted/artists_not_enough_data/{artist_id}.pickle\",\n",
    "                \"wb\",\n",
    "            ) as f:\n",
    "                pickle.dump(artist_discography, f)\n",
    "            break\n",
    "\n",
    "        if tracks_collected > 65:\n",
    "            with open(\n",
    "                f\"genius_track_info_extracted/genius_artists_pt{PT}/{artist_id}.pickle\",\n",
    "                \"wb\",\n",
    "            ) as f:\n",
    "                pickle.dump(artist_discography, f)\n",
    "            saved_full = True\n",
    "            break\n",
    "    if not saved_full:\n",
    "        with open(\n",
    "            f\"genius_track_info_extracted/artists_not_enough_data/{artist_id}.pickle\",\n",
    "            \"wb\",\n",
    "        ) as f:\n",
    "            pickle.dump(artist_discography, f)\n",
    "    artists_ids_left = np.delete(artists_ids, 0)\n",
    "    df_artists_albums_left = df_artists_albums[\n",
    "        df_artists_albums[\"artist_id\"] != artist_id\n",
    "    ]\n",
    "\n",
    "    break"
   ]
  },
  {
   "cell_type": "code",
   "execution_count": 84,
   "metadata": {},
   "outputs": [],
   "source": [
    "artists_pt1 = pd.read_pickle(\n",
    "    \"../scripts/1.3-genius_info_extraction/genius_track_info_extracted/genius_artists_pt1/2d9LRvQJnAXRijqIJDDs2K.pickle\"\n",
    ")"
   ]
  },
  {
   "cell_type": "code",
   "execution_count": 161,
   "metadata": {},
   "outputs": [
    {
     "data": {
      "text/plain": [
       "[[[[255844,\n",
       "    'País do Futebol',\n",
       "    'País do Futebol (Ft.\\xa0Emicida)',\n",
       "    28,\n",
       "    False,\n",
       "    8441,\n",
       "    'País do Futebol LyricsLetra de \"País do Futebol\" com MC Guimê e Emicida\\n\\n[Introdução do Clipe Oficial]\\nEmicida: A pior barreira memo é auto estima, tá ligado?\\nÉ porque, mano, sem maldade, quando você nasce num lugar como esse aqui, mano, as pessoas te empurra pra baixo memo. A sociedade inteira te empurra pra baixo, pra você não acreditar memo. Nóis tem que ir pro mundo e mostrar nossa verdade, contar nossa história, tá ligado?\\nIsso foi uma coisa que eu sempre acreditei desde o começo. Eu não sabia as ferramenta necessária e a música foi a ferramenta que eu encontrei pra, mano, mostrar pro mundo a minha verdade. E é muito parecido com o esporte, tá ligado? A grande maioria dos atleta aí, os melhor, os mais foda vem daqui. Os músico mais foda também vem daqui\\n\\nGuimê: É 0,1 % que hoje acredita, por quê? Porque a sociedade oferece isso aí pra molecada. E da onde sai os melhores jogadores? Sem querer falar, os da quebrada\\nEssa música, eu vou ser sincero pra você, acho que é uma música que eu acho a galera vai mais se identificar da minha história até hoje aí. Outras músicas já contam a minha realidade, mas essa eu acho que resume a total realidade. Histórias são parecidas e os moleque da quebrada vai se identificar muito\\n\\n[Refrão: MC Guime]\\nNo flow\\nPor onde a gente passa é show, fechou\\nE olha onde a gente chegou\\nEu sou país do futebol, nêgo\\nAté gringo\\ufeff sambou\\nTocou Neymar, é gol\\n[Verso 1: MC Guimê]\\nÓ minha pátria amada idolatrada, um salve à nossa nação\\nE, através dessa canção, hoje, posso fazer minha declaração\\nEntre house de boy, beco e vielas\\nJogando bola dentro da favela\\nPro menor, não tem coisa melhor\\nE a menina que sonha em ser uma atriz de novela\\nA rua é nossa, e eu sempre fui dela\\nDesde descalço, gastando canela\\nHoje, no asfalto de toda São Paulo\\nDe nave do ano, tô na passarela\\nNa chuva, no frio, no calor\\nNo samba, no rap e tambor\\nAs mãos pro céu, igual ao meu Redentor\\nAgradeço ao nosso Senhor\\n\\n[Refrão]\\nNo flow\\nPor onde a gente passa é show, fechou\\nE olha onde a gente chegou\\nEu sou país do futebol, negô\\nAté gringo\\ufeff sambou\\nTocou Neymar é gol\\nNo flow\\nPor onde a gente passa é show, fechou\\nE olha onde a gente chegou\\nEu sou país do futebol, negô\\nAté gringo\\ufeff sambou\\nTocou Neymar é gol\\nYou might also like[Interlúdio do Clipe Oficial]\\nNeymar: Não desistir, né?\\nIndependente de cê encontrar uma barreira na sua frente\\nSer menosprezado, falar que você ruim...\\nIsso aí acontece com todo mundo, já aconteceu comigo\\nE a gente tem que acreditar no nosso sonho, no que a gente quer\\nÉ difícil, mas tem que acreditar, né? Ter um sonho\\n\\nGuimé: Depois que eu acreditei que seria possível, tudo tá sendo possível\\n\\n[Verso 2: Emicida]\\nPoeira no boot, é cinza, Kichute, campão, barro na canela\\nMaloqueiro, fut, talento, É arte de chão, ouro de favela\\nImaginei, pique Boy do Charmes, voltei estilo Charles Dow\\nPra fazer a quebrada cantar memo, é tipo MC Lon\\nEu vim pelas taça, pois raça foi quase dois palito\\nOntem foi choro, hoje, tesouro e o coro grita: \"Tá Bonito\"\\nEu sou Zona Norte, fundão, swing de vagabundo\\nDos que venceu a desnutrição e, hoje, vai dominar o mundo\\n\\n[Refrão]\\nNo flow\\nPor onde a gente passa é show, fechou\\nE olha onde a gente chegou\\nEu sou país do futebol, negô\\nAté gringo\\ufeff sambou\\nTocou Neymar é gol\\nNo flow\\nPor onde a gente passa é show, fechou\\nE olha onde a gente chegou\\nEu sou país do futebol, negô\\nAté gringo\\ufeff sambou\\nTocou Neymar é gol11Embed',\n",
       "    87954,\n",
       "    'MC Guimê'],\n",
       "   [['artist', 13995, 'Emicida']],\n",
       "   'País do Futebol (No Flow)',\n",
       "   'single']],\n",
       " 1]"
      ]
     },
     "execution_count": 161,
     "metadata": {},
     "output_type": "execute_result"
    }
   ],
   "source": [
    "to_df = []\n",
    "columns = [\"\"]\n",
    "# for album_ in artists_pt1['2d9LRvQJnAXRijqIJDDs2K']:\n",
    "#     album_info, n_tracks = album_\n",
    "# track_info_genius, featured_artists, args]) # artist_id_spotify, album_name_spotify, album_type_spotify,\n",
    "album_data = artists_pt1[\"2d9LRvQJnAXRijqIJDDs2K\"][0][0][0]\n",
    "# track_id, title_, title_with_featured, annotation_count, is_hot, pageviews, lyrics, primary_artist_id, primary_artist_name\n",
    "artists_pt1[\"2d9LRvQJnAXRijqIJDDs2K\"][0]"
   ]
  },
  {
   "cell_type": "code",
   "execution_count": 2,
   "metadata": {},
   "outputs": [],
   "source": [
    "import pandas as pd"
   ]
  },
  {
   "cell_type": "code",
   "execution_count": 2,
   "metadata": {},
   "outputs": [],
   "source": [
    "sz = pd.read_pickle(\n",
    "    \"../scripts/1.3-genius_info_extraction/genius_track_info_extracted/genius_artists_pt2/2SrSdSvpminqmStGELCSNd.pickle\"\n",
    ")"
   ]
  },
  {
   "cell_type": "code",
   "execution_count": 3,
   "metadata": {},
   "outputs": [],
   "source": [
    "# a = pd.read_pickle(\"../scripts/1.3-genius_info_extraction/genius_track_info_extracted/artists_not_enough_data/0wgUke31RMnwy7q3CdhBIi.pickle\")\n",
    "ids = pd.read_pickle(\n",
    "    \"../data/generated/1.3-genius_ids_to_load/artists_ids_pt4_left.pickle\"\n",
    ")\n",
    "b = pd.read_pickle(\n",
    "    \"../data/generated/1.3-genius_ids_to_load/artists_and_albums_ids_pt4.pickle\"\n",
    ")"
   ]
  },
  {
   "cell_type": "code",
   "execution_count": 14,
   "metadata": {},
   "outputs": [
    {
     "data": {
      "text/html": [
       "<div>\n",
       "<style scoped>\n",
       "    .dataframe tbody tr th:only-of-type {\n",
       "        vertical-align: middle;\n",
       "    }\n",
       "\n",
       "    .dataframe tbody tr th {\n",
       "        vertical-align: top;\n",
       "    }\n",
       "\n",
       "    .dataframe thead th {\n",
       "        text-align: right;\n",
       "    }\n",
       "</style>\n",
       "<table border=\"1\" class=\"dataframe\">\n",
       "  <thead>\n",
       "    <tr style=\"text-align: right;\">\n",
       "      <th></th>\n",
       "      <th>artist_id</th>\n",
       "      <th>album_id</th>\n",
       "      <th>album_name</th>\n",
       "      <th>album_type</th>\n",
       "      <th>artists</th>\n",
       "      <th>release_date</th>\n",
       "      <th>n_tracks</th>\n",
       "      <th>artist_name</th>\n",
       "    </tr>\n",
       "  </thead>\n",
       "  <tbody>\n",
       "    <tr>\n",
       "      <th>442986</th>\n",
       "      <td>2wiZdRBsUPUbrmt5v24Y71</td>\n",
       "      <td>7uYMZWwSFI1CvaK4zceOJK</td>\n",
       "      <td>Isolation</td>\n",
       "      <td>album</td>\n",
       "      <td>2wiZdRBsUPUbrmt5v24Y71</td>\n",
       "      <td>2020-06-28</td>\n",
       "      <td>14</td>\n",
       "      <td>Fox</td>\n",
       "    </tr>\n",
       "  </tbody>\n",
       "</table>\n",
       "</div>"
      ],
      "text/plain": [
       "                     artist_id                album_id album_name album_type  \\\n",
       "442986  2wiZdRBsUPUbrmt5v24Y71  7uYMZWwSFI1CvaK4zceOJK  Isolation      album   \n",
       "\n",
       "                       artists release_date  n_tracks artist_name  \n",
       "442986  2wiZdRBsUPUbrmt5v24Y71   2020-06-28        14         Fox  "
      ]
     },
     "execution_count": 14,
     "metadata": {},
     "output_type": "execute_result"
    }
   ],
   "source": [
    "b[b[\"album_id\"] == \"7uYMZWwSFI1CvaK4zceOJK\"]"
   ]
  },
  {
   "cell_type": "code",
   "execution_count": null,
   "metadata": {},
   "outputs": [],
   "source": []
  },
  {
   "cell_type": "code",
   "execution_count": 1,
   "metadata": {},
   "outputs": [],
   "source": [
    "import lyricsgenius\n",
    "\n",
    "gen_api_client = lyricsgenius.Genius(\n",
    "    \"69ryL9iFYcVyyotx4dwu0jHM7w6epbNcUije9veLy-eM1V0hH1KLU1dwSDsTlrgp\", verbose=True\n",
    ")"
   ]
  },
  {
   "cell_type": "code",
   "execution_count": 2,
   "metadata": {},
   "outputs": [
    {
     "name": "stdout",
     "output_type": "stream",
     "text": [
      "Searching for \"Isolation\" by Fox...\n"
     ]
    }
   ],
   "source": [
    "a = gen_api_client.search_album(\"Isolation\", \"Fox\")"
   ]
  },
  {
   "cell_type": "code",
   "execution_count": 4,
   "metadata": {},
   "outputs": [
    {
     "data": {
      "text/html": [
       "<div>\n",
       "<style scoped>\n",
       "    .dataframe tbody tr th:only-of-type {\n",
       "        vertical-align: middle;\n",
       "    }\n",
       "\n",
       "    .dataframe tbody tr th {\n",
       "        vertical-align: top;\n",
       "    }\n",
       "\n",
       "    .dataframe thead th {\n",
       "        text-align: right;\n",
       "    }\n",
       "</style>\n",
       "<table border=\"1\" class=\"dataframe\">\n",
       "  <thead>\n",
       "    <tr style=\"text-align: right;\">\n",
       "      <th></th>\n",
       "      <th>artist_id</th>\n",
       "      <th>album_id</th>\n",
       "      <th>album_name</th>\n",
       "      <th>album_type</th>\n",
       "      <th>artists</th>\n",
       "      <th>release_date</th>\n",
       "      <th>n_tracks</th>\n",
       "      <th>artist_name</th>\n",
       "    </tr>\n",
       "  </thead>\n",
       "  <tbody>\n",
       "    <tr>\n",
       "      <th>1711</th>\n",
       "      <td>7Ml6UQvSODdViugwulEjWk</td>\n",
       "      <td>0OAgRLB9nS0n9YImE9sspX</td>\n",
       "      <td>Anlamayanlar da'Var (64Bars)</td>\n",
       "      <td>single</td>\n",
       "      <td>0JnDkp29FlLpGwsnub400t|7Ml6UQvSODdViugwulEjWk</td>\n",
       "      <td>2022-04-08</td>\n",
       "      <td>1</td>\n",
       "      <td>Da Poet</td>\n",
       "    </tr>\n",
       "    <tr>\n",
       "      <th>2186</th>\n",
       "      <td>0JnDkp29FlLpGwsnub400t</td>\n",
       "      <td>0OAgRLB9nS0n9YImE9sspX</td>\n",
       "      <td>Anlamayanlar da'Var (64Bars)</td>\n",
       "      <td>single</td>\n",
       "      <td>0JnDkp29FlLpGwsnub400t|7Ml6UQvSODdViugwulEjWk</td>\n",
       "      <td>2022-04-08</td>\n",
       "      <td>1</td>\n",
       "      <td>Kamufle</td>\n",
       "    </tr>\n",
       "  </tbody>\n",
       "</table>\n",
       "</div>"
      ],
      "text/plain": [
       "                   artist_id                album_id  \\\n",
       "1711  7Ml6UQvSODdViugwulEjWk  0OAgRLB9nS0n9YImE9sspX   \n",
       "2186  0JnDkp29FlLpGwsnub400t  0OAgRLB9nS0n9YImE9sspX   \n",
       "\n",
       "                        album_name album_type  \\\n",
       "1711  Anlamayanlar da'Var (64Bars)     single   \n",
       "2186  Anlamayanlar da'Var (64Bars)     single   \n",
       "\n",
       "                                            artists release_date  n_tracks  \\\n",
       "1711  0JnDkp29FlLpGwsnub400t|7Ml6UQvSODdViugwulEjWk   2022-04-08         1   \n",
       "2186  0JnDkp29FlLpGwsnub400t|7Ml6UQvSODdViugwulEjWk   2022-04-08         1   \n",
       "\n",
       "     artist_name  \n",
       "1711     Da Poet  \n",
       "2186     Kamufle  "
      ]
     },
     "execution_count": 4,
     "metadata": {},
     "output_type": "execute_result"
    }
   ],
   "source": [
    "b[b[\"album_id\"] == \"0OAgRLB9nS0n9YImE9sspX\"]"
   ]
  },
  {
   "cell_type": "code",
   "execution_count": 6,
   "metadata": {},
   "outputs": [],
   "source": [
    "from queue import Queue"
   ]
  },
  {
   "cell_type": "code",
   "execution_count": 7,
   "metadata": {},
   "outputs": [],
   "source": [
    "a = Queue"
   ]
  },
  {
   "cell_type": "code",
   "execution_count": 8,
   "metadata": {},
   "outputs": [
    {
     "ename": "TypeError",
     "evalue": "put() missing 1 required positional argument: 'item'",
     "output_type": "error",
     "traceback": [
      "\u001b[0;31m---------------------------------------------------------------------------\u001b[0m",
      "\u001b[0;31mTypeError\u001b[0m                                 Traceback (most recent call last)",
      "Cell \u001b[0;32mIn[8], line 1\u001b[0m\n\u001b[0;32m----> 1\u001b[0m a\u001b[39m.\u001b[39;49mput(\u001b[39m\"\u001b[39;49m\u001b[39mfdsfdfds\u001b[39;49m\u001b[39m\"\u001b[39;49m)\n",
      "\u001b[0;31mTypeError\u001b[0m: put() missing 1 required positional argument: 'item'"
     ]
    }
   ],
   "source": []
  }
 ],
 "metadata": {
  "kernelspec": {
   "display_name": "Python 3 (ipykernel)",
   "language": "python",
   "name": "python3"
  },
  "language_info": {
   "codemirror_mode": {
    "name": "ipython",
    "version": 3
   },
   "file_extension": ".py",
   "mimetype": "text/x-python",
   "name": "python",
   "nbconvert_exporter": "python",
   "pygments_lexer": "ipython3",
   "version": "3.10.12"
  },
  "vscode": {
   "interpreter": {
    "hash": "916dbcbb3f70747c44a77c7bcd40155683ae19c65e1c03b4aa3499c5328201f1"
   }
  }
 },
 "nbformat": 4,
 "nbformat_minor": 4
}
