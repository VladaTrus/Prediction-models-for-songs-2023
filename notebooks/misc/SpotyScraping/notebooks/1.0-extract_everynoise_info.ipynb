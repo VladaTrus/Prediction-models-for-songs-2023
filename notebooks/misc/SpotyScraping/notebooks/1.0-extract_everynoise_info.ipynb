{
 "cells": [
  {
   "cell_type": "code",
   "execution_count": 1,
   "metadata": {},
   "outputs": [],
   "source": [
    "import pickle\n",
    "import re\n",
    "\n",
    "import requests\n",
    "import tqdm\n",
    "from bs4 import BeautifulSoup"
   ]
  },
  {
   "cell_type": "markdown",
   "metadata": {},
   "source": [
    "### Парсим Everynoise"
   ]
  },
  {
   "cell_type": "markdown",
   "metadata": {},
   "source": [
    "Достаём из сервиса **Everynoise** Spotify's ids исполнителей каждого доступного на Everynoise жанра"
   ]
  },
  {
   "cell_type": "code",
   "execution_count": 2,
   "metadata": {},
   "outputs": [],
   "source": [
    "def get_genre_pages():\n",
    "    \"\"\"Retrieve urls of all genres with name containing *genre_name*\n",
    "\n",
    "    :genre_list: list of genre names\n",
    "    :return: list of links (to use globally, add locally defined *url* var prefix) with genre names [(genre_full_name, link), (...), ... ]\n",
    "    \"\"\"\n",
    "    url = \"https://everynoise.com/\"\n",
    "    resp = requests.get(url)\n",
    "    soup = BeautifulSoup(resp.content, \"lxml\")\n",
    "\n",
    "    genres_divs = soup.find_all(\"div\", class_=\"genre scanme\")\n",
    "\n",
    "    links = []\n",
    "\n",
    "    for genre_div in genres_divs:\n",
    "        genre_full_name = genre_div.text[:-2]  # to remove the \"» \" part\n",
    "\n",
    "        if re.findall(\"(^rap| rap|-rap|hip hop|hip-hop)\", genre_full_name):\n",
    "            href = genre_div.find(\"a\")[\"href\"]\n",
    "            links.append((genre_full_name, href))\n",
    "\n",
    "    return links\n",
    "\n",
    "\n",
    "def get_artist_names(genre_page_url):\n",
    "    \"\"\"Retrieve names of all artists within a genre page\"\"\"\n",
    "\n",
    "    full_address = \"https://everynoise.com/\" + genre_page_url\n",
    "    resp = requests.get(full_address)\n",
    "    soup = BeautifulSoup(resp.content, \"lxml\")\n",
    "\n",
    "    artist_names_divs = soup.find_all(\"div\", class_=\"genre scanme\")\n",
    "\n",
    "    artists_ids = []\n",
    "\n",
    "    for name_div in artist_names_divs:\n",
    "        spotify_artist_id = name_div.find(\"a\")[\"href\"]\n",
    "        everynoise_artist_name = name_div.text[:-2]\n",
    "        artists_ids.append((everynoise_artist_name, spotify_artist_id))\n",
    "\n",
    "    return artists_ids"
   ]
  },
  {
   "cell_type": "code",
   "execution_count": 3,
   "metadata": {},
   "outputs": [],
   "source": [
    "links = get_genre_pages()"
   ]
  },
  {
   "cell_type": "code",
   "execution_count": 4,
   "metadata": {},
   "outputs": [],
   "source": [
    "genre_names = dict()"
   ]
  },
  {
   "cell_type": "code",
   "execution_count": 7,
   "metadata": {},
   "outputs": [
    {
     "name": "stderr",
     "output_type": "stream",
     "text": [
      "100%|██████████| 424/424 [02:18<00:00,  3.07it/s]\n"
     ]
    }
   ],
   "source": [
    "for genre_name, href in tqdm.tqdm(links):\n",
    "    artists_ids = get_artist_names(href)\n",
    "    genre_names.update({genre_name: artists_ids})"
   ]
  },
  {
   "cell_type": "code",
   "execution_count": 8,
   "metadata": {},
   "outputs": [],
   "source": [
    "with open(\"everynoise_genres_artists_ids.pickle\", \"wb\") as f:\n",
    "    pickle.dump(genre_names, f)"
   ]
  }
 ],
 "metadata": {
  "kernelspec": {
   "display_name": "Python 3 (ipykernel)",
   "language": "python",
   "name": "python3"
  },
  "language_info": {
   "codemirror_mode": {
    "name": "ipython",
    "version": 3
   },
   "file_extension": ".py",
   "mimetype": "text/x-python",
   "name": "python",
   "nbconvert_exporter": "python",
   "pygments_lexer": "ipython3",
   "version": "3.10.12"
  },
  "toc": {
   "base_numbering": 1,
   "nav_menu": {},
   "number_sections": true,
   "sideBar": true,
   "skip_h1_title": false,
   "title_cell": "Table of Contents",
   "title_sidebar": "Contents",
   "toc_cell": false,
   "toc_position": {},
   "toc_section_display": true,
   "toc_window_display": false
  },
  "vscode": {
   "interpreter": {
    "hash": "31f2aee4e71d21fbe5cf8b01ff0e069b9275f58929596ceb00d14d90e3e16cd6"
   }
  }
 },
 "nbformat": 4,
 "nbformat_minor": 4
}
