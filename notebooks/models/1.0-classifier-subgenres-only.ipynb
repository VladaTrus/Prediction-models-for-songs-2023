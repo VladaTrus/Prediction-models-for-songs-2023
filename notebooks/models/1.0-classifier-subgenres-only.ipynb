{
 "cells": [
  {
   "cell_type": "code",
   "execution_count": 37,
   "id": "01aa22c2-b6f4-4230-ae05-b28fb3af5fe5",
   "metadata": {},
   "outputs": [],
   "source": [
    "import numpy as np\n",
    "import pandas as pd\n",
    "import skops.io as sio\n",
    "from sklearn.base import BaseEstimator, TransformerMixin\n",
    "from sklearn.compose import ColumnTransformer\n",
    "from sklearn.metrics import accuracy_score\n",
    "from sklearn.model_selection import train_test_split\n",
    "from sklearn.preprocessing import OneHotEncoder\n",
    "from sklearn.tree import DecisionTreeClassifier"
   ]
  },
  {
   "cell_type": "code",
   "execution_count": 7,
   "id": "32f9ee0f-cb1c-40bf-bbad-c3a2e99a1bcd",
   "metadata": {},
   "outputs": [],
   "source": [
    "np.random.seed(42)"
   ]
  },
  {
   "cell_type": "code",
   "execution_count": 8,
   "id": "fb8d294c-1991-44c8-8c60-b50b2a207682",
   "metadata": {},
   "outputs": [],
   "source": [
    "DATA_PATH = \"../../data/small_genres_tracks_df.pickle\"\n",
    "\n",
    "df_small_genres = pd.read_pickle(DATA_PATH)"
   ]
  },
  {
   "cell_type": "markdown",
   "id": "7aecf099-6c45-4021-bd96-189050a92a37",
   "metadata": {},
   "source": [
    "### Разделить датасет на train, test"
   ]
  },
  {
   "cell_type": "code",
   "execution_count": 19,
   "id": "223ed109-6fc0-4707-94c8-0491169757d2",
   "metadata": {},
   "outputs": [],
   "source": [
    "genre_counts = df_small_genres[\"genre\"].value_counts()\n",
    "df_majority = df_small_genres[\n",
    "    df_small_genres[\"genre\"].isin(genre_counts[genre_counts == 100].index)\n",
    "].reset_index(drop=True)\n",
    "features = [\n",
    "    \"track_duration_ms\",\n",
    "    \"track_explicit\",\n",
    "    \"danceability\",\n",
    "    \"energy\",\n",
    "    \"key\",\n",
    "    \"loudness\",\n",
    "    \"mode\",\n",
    "    \"speechiness\",\n",
    "    \"acousticness\",\n",
    "    \"instrumentalness\",\n",
    "    \"liveness\",\n",
    "    \"valence\",\n",
    "    \"tempo\",\n",
    "]\n",
    "X, y = df_majority[features], df_majority[\"genre\"]\n",
    "X.loc[:, \"track_explicit\"] = X[\"track_explicit\"].astype(int)\n",
    "# в трейн идут 80 объектов каждого жанра, в тест - 20\n",
    "train_df, test_df, y_train, y_test = train_test_split(\n",
    "    X, y, stratify=y, test_size=0.2, random_state=42\n",
    ")\n",
    "\n",
    "train_df[\"genre\"] = y_train\n",
    "test_df[\"genre\"] = y_test\n",
    "\n",
    "train_df.to_csv(\"data/train_test_subgenres_only/train.csv\", index_label=\"index\")\n",
    "test_df.to_csv(\"data/train_test_subgenres_only/test.csv\", index_label=\"index\")"
   ]
  },
  {
   "cell_type": "markdown",
   "id": "d60f6e59-e87d-49aa-9450-276b22a00156",
   "metadata": {},
   "source": [
    "### Подбор гиперпараметров"
   ]
  },
  {
   "cell_type": "markdown",
   "id": "21e5c6ac-5924-4f5d-ad48-95dc1738aab4",
   "metadata": {},
   "source": [
    "### Обучаем классификатор"
   ]
  },
  {
   "cell_type": "markdown",
   "id": "310f17bb-c599-4f9c-a9e0-699ca336faf1",
   "metadata": {},
   "source": [
    "#### Препроцессинг"
   ]
  },
  {
   "cell_type": "code",
   "execution_count": 5,
   "id": "b4fef944-3708-4add-a544-ff360097faf8",
   "metadata": {},
   "outputs": [],
   "source": [
    "class DataTransformer(BaseEstimator, TransformerMixin):\n",
    "    def __init__(self, columns):\n",
    "        self.columns = columns\n",
    "        self.preprocessor = ColumnTransformer(\n",
    "            transformers=[\n",
    "                (\n",
    "                    \"categorical features encoder\",\n",
    "                    OneHotEncoder(drop=\"first\"),\n",
    "                    self.columns,\n",
    "                ),\n",
    "            ],\n",
    "            remainder=\"passthrough\",\n",
    "        )\n",
    "\n",
    "    def fit(self, X, y=None):\n",
    "        self.preprocessor.fit(X)\n",
    "        return self\n",
    "\n",
    "    def transform(self, X, y=None):\n",
    "        return self.preprocessor.transform(X)\n",
    "\n",
    "\n",
    "CATEGORICAL_FEATURES = [\"track_explicit\", \"key\", \"mode\"]\n",
    "\n",
    "\n",
    "def get_preprocessor(cat_features=CATEGORICAL_FEATURES):\n",
    "    preproc = DataTransformer(columns=CATEGORICAL_FEATURES)\n",
    "    return preproc"
   ]
  },
  {
   "cell_type": "markdown",
   "id": "ce40e3d6-caa3-45e5-a753-2b5658dfc30c",
   "metadata": {},
   "source": [
    "#### Обучение"
   ]
  },
  {
   "cell_type": "code",
   "execution_count": 28,
   "id": "2c67f925-eb9f-48ca-b0ad-68797bd9903f",
   "metadata": {},
   "outputs": [],
   "source": [
    "# TODO Переписать через гидра конфиг\n",
    "optimal_hypers = {\"random_state\": 42, \"max_depth\": 15, \"min_samples_leaf\": 40}\n",
    "\n",
    "\n",
    "def train_model(train_df, hypers=optimal_hypers):\n",
    "    X, y = train_df.drop(\"genre\", axis=1), train_df[\"genre\"].to_numpy()\n",
    "    data_preproc = get_preprocessor()\n",
    "    data_preproc.fit(X)\n",
    "    X = data_preproc.transform(X)\n",
    "\n",
    "    # training\n",
    "    model = DecisionTreeClassifier(**hypers)\n",
    "    model.fit(X, y)\n",
    "\n",
    "    # saving the model\n",
    "    with open(\"data/dt_clf_subgenres_only.skops\", \"wb\") as model_f:\n",
    "        sio.dump(model, model_f)\n",
    "\n",
    "    return model\n",
    "\n",
    "\n",
    "def infer(model, X_train, X_test):\n",
    "    data_preproc = get_preprocessor()\n",
    "    data_preproc.fit(X_train)\n",
    "\n",
    "    X = data_preproc.transform(X_test)\n",
    "\n",
    "    predictions = model.predict(X)\n",
    "    return predictions"
   ]
  },
  {
   "cell_type": "code",
   "execution_count": 29,
   "id": "e6ee6892-0919-4e2b-972b-38a6c40aa57f",
   "metadata": {},
   "outputs": [],
   "source": [
    "model = train_model(train_df)"
   ]
  },
  {
   "cell_type": "code",
   "execution_count": 31,
   "id": "cbb12b89-5ad6-447e-9442-d9528fc83ecc",
   "metadata": {},
   "outputs": [],
   "source": [
    "predictions = infer(\n",
    "    model, train_df.drop(\"genre\", axis=1), test_df.drop(\"genre\", axis=1)\n",
    ")"
   ]
  },
  {
   "cell_type": "code",
   "execution_count": 38,
   "id": "6949d8dd-33cd-4034-aeba-3de9c57a7708",
   "metadata": {},
   "outputs": [
    {
     "data": {
      "text/plain": [
       "0.020075187969924812"
      ]
     },
     "execution_count": 38,
     "metadata": {},
     "output_type": "execute_result"
    }
   ],
   "source": [
    "accuracy = accuracy_score(y_pred=predictions, y_true=test_df[\"genre\"])\n",
    "accuracy"
   ]
  }
 ],
 "metadata": {
  "kernelspec": {
   "display_name": "Python 3 (ipykernel)",
   "language": "python",
   "name": "python3"
  },
  "language_info": {
   "codemirror_mode": {
    "name": "ipython",
    "version": 3
   },
   "file_extension": ".py",
   "mimetype": "text/x-python",
   "name": "python",
   "nbconvert_exporter": "python",
   "pygments_lexer": "ipython3",
   "version": "3.10.12"
  }
 },
 "nbformat": 4,
 "nbformat_minor": 5
}
