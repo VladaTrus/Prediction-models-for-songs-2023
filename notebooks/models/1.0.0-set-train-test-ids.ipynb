{
 "cells": [
  {
   "cell_type": "code",
   "execution_count": 1,
   "id": "9d70f5b7-7b31-4f3e-8af5-f20d061c8109",
   "metadata": {},
   "outputs": [],
   "source": [
    "import pandas as pd\n",
    "from sklearn.model_selection import train_test_split"
   ]
  },
  {
   "cell_type": "markdown",
   "id": "182e2286-18c0-460d-9bbf-fb71c250d42d",
   "metadata": {},
   "source": [
    "Мы не добавляем в датасеты поля `train` и `test`, чтобы в случае чего не потерять при мёрдже"
   ]
  },
  {
   "cell_type": "markdown",
   "id": "fb43ff91-ce00-4f01-957d-a833ff982ea1",
   "metadata": {},
   "source": [
    "### Сохраняем id треков, идущих в train и test, для поджанров"
   ]
  },
  {
   "cell_type": "code",
   "execution_count": 2,
   "id": "38d93df4-7748-4608-a951-fe7a285e732a",
   "metadata": {},
   "outputs": [],
   "source": [
    "subgenres_df = pd.read_pickle(\"../../data/small_genres_merged_df.pickle\")"
   ]
  },
  {
   "cell_type": "code",
   "execution_count": 17,
   "id": "48632e5c-461c-4128-a881-51c19dee0b1c",
   "metadata": {},
   "outputs": [],
   "source": [
    "genre_counts = subgenres_df[\"genre\"].value_counts()\n",
    "df_majority = subgenres_df[\n",
    "    subgenres_df[\"genre\"].isin(genre_counts[genre_counts == 100].index)\n",
    "].reset_index(drop=True)\n",
    "features = [\n",
    "    \"track_id\",\n",
    "    \"genre\",\n",
    "    \"track_duration_ms\",\n",
    "    \"track_explicit\",\n",
    "    \"danceability\",\n",
    "    \"energy\",\n",
    "    \"key\",\n",
    "    \"loudness\",\n",
    "    \"mode\",\n",
    "    \"speechiness\",\n",
    "    \"acousticness\",\n",
    "    \"instrumentalness\",\n",
    "    \"liveness\",\n",
    "    \"valence\",\n",
    "    \"tempo\",\n",
    "    \"time_signature\",\n",
    "    \"end_of_fade_in\",\n",
    "    \"start_of_fade_out\",\n",
    "    \"tempo_confidence\",\n",
    "    \"time_signature_confidence\",\n",
    "    \"key_confidence\",\n",
    "    \"mode_confidence\",\n",
    "]\n",
    "X, y = df_majority[features], df_majority[\"genre\"]\n",
    "X.loc[:, \"track_explicit\"] = X[\"track_explicit\"].astype(int)\n",
    "# в трейн идут 80 объектов каждого жанра, в тест - 20\n",
    "train_df, test_df, _, _ = train_test_split(\n",
    "    X, y, stratify=y, test_size=0.2, random_state=42\n",
    ")\n",
    "\n",
    "train_ids = pd.DataFrame(train_df[\"track_id\"]).reset_index(drop=True)\n",
    "test_ids = pd.DataFrame(test_df[\"track_id\"]).reset_index(drop=True)\n",
    "\n",
    "train_ids.to_csv(\"data/train_test_ids/subgenres/train_ids.csv\")\n",
    "test_ids.to_csv(\"data/train_test_ids/subgenres/test_ids.csv\")\n",
    "X.to_csv(\"data/subgenres_df.csv\")"
   ]
  }
 ],
 "metadata": {
  "kernelspec": {
   "display_name": "Python 3 (ipykernel)",
   "language": "python",
   "name": "python3"
  },
  "language_info": {
   "codemirror_mode": {
    "name": "ipython",
    "version": 3
   },
   "file_extension": ".py",
   "mimetype": "text/x-python",
   "name": "python",
   "nbconvert_exporter": "python",
   "pygments_lexer": "ipython3",
   "version": "3.10.12"
  }
 },
 "nbformat": 4,
 "nbformat_minor": 5
}
