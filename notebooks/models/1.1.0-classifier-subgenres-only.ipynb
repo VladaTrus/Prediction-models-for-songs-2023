{
 "cells": [
  {
   "cell_type": "code",
   "execution_count": 75,
   "id": "01aa22c2-b6f4-4230-ae05-b28fb3af5fe5",
   "metadata": {},
   "outputs": [],
   "source": [
    "import numpy as np\n",
    "import pandas as pd\n",
    "import skops.io as sio\n",
    "from sklearn.base import BaseEstimator, TransformerMixin\n",
    "from sklearn.compose import ColumnTransformer\n",
    "from sklearn.metrics import accuracy_score\n",
    "from sklearn.model_selection import GridSearchCV, StratifiedKFold\n",
    "from sklearn.preprocessing import OneHotEncoder\n",
    "from sklearn.tree import DecisionTreeClassifier"
   ]
  },
  {
   "cell_type": "code",
   "execution_count": 7,
   "id": "32f9ee0f-cb1c-40bf-bbad-c3a2e99a1bcd",
   "metadata": {},
   "outputs": [],
   "source": [
    "np.random.seed(42)"
   ]
  },
  {
   "cell_type": "code",
   "execution_count": 44,
   "id": "fb8d294c-1991-44c8-8c60-b50b2a207682",
   "metadata": {},
   "outputs": [],
   "source": [
    "DATA_PATH = \"data/subgenres_df.csv\"\n",
    "\n",
    "df_small_genres = pd.read_csv(DATA_PATH, index_col=\"Unnamed: 0\")"
   ]
  },
  {
   "cell_type": "markdown",
   "id": "7aecf099-6c45-4021-bd96-189050a92a37",
   "metadata": {},
   "source": [
    "### Разделить датасет на train, test"
   ]
  },
  {
   "cell_type": "code",
   "execution_count": 69,
   "id": "223ed109-6fc0-4707-94c8-0491169757d2",
   "metadata": {},
   "outputs": [],
   "source": [
    "train_ids = pd.read_csv(\n",
    "    \"data/train_test_ids/subgenres/train_ids.csv\", index_col=\"Unnamed: 0\"\n",
    ")\n",
    "test_ids = pd.read_csv(\n",
    "    \"data/train_test_ids/subgenres/test_ids.csv\", index_col=\"Unnamed: 0\"\n",
    ")"
   ]
  },
  {
   "cell_type": "code",
   "execution_count": 71,
   "id": "09d23378-4653-43b1-bd6e-595b24e9dd22",
   "metadata": {},
   "outputs": [],
   "source": [
    "X_train_df = df_small_genres[df_small_genres[\"track_id\"].isin(train_ids[\"track_id\"])]\n",
    "X_test_df = df_small_genres[df_small_genres[\"track_id\"].isin(test_ids[\"track_id\"])]\n",
    "\n",
    "y_train = X_train_df.genre.to_numpy()\n",
    "y_test = X_test_df.genre.to_numpy()\n",
    "X_train_df = X_train_df.drop([\"genre\", \"track_id\"], axis=1)\n",
    "X_test_df = X_test_df.drop([\"genre\", \"track_id\"], axis=1)"
   ]
  },
  {
   "cell_type": "markdown",
   "id": "d60f6e59-e87d-49aa-9450-276b22a00156",
   "metadata": {},
   "source": [
    "### Подбор гиперпараметров"
   ]
  },
  {
   "cell_type": "markdown",
   "id": "21e5c6ac-5924-4f5d-ad48-95dc1738aab4",
   "metadata": {},
   "source": [
    "### Обучаем классификатор"
   ]
  },
  {
   "cell_type": "markdown",
   "id": "28cdd444-c6eb-4694-9efc-afe095e8c0a2",
   "metadata": {},
   "source": [
    "##### Препроцессинг"
   ]
  },
  {
   "cell_type": "code",
   "execution_count": 66,
   "id": "b4fef944-3708-4add-a544-ff360097faf8",
   "metadata": {},
   "outputs": [],
   "source": [
    "class DataTransformer(BaseEstimator, TransformerMixin):\n",
    "    def __init__(self, columns):\n",
    "        self.columns = columns\n",
    "        self.preprocessor = ColumnTransformer(\n",
    "            transformers=[\n",
    "                (\n",
    "                    \"categorical features encoder\",\n",
    "                    OneHotEncoder(drop=\"first\"),\n",
    "                    self.columns,\n",
    "                ),\n",
    "            ],\n",
    "            remainder=\"passthrough\",\n",
    "        )\n",
    "\n",
    "    def fit(self, X, y=None):\n",
    "        self.preprocessor.fit(X)\n",
    "        return self\n",
    "\n",
    "    def transform(self, X, y=None):\n",
    "        return self.preprocessor.transform(X)\n",
    "\n",
    "\n",
    "CATEGORICAL_FEATURES = [\"track_explicit\", \"key\", \"mode\", \"time_signature\"]\n",
    "\n",
    "\n",
    "def get_preprocessor(cat_features=CATEGORICAL_FEATURES):\n",
    "    preproc = DataTransformer(columns=CATEGORICAL_FEATURES)\n",
    "    return preproc"
   ]
  },
  {
   "cell_type": "markdown",
   "id": "adde8aef-85f6-487c-a207-8ec9e997d12b",
   "metadata": {},
   "source": [
    "#### Подбор гиперпараметров"
   ]
  },
  {
   "cell_type": "code",
   "execution_count": 72,
   "id": "c3e8da09-397b-497b-9195-5aba5ec9d38c",
   "metadata": {},
   "outputs": [],
   "source": [
    "preproc = get_preprocessor()\n",
    "preproc.fit(X_train_df)\n",
    "X_train = preproc.transform(X_train_df)"
   ]
  },
  {
   "cell_type": "code",
   "execution_count": 76,
   "id": "a989b171-3feb-4e33-9cdf-22baee027a3b",
   "metadata": {
    "scrolled": true
   },
   "outputs": [
    {
     "name": "stdout",
     "output_type": "stream",
     "text": [
      "Fitting 2 folds for each of 32 candidates, totalling 64 fits\n",
      "[CV] END ..criterion=gini, max_depth=10, min_samples_leaf=80; total time=   3.7s\n",
      "[CV] END ..criterion=gini, max_depth=10, min_samples_leaf=80; total time=   3.7s\n",
      "[CV] END ..criterion=gini, max_depth=10, min_samples_leaf=60; total time=   3.9s\n",
      "[CV] END ..criterion=gini, max_depth=10, min_samples_leaf=60; total time=   3.8s\n",
      "[CV] END ..criterion=gini, max_depth=10, min_samples_leaf=40; total time=   4.0s\n",
      "[CV] END ..criterion=gini, max_depth=10, min_samples_leaf=40; total time=   3.8s\n",
      "[CV] END ..criterion=gini, max_depth=10, min_samples_leaf=20; total time=   3.9s\n",
      "[CV] END ..criterion=gini, max_depth=10, min_samples_leaf=20; total time=   3.8s\n",
      "[CV] END ..criterion=gini, max_depth=15, min_samples_leaf=80; total time=   4.7s\n",
      "[CV] END ..criterion=gini, max_depth=15, min_samples_leaf=80; total time=   4.9s\n",
      "[CV] END ..criterion=gini, max_depth=15, min_samples_leaf=60; total time=   5.2s\n",
      "[CV] END ..criterion=gini, max_depth=15, min_samples_leaf=60; total time=   5.2s\n",
      "[CV] END ..criterion=gini, max_depth=15, min_samples_leaf=40; total time=   5.9s\n",
      "[CV] END ..criterion=gini, max_depth=15, min_samples_leaf=40; total time=   5.9s\n",
      "[CV] END ..criterion=gini, max_depth=15, min_samples_leaf=20; total time=   6.5s\n",
      "[CV] END ..criterion=gini, max_depth=15, min_samples_leaf=20; total time=   6.4s\n",
      "[CV] END ..criterion=gini, max_depth=20, min_samples_leaf=80; total time=   5.0s\n",
      "[CV] END ..criterion=gini, max_depth=20, min_samples_leaf=80; total time=   5.1s\n",
      "[CV] END ..criterion=gini, max_depth=20, min_samples_leaf=60; total time=   5.4s\n",
      "[CV] END ..criterion=gini, max_depth=20, min_samples_leaf=60; total time=   5.6s\n",
      "[CV] END ..criterion=gini, max_depth=20, min_samples_leaf=40; total time=   6.1s\n",
      "[CV] END ..criterion=gini, max_depth=20, min_samples_leaf=40; total time=   6.3s\n",
      "[CV] END ..criterion=gini, max_depth=20, min_samples_leaf=20; total time=   7.4s\n",
      "[CV] END ..criterion=gini, max_depth=20, min_samples_leaf=20; total time=   7.5s\n",
      "[CV] END ..criterion=gini, max_depth=40, min_samples_leaf=80; total time=   4.8s\n",
      "[CV] END ..criterion=gini, max_depth=40, min_samples_leaf=80; total time=   5.0s\n",
      "[CV] END ..criterion=gini, max_depth=40, min_samples_leaf=60; total time=   5.3s\n",
      "[CV] END ..criterion=gini, max_depth=40, min_samples_leaf=60; total time=   5.5s\n",
      "[CV] END ..criterion=gini, max_depth=40, min_samples_leaf=40; total time=   6.1s\n",
      "[CV] END ..criterion=gini, max_depth=40, min_samples_leaf=40; total time=   6.2s\n",
      "[CV] END ..criterion=gini, max_depth=40, min_samples_leaf=20; total time=   7.7s\n",
      "[CV] END ..criterion=gini, max_depth=40, min_samples_leaf=20; total time=   7.8s\n",
      "[CV] END criterion=entropy, max_depth=10, min_samples_leaf=80; total time=  24.3s\n",
      "[CV] END criterion=entropy, max_depth=10, min_samples_leaf=80; total time=  23.7s\n",
      "[CV] END criterion=entropy, max_depth=10, min_samples_leaf=60; total time=  24.7s\n",
      "[CV] END criterion=entropy, max_depth=10, min_samples_leaf=60; total time=  24.7s\n",
      "[CV] END criterion=entropy, max_depth=10, min_samples_leaf=40; total time=  25.7s\n",
      "[CV] END criterion=entropy, max_depth=10, min_samples_leaf=40; total time=  25.6s\n",
      "[CV] END criterion=entropy, max_depth=10, min_samples_leaf=20; total time=  26.8s\n",
      "[CV] END criterion=entropy, max_depth=10, min_samples_leaf=20; total time=  26.7s\n",
      "[CV] END criterion=entropy, max_depth=15, min_samples_leaf=80; total time=  23.8s\n",
      "[CV] END criterion=entropy, max_depth=15, min_samples_leaf=80; total time=  23.6s\n",
      "[CV] END criterion=entropy, max_depth=15, min_samples_leaf=60; total time=  24.8s\n",
      "[CV] END criterion=entropy, max_depth=15, min_samples_leaf=60; total time=  24.6s\n",
      "[CV] END criterion=entropy, max_depth=15, min_samples_leaf=40; total time=  26.3s\n",
      "[CV] END criterion=entropy, max_depth=15, min_samples_leaf=40; total time=  25.8s\n",
      "[CV] END criterion=entropy, max_depth=15, min_samples_leaf=20; total time=  28.4s\n",
      "[CV] END criterion=entropy, max_depth=15, min_samples_leaf=20; total time=  28.1s\n",
      "[CV] END criterion=entropy, max_depth=20, min_samples_leaf=80; total time=  23.6s\n",
      "[CV] END criterion=entropy, max_depth=20, min_samples_leaf=80; total time=  23.3s\n",
      "[CV] END criterion=entropy, max_depth=20, min_samples_leaf=60; total time=  24.5s\n",
      "[CV] END criterion=entropy, max_depth=20, min_samples_leaf=60; total time=  24.3s\n",
      "[CV] END criterion=entropy, max_depth=20, min_samples_leaf=40; total time=  26.2s\n",
      "[CV] END criterion=entropy, max_depth=20, min_samples_leaf=40; total time=  26.0s\n",
      "[CV] END criterion=entropy, max_depth=20, min_samples_leaf=20; total time=  28.6s\n",
      "[CV] END criterion=entropy, max_depth=20, min_samples_leaf=20; total time=  28.4s\n",
      "[CV] END criterion=entropy, max_depth=40, min_samples_leaf=80; total time=  23.9s\n",
      "[CV] END criterion=entropy, max_depth=40, min_samples_leaf=80; total time=  23.5s\n",
      "[CV] END criterion=entropy, max_depth=40, min_samples_leaf=60; total time=  24.8s\n",
      "[CV] END criterion=entropy, max_depth=40, min_samples_leaf=60; total time=  24.5s\n",
      "[CV] END criterion=entropy, max_depth=40, min_samples_leaf=40; total time=  26.2s\n",
      "[CV] END criterion=entropy, max_depth=40, min_samples_leaf=40; total time=  25.9s\n",
      "[CV] END criterion=entropy, max_depth=40, min_samples_leaf=20; total time=  28.6s\n",
      "[CV] END criterion=entropy, max_depth=40, min_samples_leaf=20; total time=  28.5s\n"
     ]
    },
    {
     "data": {
      "text/html": [
       "<style>#sk-container-id-3 {color: black;}#sk-container-id-3 pre{padding: 0;}#sk-container-id-3 div.sk-toggleable {background-color: white;}#sk-container-id-3 label.sk-toggleable__label {cursor: pointer;display: block;width: 100%;margin-bottom: 0;padding: 0.3em;box-sizing: border-box;text-align: center;}#sk-container-id-3 label.sk-toggleable__label-arrow:before {content: \"▸\";float: left;margin-right: 0.25em;color: #696969;}#sk-container-id-3 label.sk-toggleable__label-arrow:hover:before {color: black;}#sk-container-id-3 div.sk-estimator:hover label.sk-toggleable__label-arrow:before {color: black;}#sk-container-id-3 div.sk-toggleable__content {max-height: 0;max-width: 0;overflow: hidden;text-align: left;background-color: #f0f8ff;}#sk-container-id-3 div.sk-toggleable__content pre {margin: 0.2em;color: black;border-radius: 0.25em;background-color: #f0f8ff;}#sk-container-id-3 input.sk-toggleable__control:checked~div.sk-toggleable__content {max-height: 200px;max-width: 100%;overflow: auto;}#sk-container-id-3 input.sk-toggleable__control:checked~label.sk-toggleable__label-arrow:before {content: \"▾\";}#sk-container-id-3 div.sk-estimator input.sk-toggleable__control:checked~label.sk-toggleable__label {background-color: #d4ebff;}#sk-container-id-3 div.sk-label input.sk-toggleable__control:checked~label.sk-toggleable__label {background-color: #d4ebff;}#sk-container-id-3 input.sk-hidden--visually {border: 0;clip: rect(1px 1px 1px 1px);clip: rect(1px, 1px, 1px, 1px);height: 1px;margin: -1px;overflow: hidden;padding: 0;position: absolute;width: 1px;}#sk-container-id-3 div.sk-estimator {font-family: monospace;background-color: #f0f8ff;border: 1px dotted black;border-radius: 0.25em;box-sizing: border-box;margin-bottom: 0.5em;}#sk-container-id-3 div.sk-estimator:hover {background-color: #d4ebff;}#sk-container-id-3 div.sk-parallel-item::after {content: \"\";width: 100%;border-bottom: 1px solid gray;flex-grow: 1;}#sk-container-id-3 div.sk-label:hover label.sk-toggleable__label {background-color: #d4ebff;}#sk-container-id-3 div.sk-serial::before {content: \"\";position: absolute;border-left: 1px solid gray;box-sizing: border-box;top: 0;bottom: 0;left: 50%;z-index: 0;}#sk-container-id-3 div.sk-serial {display: flex;flex-direction: column;align-items: center;background-color: white;padding-right: 0.2em;padding-left: 0.2em;position: relative;}#sk-container-id-3 div.sk-item {position: relative;z-index: 1;}#sk-container-id-3 div.sk-parallel {display: flex;align-items: stretch;justify-content: center;background-color: white;position: relative;}#sk-container-id-3 div.sk-item::before, #sk-container-id-3 div.sk-parallel-item::before {content: \"\";position: absolute;border-left: 1px solid gray;box-sizing: border-box;top: 0;bottom: 0;left: 50%;z-index: -1;}#sk-container-id-3 div.sk-parallel-item {display: flex;flex-direction: column;z-index: 1;position: relative;background-color: white;}#sk-container-id-3 div.sk-parallel-item:first-child::after {align-self: flex-end;width: 50%;}#sk-container-id-3 div.sk-parallel-item:last-child::after {align-self: flex-start;width: 50%;}#sk-container-id-3 div.sk-parallel-item:only-child::after {width: 0;}#sk-container-id-3 div.sk-dashed-wrapped {border: 1px dashed gray;margin: 0 0.4em 0.5em 0.4em;box-sizing: border-box;padding-bottom: 0.4em;background-color: white;}#sk-container-id-3 div.sk-label label {font-family: monospace;font-weight: bold;display: inline-block;line-height: 1.2em;}#sk-container-id-3 div.sk-label-container {text-align: center;}#sk-container-id-3 div.sk-container {/* jupyter's `normalize.less` sets `[hidden] { display: none; }` but bootstrap.min.css set `[hidden] { display: none !important; }` so we also need the `!important` here to be able to override the default hidden behavior on the sphinx rendered scikit-learn.org. See: https://github.com/scikit-learn/scikit-learn/issues/21755 */display: inline-block !important;position: relative;}#sk-container-id-3 div.sk-text-repr-fallback {display: none;}</style><div id=\"sk-container-id-3\" class=\"sk-top-container\"><div class=\"sk-text-repr-fallback\"><pre>GridSearchCV(cv=&lt;generator object _BaseKFold.split at 0x7f7bec01cac0&gt;,\n",
       "             estimator=DecisionTreeClassifier(random_state=42),\n",
       "             param_grid={&#x27;criterion&#x27;: [&#x27;gini&#x27;, &#x27;entropy&#x27;],\n",
       "                         &#x27;max_depth&#x27;: [10, 15, 20, 40],\n",
       "                         &#x27;min_samples_leaf&#x27;: [80, 60, 40, 20]},\n",
       "             verbose=2)</pre><b>In a Jupyter environment, please rerun this cell to show the HTML representation or trust the notebook. <br />On GitHub, the HTML representation is unable to render, please try loading this page with nbviewer.org.</b></div><div class=\"sk-container\" hidden><div class=\"sk-item sk-dashed-wrapped\"><div class=\"sk-label-container\"><div class=\"sk-label sk-toggleable\"><input class=\"sk-toggleable__control sk-hidden--visually\" id=\"sk-estimator-id-3\" type=\"checkbox\" ><label for=\"sk-estimator-id-3\" class=\"sk-toggleable__label sk-toggleable__label-arrow\">GridSearchCV</label><div class=\"sk-toggleable__content\"><pre>GridSearchCV(cv=&lt;generator object _BaseKFold.split at 0x7f7bec01cac0&gt;,\n",
       "             estimator=DecisionTreeClassifier(random_state=42),\n",
       "             param_grid={&#x27;criterion&#x27;: [&#x27;gini&#x27;, &#x27;entropy&#x27;],\n",
       "                         &#x27;max_depth&#x27;: [10, 15, 20, 40],\n",
       "                         &#x27;min_samples_leaf&#x27;: [80, 60, 40, 20]},\n",
       "             verbose=2)</pre></div></div></div><div class=\"sk-parallel\"><div class=\"sk-parallel-item\"><div class=\"sk-item\"><div class=\"sk-label-container\"><div class=\"sk-label sk-toggleable\"><input class=\"sk-toggleable__control sk-hidden--visually\" id=\"sk-estimator-id-4\" type=\"checkbox\" ><label for=\"sk-estimator-id-4\" class=\"sk-toggleable__label sk-toggleable__label-arrow\">estimator: DecisionTreeClassifier</label><div class=\"sk-toggleable__content\"><pre>DecisionTreeClassifier(random_state=42)</pre></div></div></div><div class=\"sk-serial\"><div class=\"sk-item\"><div class=\"sk-estimator sk-toggleable\"><input class=\"sk-toggleable__control sk-hidden--visually\" id=\"sk-estimator-id-5\" type=\"checkbox\" ><label for=\"sk-estimator-id-5\" class=\"sk-toggleable__label sk-toggleable__label-arrow\">DecisionTreeClassifier</label><div class=\"sk-toggleable__content\"><pre>DecisionTreeClassifier(random_state=42)</pre></div></div></div></div></div></div></div></div></div></div>"
      ],
      "text/plain": [
       "GridSearchCV(cv=<generator object _BaseKFold.split at 0x7f7bec01cac0>,\n",
       "             estimator=DecisionTreeClassifier(random_state=42),\n",
       "             param_grid={'criterion': ['gini', 'entropy'],\n",
       "                         'max_depth': [10, 15, 20, 40],\n",
       "                         'min_samples_leaf': [80, 60, 40, 20]},\n",
       "             verbose=2)"
      ]
     },
     "execution_count": 76,
     "metadata": {},
     "output_type": "execute_result"
    }
   ],
   "source": [
    "kfolds = StratifiedKFold(n_splits=2, shuffle=True, random_state=42)\n",
    "cv = kfolds.split(X_train, y_train)\n",
    "\n",
    "params = {\n",
    "    \"criterion\": [\"gini\", \"entropy\"],\n",
    "    \"max_depth\": [\n",
    "        10,\n",
    "        15,\n",
    "        20,\n",
    "        40,\n",
    "    ],  # тут классов где-то 1300, т.е. log_2(1300) ~ 10 - глубина бинарного дерева с ~1400 листьями\n",
    "    \"min_samples_leaf\": [80, 60, 40, 20],\n",
    "}\n",
    "\n",
    "clf = GridSearchCV(\n",
    "    DecisionTreeClassifier(random_state=42), param_grid=params, cv=cv, verbose=2\n",
    ")\n",
    "clf.fit(X_train, y_train)"
   ]
  },
  {
   "cell_type": "code",
   "execution_count": 79,
   "id": "838f755f-72bd-4395-b993-df3637808990",
   "metadata": {},
   "outputs": [
    {
     "data": {
      "text/plain": [
       "{'criterion': 'gini', 'max_depth': 15, 'min_samples_leaf': 40}"
      ]
     },
     "execution_count": 79,
     "metadata": {},
     "output_type": "execute_result"
    }
   ],
   "source": [
    "clf.best_params_"
   ]
  },
  {
   "cell_type": "code",
   "execution_count": 99,
   "id": "aa4d41a6-c6f6-40da-9f22-88a71fa3652b",
   "metadata": {},
   "outputs": [
    {
     "data": {
      "text/plain": [
       "array([0.01540227, 0.        , 0.        , 0.        , 0.        ,\n",
       "       0.00071213, 0.        , 0.        , 0.        , 0.        ,\n",
       "       0.        , 0.        , 0.00640259, 0.        , 0.00322458,\n",
       "       0.00106585, 0.0024468 , 0.06833077, 0.09592321, 0.08902138,\n",
       "       0.09163623, 0.06499305, 0.08232324, 0.08790109, 0.01995919,\n",
       "       0.09963679, 0.08038668, 0.02414214, 0.073443  , 0.0306342 ,\n",
       "       0.02378639, 0.02038576, 0.01824264])"
      ]
     },
     "execution_count": 99,
     "metadata": {},
     "output_type": "execute_result"
    }
   ],
   "source": [
    "# TODO заплотить\n",
    "clf.best_estimator_.feature_importances_"
   ]
  },
  {
   "cell_type": "code",
   "execution_count": 80,
   "id": "bc9013b7-4b10-4e54-8de8-004fa9d015e3",
   "metadata": {},
   "outputs": [],
   "source": [
    "# Сохраняем модель\n",
    "with open(\"data/dt_clf_subgenres_only.skops\", \"wb\") as model_f:\n",
    "    sio.dump(clf.best_estimator_, model_f)"
   ]
  },
  {
   "cell_type": "markdown",
   "id": "ce40e3d6-caa3-45e5-a753-2b5658dfc30c",
   "metadata": {},
   "source": [
    "#### Проверка качества"
   ]
  },
  {
   "cell_type": "code",
   "execution_count": 81,
   "id": "2c67f925-eb9f-48ca-b0ad-68797bd9903f",
   "metadata": {},
   "outputs": [],
   "source": [
    "X_test = preproc.transform(X_test_df)"
   ]
  },
  {
   "cell_type": "code",
   "execution_count": 84,
   "id": "d5fd43cd-5e07-4d67-8615-573b0ecb2c9b",
   "metadata": {},
   "outputs": [],
   "source": [
    "# TODO Переписать через гидра конфиг\n",
    "# optimal_hypers = clf.best_params_\n",
    "with open(\"data/dt_clf_subgenres_only.skops\", \"rb\") as model_f:\n",
    "    model = sio.load(model_f)\n",
    "\n",
    "predictions_train = model.predict(X_train)\n",
    "predictions_test = model.predict(X_test)"
   ]
  },
  {
   "cell_type": "code",
   "execution_count": 86,
   "id": "b7fbf847-099d-4b0c-ac5a-5e2a4d24bd45",
   "metadata": {},
   "outputs": [],
   "source": [
    "accuracy_train = accuracy_score(y_true=y_train, y_pred=predictions_train)\n",
    "accuracy_test = accuracy_score(y_true=y_test, y_pred=predictions_test)"
   ]
  },
  {
   "cell_type": "code",
   "execution_count": 88,
   "id": "a2886c42-3bc0-4f3b-9d5a-2dd1a7054b8e",
   "metadata": {},
   "outputs": [
    {
     "name": "stdout",
     "output_type": "stream",
     "text": [
      "Accuracy на трейне: 0.05614958895276987\n",
      "Accuracy на тесте: 0.03456078996091339\n"
     ]
    }
   ],
   "source": [
    "print(f\"Accuracy на трейне: {accuracy_train}\")\n",
    "print(f\"Accuracy на тесте: {accuracy_test}\")"
   ]
  }
 ],
 "metadata": {
  "kernelspec": {
   "display_name": "Python 3 (ipykernel)",
   "language": "python",
   "name": "python3"
  },
  "language_info": {
   "codemirror_mode": {
    "name": "ipython",
    "version": 3
   },
   "file_extension": ".py",
   "mimetype": "text/x-python",
   "name": "python",
   "nbconvert_exporter": "python",
   "pygments_lexer": "ipython3",
   "version": "3.10.12"
  }
 },
 "nbformat": 4,
 "nbformat_minor": 5
}
