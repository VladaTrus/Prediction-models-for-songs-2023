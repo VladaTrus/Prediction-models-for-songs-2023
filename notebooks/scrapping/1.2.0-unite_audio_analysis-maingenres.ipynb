{
 "cells": [
  {
   "cell_type": "code",
   "execution_count": 8,
   "id": "f57538de-fd26-4576-b577-8d25b369c73b",
   "metadata": {},
   "outputs": [],
   "source": [
    "import pathlib\n",
    "from os import listdir\n",
    "\n",
    "import numpy as np\n",
    "import pandas as pd\n",
    "from tqdm.notebook import tqdm"
   ]
  },
  {
   "cell_type": "code",
   "execution_count": 3,
   "id": "0f29d211-189f-40ea-bdd0-31de983bcf12",
   "metadata": {},
   "outputs": [],
   "source": [
    "big_genres_df = pd.read_pickle(\"../../data/big_genres_tracks_df.pickle\")"
   ]
  },
  {
   "cell_type": "markdown",
   "id": "642f3044-16cc-473c-ad02-2197cc86c4fe",
   "metadata": {},
   "source": [
    "### Проверка наличия всех треков"
   ]
  },
  {
   "cell_type": "code",
   "execution_count": 5,
   "id": "730e4074-f796-42fb-9dfd-29c10cbff60e",
   "metadata": {},
   "outputs": [],
   "source": [
    "all_tracks_ids = set(big_genres_df[\"track_id\"])\n",
    "tracks_found = []\n",
    "dir_parts = pathlib.Path(\n",
    "    \"/home/kiri/Kiri_coding/SpotyParser/notebooks/data/big_genres_tracks_analysis/\"\n",
    ")\n",
    "\n",
    "for part_dir in listdir(dir_parts):\n",
    "    for track in listdir(dir_parts / part_dir):\n",
    "        path_to_track = dir_parts / part_dir / track\n",
    "        track_id = path_to_track.stem\n",
    "        tracks_found.append(track_id)\n",
    "\n",
    "tracks_found = set(tracks_found)\n",
    "tracks_left = all_tracks_ids.difference(tracks_found)"
   ]
  },
  {
   "cell_type": "markdown",
   "id": "45870d86-c0fe-4bc5-b727-efef7dd595df",
   "metadata": {},
   "source": [
    "#### Доброска не найденных треков (дальнейшная докачка через скрипты)"
   ]
  },
  {
   "cell_type": "code",
   "execution_count": 6,
   "id": "38c66179-b924-4ef1-aad6-25c7579c9811",
   "metadata": {},
   "outputs": [
    {
     "name": "stdout",
     "output_type": "stream",
     "text": [
      "Все треки были скачаны\n"
     ]
    }
   ],
   "source": [
    "if tracks_left:\n",
    "    df_left = big_genres_df[big_genres_df[\"track_id\"].isin(tracks_left)]\n",
    "    df_left = pd.DataFrame(df_left[\"track_id\"])\n",
    "    splitted = np.array_split(df_left, 8)\n",
    "    for i, df_split in enumerate(splitted):\n",
    "        df_split.to_csv(f\"../scripts/data/big_genres_chunks/chunk_{i+1}.csv\")\n",
    "else:\n",
    "    print(\"Все треки были скачаны\")"
   ]
  },
  {
   "cell_type": "markdown",
   "id": "0e3c4f22-1aae-4446-81b2-98170f0d4e6d",
   "metadata": {},
   "source": [
    "### Объединение треков в датасет"
   ]
  },
  {
   "cell_type": "code",
   "execution_count": 12,
   "id": "dae8c38d-bb04-4263-969d-e7f23c3a5bc6",
   "metadata": {},
   "outputs": [
    {
     "data": {
      "application/vnd.jupyter.widget-view+json": {
       "model_id": "8337b1c5dfe54916b35c7b632e04b65b",
       "version_major": 2,
       "version_minor": 0
      },
      "text/plain": [
       "  0%|          | 0/16 [00:00<?, ?it/s]"
      ]
     },
     "metadata": {},
     "output_type": "display_data"
    }
   ],
   "source": [
    "dir_parts = pathlib.Path(\n",
    "    \"/home/kiri/Kiri_coding/SpotyParser/notebooks/data/big_genres_tracks_analysis/\"\n",
    ")\n",
    "\n",
    "rows = []\n",
    "for part_dir in tqdm(listdir(dir_parts)):\n",
    "    for track in listdir(dir_parts / part_dir):\n",
    "        to_row = []\n",
    "        path_to_track = dir_parts / part_dir / track\n",
    "        track_id = path_to_track.stem\n",
    "        to_row.append(track_id)\n",
    "\n",
    "        a_analysis = pd.read_pickle(path_to_track)\n",
    "        if \"track\" not in a_analysis:\n",
    "            continue\n",
    "        trackdata = a_analysis[\"track\"]\n",
    "        keys_to_append = [\n",
    "            \"duration\",  # in seconds\n",
    "            \"end_of_fade_in\",\n",
    "            \"start_of_fade_out\",\n",
    "            \"tempo_confidence\",\n",
    "            \"time_signature\",\n",
    "            \"time_signature_confidence\",\n",
    "            \"key_confidence\",\n",
    "            \"mode_confidence\",\n",
    "        ]\n",
    "        for key in keys_to_append:\n",
    "            to_row.append(trackdata[key])\n",
    "        rows.append(to_row)"
   ]
  },
  {
   "cell_type": "code",
   "execution_count": 21,
   "id": "82203cad-6951-4c12-85e2-973b1edc3315",
   "metadata": {},
   "outputs": [],
   "source": [
    "analysis_df = pd.DataFrame(\n",
    "    data=rows,\n",
    "    columns=[\n",
    "        \"track_id\",\n",
    "        \"duration_seconds\",  # in seconds\n",
    "        \"end_of_fade_in\",\n",
    "        \"start_of_fade_out\",\n",
    "        \"tempo_confidence\",\n",
    "        \"time_signature\",\n",
    "        \"time_signature_confidence\",\n",
    "        \"key_confidence\",\n",
    "        \"mode_confidence\",\n",
    "    ],\n",
    ")\n",
    "\n",
    "analysis_df = analysis_df.drop_duplicates()"
   ]
  },
  {
   "cell_type": "code",
   "execution_count": 22,
   "id": "73ec26fc-4591-4078-8383-3a9cadd47748",
   "metadata": {},
   "outputs": [],
   "source": [
    "analysis_df.to_pickle(\"../../data/big_genres_audio_analysis_df.pickle\")"
   ]
  },
  {
   "cell_type": "markdown",
   "id": "d87d7c42-13ab-415b-be5e-a961b144403c",
   "metadata": {},
   "source": [
    "### Объединение датасета с аудиоанализом с датасетом с аудиофичами"
   ]
  },
  {
   "cell_type": "code",
   "execution_count": 23,
   "id": "3a833195-42da-4ade-af4a-9e3a45a7fc46",
   "metadata": {},
   "outputs": [],
   "source": [
    "analysis_df = pd.read_pickle(\"../../data/big_genres_audio_analysis_df.pickle\")\n",
    "features_df = pd.read_pickle(\"../../data/big_genres_tracks_df.pickle\")"
   ]
  },
  {
   "cell_type": "code",
   "execution_count": 34,
   "id": "6b44ee42-d4b4-4f25-9589-961161f8fd3b",
   "metadata": {},
   "outputs": [],
   "source": [
    "merged_df = pd.merge(features_df, analysis_df, on=\"track_id\")\n",
    "merged_df = merged_df.drop([\"time_signature_y\"], axis=1).rename(\n",
    "    {\"time_signature_x\": \"time_signature\"}, axis=1\n",
    ")\n",
    "merged_df.to_pickle(\"../../data/big_genres_merged_df.pickle\")"
   ]
  }
 ],
 "metadata": {
  "kernelspec": {
   "display_name": "Python 3 (ipykernel)",
   "language": "python",
   "name": "python3"
  },
  "language_info": {
   "codemirror_mode": {
    "name": "ipython",
    "version": 3
   },
   "file_extension": ".py",
   "mimetype": "text/x-python",
   "name": "python",
   "nbconvert_exporter": "python",
   "pygments_lexer": "ipython3",
   "version": "3.10.12"
  }
 },
 "nbformat": 4,
 "nbformat_minor": 5
}
