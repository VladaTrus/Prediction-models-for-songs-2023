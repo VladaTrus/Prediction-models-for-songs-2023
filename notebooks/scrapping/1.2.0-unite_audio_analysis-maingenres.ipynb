{
 "cells": [
  {
   "cell_type": "code",
   "execution_count": 1,
   "id": "f57538de-fd26-4576-b577-8d25b369c73b",
   "metadata": {},
   "outputs": [],
   "source": [
    "import pathlib\n",
    "from os import listdir\n",
    "\n",
    "import numpy as np\n",
    "import pandas as pd"
   ]
  },
  {
   "cell_type": "code",
   "execution_count": 17,
   "id": "0f29d211-189f-40ea-bdd0-31de983bcf12",
   "metadata": {},
   "outputs": [],
   "source": [
    "big_genres_df = pd.read_pickle(\"../data/big_genres_tracks_df.pickle\")"
   ]
  },
  {
   "cell_type": "markdown",
   "id": "642f3044-16cc-473c-ad02-2197cc86c4fe",
   "metadata": {},
   "source": [
    "### Проверка наличия всех треков"
   ]
  },
  {
   "cell_type": "code",
   "execution_count": 18,
   "id": "730e4074-f796-42fb-9dfd-29c10cbff60e",
   "metadata": {},
   "outputs": [],
   "source": [
    "all_tracks_ids = set(big_genres_df[\"track_id\"])\n",
    "tracks_found = []\n",
    "dir_parts = pathlib.Path(\n",
    "    \"/home/kiri/Kiri_coding/SpotyParser/notebooks/data/big_genres_tracks_analysis/\"\n",
    ")\n",
    "\n",
    "for part_dir in listdir(dir_parts):\n",
    "    for track in listdir(dir_parts / part_dir):\n",
    "        path_to_track = dir_parts / part_dir / track\n",
    "        track_id = path_to_track.stem\n",
    "        tracks_found.append(track_id)\n",
    "\n",
    "tracks_found = set(tracks_found)\n",
    "tracks_left = all_tracks_ids.difference(tracks_found)"
   ]
  },
  {
   "cell_type": "markdown",
   "id": "45870d86-c0fe-4bc5-b727-efef7dd595df",
   "metadata": {},
   "source": [
    "#### Доброска не найденных треков (дальнейшная докачка через скрипты)"
   ]
  },
  {
   "cell_type": "code",
   "execution_count": 21,
   "id": "38c66179-b924-4ef1-aad6-25c7579c9811",
   "metadata": {},
   "outputs": [],
   "source": [
    "if tracks_left:\n",
    "    df_left = big_genres_df[big_genres_df[\"track_id\"].isin(tracks_left)]\n",
    "    df_left = pd.DataFrame(df_left[\"track_id\"])\n",
    "    splitted = np.array_split(df_left, 8)\n",
    "    for i, df_split in enumerate(splitted):\n",
    "        df_split.to_csv(f\"../scripts/data/big_genres_chunks/chunk_{i+1}.csv\")\n",
    "else:\n",
    "    print(\"Все треки были скачаны\")"
   ]
  },
  {
   "cell_type": "code",
   "execution_count": null,
   "id": "dae8c38d-bb04-4263-969d-e7f23c3a5bc6",
   "metadata": {},
   "outputs": [],
   "source": []
  }
 ],
 "metadata": {
  "kernelspec": {
   "display_name": "Python 3 (ipykernel)",
   "language": "python",
   "name": "python3"
  },
  "language_info": {
   "codemirror_mode": {
    "name": "ipython",
    "version": 3
   },
   "file_extension": ".py",
   "mimetype": "text/x-python",
   "name": "python",
   "nbconvert_exporter": "python",
   "pygments_lexer": "ipython3",
   "version": "3.10.12"
  }
 },
 "nbformat": 4,
 "nbformat_minor": 5
}
