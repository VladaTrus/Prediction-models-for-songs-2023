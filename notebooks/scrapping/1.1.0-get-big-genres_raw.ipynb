{
 "cells": [
  {
   "cell_type": "code",
   "execution_count": 6,
   "id": "29428186-e1b8-429a-89cd-56296c3821b1",
   "metadata": {},
   "outputs": [],
   "source": [
    "import pickle\n",
    "\n",
    "import spotipy\n",
    "from spotipy.oauth2 import SpotifyClientCredentials\n",
    "from tqdm.notebook import tqdm"
   ]
  },
  {
   "cell_type": "markdown",
   "id": "c400ada6-2312-4c89-ad41-c5c16e6d2414",
   "metadata": {},
   "source": [
    "### Скрэппинг больших жанров на основании рекомендаций спотифая"
   ]
  },
  {
   "cell_type": "markdown",
   "id": "e93bacee-38c6-407f-ae24-39cc9a6ff3c4",
   "metadata": {},
   "source": [
    "Идея заключается в том, чтобы взять жанровые сиды, принять их за макро-жанры (таких 126), и затем запросить рекомендации по индивидуальным сидам (таким образом получив примерно $126\\times100=12600$ треков, которые мы примем за каноны в своих макро-жанрах)\n",
    "\n",
    "Прим. каждый трек может принадлежать не единственному жанру"
   ]
  },
  {
   "cell_type": "code",
   "execution_count": null,
   "id": "105e5a12-d6ff-4264-947c-3291dab8b623",
   "metadata": {},
   "outputs": [],
   "source": [
    "auth_manager = SpotifyClientCredentials(client_id=\"\", client_secret=\"\")\n",
    "sp = spotipy.Spotify(auth_manager=auth_manager)"
   ]
  },
  {
   "cell_type": "code",
   "execution_count": 8,
   "id": "8913d032-20a6-4fd0-b8f3-4ae0f7a5aeff",
   "metadata": {},
   "outputs": [],
   "source": [
    "genres = sp.recommendation_genre_seeds()[\"genres\"]"
   ]
  },
  {
   "cell_type": "code",
   "execution_count": 33,
   "id": "a95f58f8-0af8-41b0-8a39-a7b530dcf7ef",
   "metadata": {},
   "outputs": [
    {
     "data": {
      "application/vnd.jupyter.widget-view+json": {
       "model_id": "156222fda964447bbcf8628ee3555d3b",
       "version_major": 2,
       "version_minor": 0
      },
      "text/plain": [
       "  0%|          | 0/126 [00:00<?, ?it/s]"
      ]
     },
     "metadata": {},
     "output_type": "display_data"
    }
   ],
   "source": [
    "for genre in tqdm(genres):\n",
    "    resp = sp.recommendations(\n",
    "        seed_genres=[\n",
    "            genre,\n",
    "        ],\n",
    "        limit=100,\n",
    "    )\n",
    "    with open(f\"data/big_genres_bulk/{genre}.pkl\", \"wb\") as f:\n",
    "        pickle.dump(resp, f)"
   ]
  }
 ],
 "metadata": {
  "kernelspec": {
   "display_name": "Python 3 (ipykernel)",
   "language": "python",
   "name": "python3"
  },
  "language_info": {
   "codemirror_mode": {
    "name": "ipython",
    "version": 3
   },
   "file_extension": ".py",
   "mimetype": "text/x-python",
   "name": "python",
   "nbconvert_exporter": "python",
   "pygments_lexer": "ipython3",
   "version": "3.10.12"
  }
 },
 "nbformat": 4,
 "nbformat_minor": 5
}
