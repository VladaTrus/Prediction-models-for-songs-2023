{
 "cells": [
  {
   "cell_type": "code",
   "execution_count": 2,
   "id": "7a594437-aa4b-421d-b8f1-a3aff7e5e897",
   "metadata": {},
   "outputs": [],
   "source": [
    "import os\n",
    "import pathlib\n",
    "from os import listdir\n",
    "\n",
    "import numpy as np\n",
    "import pandas as pd\n",
    "from tqdm.notebook import tqdm"
   ]
  },
  {
   "cell_type": "code",
   "execution_count": 89,
   "id": "9b1235de-8400-40bb-a642-dad947d2a450",
   "metadata": {},
   "outputs": [],
   "source": [
    "small_genres_df = pd.read_pickle(\n",
    "    \"/home/kiri/Kiri_coding/MLDS/Year project/Prediction-models-for-songs-2023/SoundOfDownloader/tracks_df.pickle\"\n",
    ")"
   ]
  },
  {
   "cell_type": "code",
   "execution_count": 88,
   "id": "9f1f2bca-abf9-4e78-b3e8-febaa30c55f4",
   "metadata": {},
   "outputs": [],
   "source": [
    "# трек удалён из спотифая\n",
    "# small_genres_df[small_genres_df['track_id'] != '1KbAfcJS3Cbrd3htDBtdcG'].to_pickle(\"/home/kiri/Kiri_coding/MLDS/Year project/Prediction-models-for-songs-2023/SoundOfDownloader/tracks_df.pickle\")\n",
    "# small_genres_df = pd.read_pickle(\"/home/kiri/Kiri_coding/MLDS/Year project/Prediction-models-for-songs-2023/SoundOfDownloader/tracks_df.pickle\")"
   ]
  },
  {
   "cell_type": "markdown",
   "id": "9af77f4d-387c-4851-802b-b49b0dabdffc",
   "metadata": {},
   "source": [
    "### Проверка наличия всех треков"
   ]
  },
  {
   "cell_type": "code",
   "execution_count": 56,
   "id": "96e8e416-a4f3-42f8-9d3b-3742607e0ab0",
   "metadata": {},
   "outputs": [],
   "source": [
    "all_tracks_ids = set(small_genres_df[\"track_id\"])\n",
    "tracks_found = []\n",
    "dir_parts = pathlib.Path(\n",
    "    \"/home/kiri/Kiri_coding/SpotyParser/notebooks/data/small_genres_tracks_analysis\"\n",
    ")\n",
    "\n",
    "for part_dir in listdir(dir_parts):\n",
    "    for track in listdir(dir_parts / part_dir):\n",
    "        path_to_track = dir_parts / part_dir / track\n",
    "        track_id = path_to_track.stem\n",
    "        tracks_found.append(track_id)\n",
    "\n",
    "tracks_found = set(tracks_found)\n",
    "tracks_left = all_tracks_ids.difference(tracks_found)"
   ]
  },
  {
   "cell_type": "markdown",
   "id": "8ae8a43e-4ddd-4db4-8749-ddd2e04ab5ea",
   "metadata": {},
   "source": [
    "#### Удаление треков, скачанных с ошибкой"
   ]
  },
  {
   "cell_type": "code",
   "execution_count": 68,
   "id": "2370a1d6-ad3c-48a9-b2b9-14a98ed4170a",
   "metadata": {},
   "outputs": [
    {
     "data": {
      "application/vnd.jupyter.widget-view+json": {
       "model_id": "f240eee111d9400b908489155b7d00d9",
       "version_major": 2,
       "version_minor": 0
      },
      "text/plain": [
       "  0%|          | 0/139 [00:00<?, ?it/s]"
      ]
     },
     "metadata": {},
     "output_type": "display_data"
    }
   ],
   "source": [
    "dir_parts = pathlib.Path(\n",
    "    \"/home/kiri/Kiri_coding/SpotyParser/notebooks/data/small_genres_tracks_analysis\"\n",
    ")\n",
    "\n",
    "tracks_corrupted = []\n",
    "for part_dir in tqdm(listdir(dir_parts)):\n",
    "    for track in listdir(dir_parts / part_dir):\n",
    "        path_to_track = dir_parts / part_dir / track\n",
    "        track_id = path_to_track.stem\n",
    "        track_pickle = pd.read_pickle(path_to_track)\n",
    "        if \"error\" in track_pickle:\n",
    "            tracks_corrupted.append([path_to_track, track_id])"
   ]
  },
  {
   "cell_type": "code",
   "execution_count": 75,
   "id": "fc8f755a-3fd8-41b4-b325-5f68a7c20c47",
   "metadata": {},
   "outputs": [],
   "source": [
    "if tracks_corrupted:\n",
    "    for path_to_track, track_id in tracks_corrupted:\n",
    "        os.system(f\"rm {path_to_track}\")"
   ]
  },
  {
   "cell_type": "code",
   "execution_count": 91,
   "id": "b1f76ef1-dc47-4e78-b51b-2c0317de370d",
   "metadata": {},
   "outputs": [],
   "source": [
    "all_tracks_ids = set(small_genres_df[\"track_id\"])\n",
    "tracks_found = []\n",
    "dir_parts = pathlib.Path(\n",
    "    \"/home/kiri/Kiri_coding/SpotyParser/notebooks/data/small_genres_tracks_analysis\"\n",
    ")\n",
    "\n",
    "for part_dir in listdir(dir_parts):\n",
    "    for track in listdir(dir_parts / part_dir):\n",
    "        path_to_track = dir_parts / part_dir / track\n",
    "        track_id = path_to_track.stem\n",
    "        tracks_found.append(track_id)\n",
    "\n",
    "tracks_found = set(tracks_found)\n",
    "tracks_left = all_tracks_ids.difference(tracks_found)"
   ]
  },
  {
   "cell_type": "markdown",
   "id": "c689d5de-1212-4a53-b26a-d7e22194daa5",
   "metadata": {},
   "source": [
    "#### Доброска не найденных треков (дальнейшная докачка через скрипты)"
   ]
  },
  {
   "cell_type": "code",
   "execution_count": 93,
   "id": "0a351953-afaf-4d11-8a90-f93fdb188a1d",
   "metadata": {},
   "outputs": [
    {
     "name": "stdout",
     "output_type": "stream",
     "text": [
      "Все треки были скачаны\n"
     ]
    }
   ],
   "source": [
    "if tracks_left:\n",
    "    df_left = small_genres_df[small_genres_df[\"track_id\"].isin(tracks_left)]\n",
    "    df_left = pd.DataFrame(df_left[\"track_id\"])\n",
    "    splitted = np.array_split(df_left, 8)\n",
    "    for i, df_split in enumerate(splitted):\n",
    "        df_split.to_csv(f\"../scripts/data/small_genres_chunks/chunk_{i+1}.csv\")\n",
    "else:\n",
    "    print(\"Все треки были скачаны\")"
   ]
  },
  {
   "cell_type": "markdown",
   "id": "04a90642-d96c-4ad0-892e-1c69165cd1f0",
   "metadata": {},
   "source": [
    "### Объединение треков в датасет"
   ]
  },
  {
   "cell_type": "code",
   "execution_count": 94,
   "id": "bde10eb6-7ce8-404b-adbe-e20c106fefe5",
   "metadata": {},
   "outputs": [
    {
     "data": {
      "application/vnd.jupyter.widget-view+json": {
       "model_id": "8873e808aff94b35afcab0bcb32a675c",
       "version_major": 2,
       "version_minor": 0
      },
      "text/plain": [
       "  0%|          | 0/139 [00:00<?, ?it/s]"
      ]
     },
     "metadata": {},
     "output_type": "display_data"
    }
   ],
   "source": [
    "dir_parts = pathlib.Path(\n",
    "    \"/home/kiri/Kiri_coding/SpotyParser/notebooks/data/small_genres_tracks_analysis\"\n",
    ")\n",
    "\n",
    "rows = []\n",
    "for part_dir in tqdm(listdir(dir_parts)):\n",
    "    for track in listdir(dir_parts / part_dir):\n",
    "        to_row = []\n",
    "        path_to_track = dir_parts / part_dir / track\n",
    "        track_id = path_to_track.stem\n",
    "        to_row.append(track_id)\n",
    "\n",
    "        a_analysis = pd.read_pickle(path_to_track)\n",
    "        trackdata = a_analysis[\"track\"]\n",
    "        keys_to_append = [\n",
    "            \"duration\",  # in seconds\n",
    "            \"end_of_fade_in\",\n",
    "            \"start_of_fade_out\",\n",
    "            \"tempo_confidence\",\n",
    "            \"time_signature\",\n",
    "            \"time_signature_confidence\",\n",
    "            \"key_confidence\",\n",
    "            \"mode_confidence\",\n",
    "        ]\n",
    "        for key in keys_to_append:\n",
    "            to_row.append(trackdata[key])\n",
    "        rows.append(to_row)"
   ]
  },
  {
   "cell_type": "code",
   "execution_count": 102,
   "id": "17f3a705-7374-4e6c-a1e6-61df40a7d1d9",
   "metadata": {},
   "outputs": [],
   "source": [
    "analysis_df = pd.DataFrame(\n",
    "    data=rows,\n",
    "    columns=[\n",
    "        \"track_id\",\n",
    "        \"duration_seconds\",  # in seconds\n",
    "        \"end_of_fade_in\",\n",
    "        \"start_of_fade_out\",\n",
    "        \"tempo_confidence\",\n",
    "        \"time_signature\",\n",
    "        \"time_signature_confidence\",\n",
    "        \"key_confidence\",\n",
    "        \"mode_confidence\",\n",
    "    ],\n",
    ")\n",
    "analysis_df = analysis_df.drop_duplicates()"
   ]
  },
  {
   "cell_type": "code",
   "execution_count": 34,
   "id": "66228dd0-4d7c-46a1-92b8-bed354e8b414",
   "metadata": {},
   "outputs": [],
   "source": [
    "analysis_df.to_pickle(\"../../data/small_genres_audio_analysis_df.pickle\")"
   ]
  },
  {
   "cell_type": "markdown",
   "id": "f026f590-982d-4064-ba0e-8481bcb0f9dc",
   "metadata": {},
   "source": [
    "### Объединение датасета с аудиоанализом с датасетом с аудиофичами"
   ]
  },
  {
   "cell_type": "code",
   "execution_count": 5,
   "id": "acef7554-aa1e-4225-bd7b-0dfd1571f34d",
   "metadata": {},
   "outputs": [],
   "source": [
    "analysis_df = pd.read_pickle(\"../../data/small_genres_audio_analysis_df.pickle\")\n",
    "features_df = pd.read_pickle(\"../../data/small_genres_tracks_df.pickle\")"
   ]
  },
  {
   "cell_type": "code",
   "execution_count": 36,
   "id": "ec8033af-6dee-4120-9536-4438236d0c39",
   "metadata": {},
   "outputs": [],
   "source": [
    "merged_df = pd.merge(features_df, analysis_df, on=\"track_id\")\n",
    "merged_df = merged_df.drop([\"time_signature_y\"], axis=1).rename(\n",
    "    {\"time_signature_x\": \"time_signature\"}, axis=1\n",
    ")\n",
    "merged_df.to_pickle(\"../../data/small_genres_merged_df.pickle\")"
   ]
  }
 ],
 "metadata": {
  "kernelspec": {
   "display_name": "Python 3 (ipykernel)",
   "language": "python",
   "name": "python3"
  },
  "language_info": {
   "codemirror_mode": {
    "name": "ipython",
    "version": 3
   },
   "file_extension": ".py",
   "mimetype": "text/x-python",
   "name": "python",
   "nbconvert_exporter": "python",
   "pygments_lexer": "ipython3",
   "version": "3.10.12"
  }
 },
 "nbformat": 4,
 "nbformat_minor": 5
}
