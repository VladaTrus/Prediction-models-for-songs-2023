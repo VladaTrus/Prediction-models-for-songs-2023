{
 "cells": [
  {
   "cell_type": "code",
   "execution_count": 49,
   "id": "e3a105c4-f261-4f21-8e33-9507a7fa6fb8",
   "metadata": {},
   "outputs": [],
   "source": [
    "import pathlib\n",
    "\n",
    "import numpy as np\n",
    "import pandas as pd\n",
    "import spotipy\n",
    "from spotipy import SpotifyClientCredentials\n",
    "from tqdm.notebook import tqdm"
   ]
  },
  {
   "cell_type": "code",
   "execution_count": 27,
   "id": "42a256c2-d805-4418-b357-6e781f7f87ee",
   "metadata": {},
   "outputs": [],
   "source": [
    "columns = [\n",
    "    \"album_type\",\n",
    "    \"album_id\",\n",
    "    \"album_name\",\n",
    "    \"album_release_data\",\n",
    "    \"album_artists_names\",\n",
    "    \"album_artists_ids\",\n",
    "    \"album_total_tracks\",\n",
    "    \"track_artists_names\",\n",
    "    \"track_artists_ids\",\n",
    "    \"track_name\",\n",
    "    \"track_id\",\n",
    "    \"track_type\",\n",
    "    \"track_duration_ms\",\n",
    "    \"track_explicit\",\n",
    "    \"track_popularity\",\n",
    "    \"danceability\",\n",
    "    \"energy\",\n",
    "    \"key\",\n",
    "    \"loudness\",\n",
    "    \"mode\",\n",
    "    \"speechiness\",\n",
    "    \"acousticness\",\n",
    "    \"instrumentalness\",\n",
    "    \"liveness\",\n",
    "    \"valence\",\n",
    "    \"tempo\",\n",
    "    \"uri\",\n",
    "    \"track_href\",\n",
    "    \"analysis_url\",\n",
    "    \"duration_ms\",\n",
    "    \"time_signature\",\n",
    "    \"playlist_id\",\n",
    "    \"genre\",\n",
    "    \"total_followers\",\n",
    "    \"total_tracks\",\n",
    "]\n",
    "\n",
    "# это поля датасета, который должен получиться на выходе"
   ]
  },
  {
   "cell_type": "markdown",
   "id": "7e75f0ef-84bd-402c-bda4-4b661a65d162",
   "metadata": {},
   "source": [
    "Пулим все айдишники из каждого жанра в словарь вида `{\"genre_name\": [track_id, ...]}`\n",
    "\n",
    "Создаем первичный датасет для больших жанров (в него впоследствии будут подгружены аудиофичи)"
   ]
  },
  {
   "cell_type": "code",
   "execution_count": 58,
   "id": "b9ef01b4-18f1-4ad4-b9a3-98df5b0bf1d4",
   "metadata": {},
   "outputs": [],
   "source": [
    "dir_parts = pathlib.Path(\n",
    "    \"/home/kiri/Kiri_coding/SpotyParser/notebooks/data/big_genres_bulk/\"\n",
    ")\n",
    "\n",
    "to_big_genres_df_primary = []  # без аудиофичей\n",
    "for genre_pickle in dir_parts.iterdir():\n",
    "    path_to_genre_pickle = dir_parts / genre_pickle\n",
    "    genre_name = genre_pickle.stem\n",
    "\n",
    "    genre_df = pd.read_pickle(path_to_genre_pickle)\n",
    "    for track_dict in genre_df[\"tracks\"]:\n",
    "        to_row = dict()\n",
    "        # track level\n",
    "        to_row.update(\n",
    "            {\n",
    "                \"track_id\": track_dict[\"id\"],\n",
    "                \"id\": track_dict[\"id\"],\n",
    "                \"track_name\": track_dict[\"name\"],\n",
    "                \"track_duration_ms\": track_dict[\"duration_ms\"],\n",
    "                \"track_explicit\": track_dict[\"explicit\"],\n",
    "                \"track_popularity\": track_dict[\"popularity\"],\n",
    "                \"genre\": genre_name,\n",
    "                \"track_type\": track_dict[\"type\"],\n",
    "                \"uri\": track_dict[\"uri\"],\n",
    "                \"track_href\": track_dict[\"href\"],\n",
    "                \"duration_ms\": track_dict[\"duration_ms\"],\n",
    "            }\n",
    "        )\n",
    "        album_dict = track_dict[\"album\"]\n",
    "        # album level\n",
    "        to_row.update(\n",
    "            {\n",
    "                \"album_type\": album_dict[\"album_type\"],\n",
    "                \"album_id\": album_dict[\"id\"],\n",
    "                \"album_name\": album_dict[\"name\"],\n",
    "                \"album_release_data\": album_dict[\"release_date\"],\n",
    "                \"album_artists_names\": \":artist_custom_separator:\".join(\n",
    "                    [i[\"name\"] for i in album_dict[\"artists\"]]\n",
    "                ),\n",
    "                \"album_artists_ids\": \":artist_custom_separator:\".join(\n",
    "                    [i[\"id\"] for i in album_dict[\"artists\"]]\n",
    "                ),\n",
    "                \"album_total_tracks\": album_dict[\"total_tracks\"],\n",
    "            }\n",
    "        )\n",
    "\n",
    "        # artist level\n",
    "        to_row.update(\n",
    "            {\n",
    "                \"track_artists_names\": \":artist_custom_separator:\".join(\n",
    "                    [i[\"name\"] for i in track_dict[\"artists\"]]\n",
    "                ),\n",
    "                \"track_artists_ids\": \":artist_custom_separator:\".join(\n",
    "                    [i[\"id\"] for i in track_dict[\"artists\"]]\n",
    "                ),\n",
    "            }\n",
    "        )\n",
    "\n",
    "        to_big_genres_df_primary.append(to_row)\n",
    "\n",
    "\n",
    "big_genres_df_primary = pd.DataFrame.from_dict(to_big_genres_df_primary)"
   ]
  },
  {
   "cell_type": "markdown",
   "id": "8a027e32-f262-4f19-b1cf-b9307c9426b5",
   "metadata": {},
   "source": [
    "### Выгрузка аудиофичей треков"
   ]
  },
  {
   "cell_type": "code",
   "execution_count": 16,
   "id": "1a814895-7855-4fff-ad4b-e6576750fa08",
   "metadata": {},
   "outputs": [],
   "source": [
    "sp = spotipy.Spotify(\n",
    "    auth_manager=SpotifyClientCredentials(\n",
    "        client_id=\"dce53a768aca4cbca2e18d75a37d3534\",\n",
    "        client_secret=\"8fe97d868e124ec2bd2927e3668afd4b\",\n",
    "    )\n",
    ")"
   ]
  },
  {
   "cell_type": "code",
   "execution_count": 74,
   "id": "cf73fdc4-d87e-4f3a-aed8-b3e8d147ecdc",
   "metadata": {},
   "outputs": [
    {
     "data": {
      "application/vnd.jupyter.widget-view+json": {
       "model_id": "fe7293ce8912413683f0fc007bf2b0ae",
       "version_major": 2,
       "version_minor": 0
      },
      "text/plain": [
       "  0%|          | 0/126 [00:00<?, ?it/s]"
      ]
     },
     "metadata": {},
     "output_type": "display_data"
    }
   ],
   "source": [
    "tracks_ids = big_genres_df_primary[\"track_id\"]\n",
    "\n",
    "chunks = np.array_split(tracks_ids, np.ceil(len(tracks_ids) / 100))\n",
    "\n",
    "\n",
    "to_big_genres_df_features = []\n",
    "for chunk in tqdm(chunks):\n",
    "    features_data = sp.audio_features(chunk)\n",
    "    for track_data in features_data:\n",
    "        to_row = dict()\n",
    "        audio_features_names = [\n",
    "            \"acousticness\",\n",
    "            \"analysis_url\",\n",
    "            \"danceability\",\n",
    "            \"energy\",\n",
    "            \"instrumentalness\",\n",
    "            \"key\",\n",
    "            \"liveness\",\n",
    "            \"loudness\",\n",
    "            \"mode\",\n",
    "            \"speechiness\",\n",
    "            \"tempo\",\n",
    "            \"time_signature\",\n",
    "            \"type\",\n",
    "            \"valence\",\n",
    "        ]\n",
    "        for feature_name in audio_features_names:\n",
    "            to_row.update({feature_name: track_data[feature_name]})\n",
    "            to_row.update({\"track_id\": track_data[\"id\"]})\n",
    "\n",
    "        to_big_genres_df_features.append(to_row)"
   ]
  },
  {
   "cell_type": "code",
   "execution_count": 76,
   "id": "9fa5c1c9-6150-4a40-b198-44a49fa8da32",
   "metadata": {},
   "outputs": [],
   "source": [
    "big_genres_df_features = pd.DataFrame.from_dict(to_big_genres_df_features)"
   ]
  },
  {
   "cell_type": "code",
   "execution_count": 82,
   "id": "84ecbe70-c39d-4011-8b75-40042ea7cb6e",
   "metadata": {},
   "outputs": [],
   "source": [
    "big_genres_df = pd.merge(\n",
    "    big_genres_df_primary, big_genres_df_features.drop_duplicates(), on=\"track_id\"\n",
    ")"
   ]
  },
  {
   "cell_type": "code",
   "execution_count": 87,
   "id": "29fc4fd3-d65d-4502-9d16-67d6f86744be",
   "metadata": {},
   "outputs": [],
   "source": [
    "big_genres_df.to_pickle(\"../data/big_genres_tracks_df.pickle\")"
   ]
  }
 ],
 "metadata": {
  "kernelspec": {
   "display_name": "Python 3 (ipykernel)",
   "language": "python",
   "name": "python3"
  },
  "language_info": {
   "codemirror_mode": {
    "name": "ipython",
    "version": 3
   },
   "file_extension": ".py",
   "mimetype": "text/x-python",
   "name": "python",
   "nbconvert_exporter": "python",
   "pygments_lexer": "ipython3",
   "version": "3.10.12"
  }
 },
 "nbformat": 4,
 "nbformat_minor": 5
}
