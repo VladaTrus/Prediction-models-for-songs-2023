{
 "cells": [
  {
   "cell_type": "code",
   "execution_count": 8,
   "id": "5620eb34-b127-4908-b629-a26801e0f0b2",
   "metadata": {},
   "outputs": [],
   "source": [
    "import json\n",
    "import os\n",
    "from os import path, listdir\n",
    "from sys import getsizeof\n",
    "import spotipy\n",
    "from spotipy import SpotifyClientCredentials\n",
    "import pickle\n",
    "from tqdm.notebook import tqdm\n",
    "import pandas as pd"
   ]
  },
  {
   "cell_type": "markdown",
   "id": "039ba274-5ccc-49b1-b337-fededbaf3b75",
   "metadata": {},
   "source": [
    "### Init spotify object with client id and secret"
   ]
  },
  {
   "cell_type": "code",
   "execution_count": 60,
   "id": "878e0823-8164-4831-be23-b9dcd2ab354d",
   "metadata": {},
   "outputs": [],
   "source": [
    "with open(\"configs/spotify_config.json\", \"r\") as f:\n",
    "    SPOTIFY_CONFIG = json.load(f)\n",
    "client_id = SPOTIFY_CONFIG['client_id']\n",
    "client_secret = SPOTIFY_CONFIG['client_secret']\n",
    "\n",
    "sp = spotipy.Spotify(\n",
    "        auth_manager=SpotifyClientCredentials(\n",
    "            client_id=client_id, client_secret=client_secret\n",
    "        )\n",
    "    )"
   ]
  },
  {
   "cell_type": "markdown",
   "id": "67d451a8-0d83-46e9-accf-abda7140b57e",
   "metadata": {},
   "source": [
    "### Process genres\n"
   ]
  },
  {
   "cell_type": "markdown",
   "id": "7f066beb-5a18-4803-8f2e-4f762969d398",
   "metadata": {},
   "source": [
    "#### First: collect tracks from playlists"
   ]
  },
  {
   "cell_type": "code",
   "execution_count": 10,
   "id": "beb29d77-e73d-41b2-bb33-500a1a714398",
   "metadata": {},
   "outputs": [],
   "source": [
    "with open(\"filtered_genres_playlist_fin.json\", \"r\") as f:\n",
    "    genres = json.load(f)"
   ]
  },
  {
   "cell_type": "code",
   "execution_count": 11,
   "id": "96f88fe5-28e2-4a5f-b205-d425653f5b26",
   "metadata": {},
   "outputs": [],
   "source": [
    "def embed_to_url(embed_url):\n",
    "    playlist_id = embed_url.split(\"playlist:\")[1]\n",
    "    return playlist_id#f\"https://open.spotify.com/{playlist_id}\"\n"
   ]
  },
  {
   "cell_type": "code",
   "execution_count": 12,
   "id": "4db375ae-3c3c-4181-8fa3-63e378fa2153",
   "metadata": {},
   "outputs": [],
   "source": [
    "to_playlist_db = {}\n",
    "to_tracks_db = {}"
   ]
  },
  {
   "cell_type": "code",
   "execution_count": 28,
   "id": "042b1306-2ea4-4e32-83e8-45b6ebb51b57",
   "metadata": {},
   "outputs": [
    {
     "data": {
      "application/vnd.jupyter.widget-view+json": {
       "model_id": "ebb22868364a43c7a29c69845e779407",
       "version_major": 2,
       "version_minor": 0
      },
      "text/plain": [
       "  0%|          | 0/1430 [00:00<?, ?it/s]"
      ]
     },
     "metadata": {},
     "output_type": "display_data"
    },
    {
     "name": "stdout",
     "output_type": "stream",
     "text": [
      "Found non-track\n",
      "Found non-track\n",
      "Found non-track\n",
      "Found non-track\n",
      "Found non-track\n",
      "Found non-track\n",
      "Found non-track\n",
      "Found non-track\n",
      "Found non-track\n",
      "Found non-track\n",
      "Found non-track\n",
      "Found non-track\n",
      "Found non-track\n",
      "Found non-track\n",
      "Found non-track\n",
      "Found non-track\n",
      "Found non-track\n",
      "Found non-track\n",
      "Found non-track\n",
      "Found non-track\n",
      "Found non-track\n",
      "Found non-track\n",
      "Found non-track\n",
      "Found non-track\n",
      "Found non-track\n",
      "Found non-track\n",
      "Found non-track\n",
      "Found non-track\n",
      "Found non-track\n",
      "Found non-track\n",
      "Found non-track\n",
      "Found non-track\n"
     ]
    }
   ],
   "source": [
    "if \"genres_tracker.pickle\" in listdir():\n",
    "    with open(\"genres_tracker.pickle\", \"rb\") as f:\n",
    "        genres_to_download = pickle.load(f)\n",
    "else:\n",
    "    genres_to_download = list(genres.keys())\n",
    "\n",
    "genres_iter = genres_to_download.copy()\n",
    "for genre_to_download in tqdm(genres_iter):\n",
    "\n",
    "    # write playlists info\n",
    "    playlist_id = embed_to_url(genres[genre_to_download])\n",
    "    pl = sp.playlist(playlist_id)\n",
    "    total_followers = pl['followers']['total']\n",
    "    total_tracks = pl['tracks']['total']\n",
    "    to_playlist_dict = {\"playlist_id\": playlist_id, \n",
    "                           \"genre\": genre_to_download, \n",
    "                           \"total_followers\": total_followers,\n",
    "                           \"total_tracks\": total_tracks}\n",
    "\n",
    "    # write tracks_info\n",
    "    tracks_boxes = pl['tracks']['items']\n",
    "    to_tracks_dict = {playlist_id: {}}\n",
    "    for track_box in tracks_boxes:\n",
    "        \n",
    "        track = track_box['track']\n",
    "        if track is None:\n",
    "            print(\"Found non-track\")\n",
    "            continue\n",
    "        track_id = track['id']\n",
    "        to_tracks_dict[playlist_id].update({track_id: {}})\n",
    "        \n",
    "        \n",
    "        # album info\n",
    "        album_box = track['album']\n",
    "        to_tracks_dict[playlist_id][track_id].update({\"album_type\": album_box['album_type'],\n",
    "                                           \"album_id\": album_box['id'],\n",
    "                                           \"album_name\": album_box['name'],\n",
    "                                           \"album_release_data\": album_box['release_date'],\n",
    "                                           \"album_artists_names\": ':artist_custom_separator:'.join(\n",
    "                                               [i['name'] for i in album_box['artists']]\n",
    "                                           ),\n",
    "                                           \"album_artists_ids\": ':artist_custom_separator:'.join(\n",
    "                                               [i['id'] for i in album_box['artists']]\n",
    "                                           ),\n",
    "                                           \"album_total_tracks\": album_box['total_tracks']\n",
    "                                           })\n",
    "           \n",
    "        \n",
    "        # artist info\n",
    "        to_tracks_dict[playlist_id][track_id].update({\"track_artists_names\": ':artist_custom_separator:'.join([i['name'] for i in track['artists']]),\n",
    "                                            \"track_artists_ids\": ':artist_custom_separator:'.join([i['id'] for i in track['artists']])\n",
    "                                           })\n",
    "        \n",
    "        \n",
    "    \n",
    "        # track info\n",
    "        to_tracks_dict[playlist_id][track_id].update({\"track_name\": track['name'],\n",
    "                                            \"track_id\": track['id'],\n",
    "                                            \"track_type\": track['type'],\n",
    "                                            \"track_duration_ms\": track['duration_ms'],\n",
    "                                            \"track_explicit\": track['explicit'],\n",
    "                                            \"track_popularity\": track['popularity'],\n",
    "                                           })\n",
    "        \n",
    "        \n",
    "    \n",
    "\n",
    "    to_playlist_db.update({genre_to_download: to_playlist_dict})\n",
    "    to_tracks_db.update(to_tracks_dict)\n",
    "    genres_to_download.pop(0)\n",
    "    with open(\"genres_tracker.pickle\", \"wb\") as f:\n",
    "        pickle.dump(genres_to_download, f)\n",
    "\n",
    "    with open(\"to_playlist_db.pickle\", \"wb\") as f:\n",
    "        pickle.dump(to_playlist_db, f)\n",
    "\n",
    "    with open(\"to_tracks_db.pickle\", \"wb\") as f:\n",
    "        pickle.dump(to_tracks_db, f)\n",
    "\n",
    "        \n",
    "    "
   ]
  },
  {
   "cell_type": "markdown",
   "id": "7f0e3493-f9f9-48f9-a246-af0ec4c01e17",
   "metadata": {},
   "source": [
    "#### Second: collect more track-level info"
   ]
  },
  {
   "cell_type": "code",
   "execution_count": 29,
   "id": "65f828ea-4143-4cf1-bc87-8bbdde7ef68b",
   "metadata": {},
   "outputs": [],
   "source": [
    "with open(\"to_tracks_db.pickle\", \"rb\") as f:\n",
    "    to_tracks_db = pickle.load(f)"
   ]
  },
  {
   "cell_type": "code",
   "execution_count": 30,
   "id": "09280099-1577-4327-8a34-c677f7eae173",
   "metadata": {},
   "outputs": [],
   "source": [
    "if \"to_tracks_db_second.pickle\" in listdir():\n",
    "    with open(\"to_tracks_db_second.pickle\", \"rb\") as f:\n",
    "        to_tracks_db_second = pickle.load(f)\n",
    "else:\n",
    "    to_tracks_db_second = {}"
   ]
  },
  {
   "cell_type": "code",
   "execution_count": 31,
   "id": "c190e32d-a747-4f64-9901-138b2cf2f954",
   "metadata": {},
   "outputs": [],
   "source": [
    "def split_into_chunks(iterable_, size):\n",
    "    if size > len(iterable_):\n",
    "        return None\n",
    "    \n",
    "    len_ = len(iterable_)\n",
    "    n_full = len(iterable_) // size\n",
    "    to_return = []\n",
    "    for i in range(n_full):\n",
    "        to_return.append(iterable_[i*size:(i+1)*size])\n",
    "    if (last_part := iterable_[n_full*size:]):\n",
    "        to_return.append(last_part)\n",
    "    return to_return"
   ]
  },
  {
   "cell_type": "code",
   "execution_count": 69,
   "id": "3f8df4ef-ec0e-4e1e-bae5-8f739f0e6aa1",
   "metadata": {},
   "outputs": [
    {
     "data": {
      "application/vnd.jupyter.widget-view+json": {
       "model_id": "d3596cfc31bc4b8985e4086e83817b5c",
       "version_major": 2,
       "version_minor": 0
      },
      "text/plain": [
       "  0%|          | 0/939 [00:00<?, ?it/s]"
      ]
     },
     "metadata": {},
     "output_type": "display_data"
    },
    {
     "name": "stderr",
     "output_type": "stream",
     "text": [
      "Max Retries reached\n"
     ]
    },
    {
     "ename": "SpotifyException",
     "evalue": "http status: 429, code:-1 - /v1/audio-features/?ids=4JNyYp4SxcUAaB8XeVAeHM,0ci44NVZuqzQkjEuJU59lI,0oAR9pJWkiF0bR7PIYd2es,6444OoiysqF9oMUDqeNuT1,7xGIDrber9QNV6sGkXjbU0,56zmbTpGNq5xEFS78Mdubg,26Kf69sxU5WEI9OHLqTrJV,2bh5oo3PkIyd1MVK75dT37,4T4SRHYqyQYo5r00F8Q6pO,3yKQMKSulgVjQv0k7s6XyG,2KMtjCV6Cn9ssl5qOPgOet,6vgbEyGrXdvgQlXdLRKB2B,5FVgyqg76qynbtdVZcTGPS,6JM9oYKfqsv97YiT2HEWBO,49QNhxYpRLNzlYZJROTj2x,7umLQxLHvNgepDa9f6IwUv,5SPn4sYvYjpGQbLSFBR7vr,2qV5SPdswb3sXUOhaRJBNv,5P15cm1CgK7tz9mA66SXaT,5KOvIodYN0RbZxsT9gtHtw,1XcM9HxA8vcYipa3bmwUrP,5IxMjIjxa91QF8pyCxAJvI,0W9ZHmgWTYZyBp5Z3w0Wan,5BQDxbhpYU5b5cdYkWdRFQ,73owgYvspkDWiLwLDxloxn,7FKH8cRBqFjgxfArnJLqaW,20haAkyAekQ96roINFIANm,7LDq2cE0TQV66BXorbV8FD,0MXZ9WpcuHxmwlH5qD4MaM,1Y1JmZx6PxjGwTA2WihtJS,2YwJMorvqqGcVWwjbvl6jN,4EAOZzQ8FAwlMHpRmI1Um3,0FerzWnhUhZdFLnrpsqAiY,6LMjSt9vwT4Q827avd4y8E,1csCF4ujk4DN4swpMxZPdG,04DVF065NOx5wRtYeOP2OH,36vDa8TbcpXawdaYh1IWVm,3B0hzwc1e8AYOytj9hZS2I,0nn1gOjGZjObCNySWVY7fZ,6YLWkUzdBzCtXIGngc1ROj,7Jj9ygPtg5IzRzX9cfeI80,7yLzGp7vC3qg5FlBmUa8Rg,2ejS1kysr5TPQNGSOgzkdA,4rk0u76lg4D0vVLSeTooNJ,3CmrB7T7Lc9crsdvS8q19s,0P6soDF1syQ592sUCseXHe,26TzNAUDOizTv0EJMDpUWS,5K9ka2I5o2T0tmFSpysNqW,0knAHKgoYTNdA6rJTvc4sg,3IIyTdTmKfL4b3U1qOrBTo,4laidm7QyhsId0XX3RQ8Hk,3Cv5sKQDMRfx1Py7gcT2z1,6Dh0TW3rcPn4UD6F7VBgnO,2dxwOjX0uo5gPG7JTUKZW4,5F0SeFoEvGi64888rJz0HK,5XKvea6ua8cPNxSAFJLB7e,7nulQV4GAPHJmqWzEGDdHd,1GVA3pLyw3CuOBDuFO5YNI,5yA7lbHGaER16zBVxyD5ET,6RyIiYvJLW4ak6IXN1eEQp,24wPUgmnaMWgGLz6XhS60g,1mD0LxzCdfathf6j7xMp7b,0uKx0kvuosOccVNVnar1Ka,3eKoLbxkNhAINXr22jjv7E,2LfwFEFF0FqKXFtX0GHXcH,2CLWYxRZ6wSitCaLCM15CF,656fu7zieCVPjpYFA7Hcqj,0ihD0DZaMuLHP3fMZBmGt1,4gVdmXgR8Lp56NonH5LCY6,1zz2Q0OgNChEJX10pkuMzf,1XzGZGwTh8KmFDwexdfdqw,0qRr1jzv5QbUktvWeZUuvs,3ADiFCMXs91ZyEBSWIiAK6,5UrCArd6UDDR2EPFOeWCxb,7IlvADoEl6VZwvyxPRg3GL,78WZ1kSG1kSWEURNhTGzWt,5Sa9ZJCkpSYgLcCYHOCKpN,0Fq3H0W5mxnSEeWDkCpJlP,3Xfg7AegXaDLoD5GOUMf2e,6ldfbljsXS4kSuGxSvJTm1,2YsLvdm387xBKdmVMVZ1q2,5dsu6BWxTobtUuwmyJg07w,2OUBPoxJ91IIdpPZiVW5X8,3LQNvkeBZlYiXEbzhW6QMM,6zY7DGYzGrkniOU1PxaK4h,6DwogjaSBKSMcd1ahmAUSW,5Jaf4NzAvm7SkvOZKNOZRl,2aTuHt6TPwZkT0079MzPHV,0J9xyNtSafUCjLksYrwFqI,3lEzTG0DV4pKjA5ZZiY0C9,4sDf4MGHF1GF76LkmLn2HV,4qJrDTPDsQqaYGKMj0Thjk,08aqoT82lbhlpCqnMWYb0y,6suOpuXcFt3jte5LsRP6J6,3ESt9OYwANn87h5C6sIFDU,3OOIKPMVqlCALvphXtAPkp,2Zg6z0XddeBbb7ceZBcPdR,0ByC7DPj6qJK3FfcpNoWWg,7seuJCMBqkg1ayg1S7b5hE,46XKwgC2uZZWRrIdUcVpGg:\n Max Retries, reason: too many 429 error responses",
     "output_type": "error",
     "traceback": [
      "\u001b[0;31m---------------------------------------------------------------------------\u001b[0m",
      "\u001b[0;31mMaxRetryError\u001b[0m                             Traceback (most recent call last)",
      "\u001b[0;32m~/.local/lib/python3.10/site-packages/requests/adapters.py\u001b[0m in \u001b[0;36msend\u001b[0;34m(self, request, stream, timeout, verify, cert, proxies)\u001b[0m\n\u001b[1;32m    485\u001b[0m         \u001b[0;32mtry\u001b[0m\u001b[0;34m:\u001b[0m\u001b[0;34m\u001b[0m\u001b[0;34m\u001b[0m\u001b[0m\n\u001b[0;32m--> 486\u001b[0;31m             resp = conn.urlopen(\n\u001b[0m\u001b[1;32m    487\u001b[0m                 \u001b[0mmethod\u001b[0m\u001b[0;34m=\u001b[0m\u001b[0mrequest\u001b[0m\u001b[0;34m.\u001b[0m\u001b[0mmethod\u001b[0m\u001b[0;34m,\u001b[0m\u001b[0;34m\u001b[0m\u001b[0;34m\u001b[0m\u001b[0m\n",
      "\u001b[0;32m~/.local/lib/python3.10/site-packages/urllib3/connectionpool.py\u001b[0m in \u001b[0;36murlopen\u001b[0;34m(self, method, url, body, headers, retries, redirect, assert_same_host, timeout, pool_timeout, release_conn, chunked, body_pos, **response_kw)\u001b[0m\n\u001b[1;32m    893\u001b[0m             \u001b[0mlog\u001b[0m\u001b[0;34m.\u001b[0m\u001b[0mdebug\u001b[0m\u001b[0;34m(\u001b[0m\u001b[0;34m\"Retry: %s\"\u001b[0m\u001b[0;34m,\u001b[0m \u001b[0murl\u001b[0m\u001b[0;34m)\u001b[0m\u001b[0;34m\u001b[0m\u001b[0;34m\u001b[0m\u001b[0m\n\u001b[0;32m--> 894\u001b[0;31m             return self.urlopen(\n\u001b[0m\u001b[1;32m    895\u001b[0m                 \u001b[0mmethod\u001b[0m\u001b[0;34m,\u001b[0m\u001b[0;34m\u001b[0m\u001b[0;34m\u001b[0m\u001b[0m\n",
      "\u001b[0;32m~/.local/lib/python3.10/site-packages/urllib3/connectionpool.py\u001b[0m in \u001b[0;36murlopen\u001b[0;34m(self, method, url, body, headers, retries, redirect, assert_same_host, timeout, pool_timeout, release_conn, chunked, body_pos, **response_kw)\u001b[0m\n\u001b[1;32m    893\u001b[0m             \u001b[0mlog\u001b[0m\u001b[0;34m.\u001b[0m\u001b[0mdebug\u001b[0m\u001b[0;34m(\u001b[0m\u001b[0;34m\"Retry: %s\"\u001b[0m\u001b[0;34m,\u001b[0m \u001b[0murl\u001b[0m\u001b[0;34m)\u001b[0m\u001b[0;34m\u001b[0m\u001b[0;34m\u001b[0m\u001b[0m\n\u001b[0;32m--> 894\u001b[0;31m             return self.urlopen(\n\u001b[0m\u001b[1;32m    895\u001b[0m                 \u001b[0mmethod\u001b[0m\u001b[0;34m,\u001b[0m\u001b[0;34m\u001b[0m\u001b[0;34m\u001b[0m\u001b[0m\n",
      "\u001b[0;32m~/.local/lib/python3.10/site-packages/urllib3/connectionpool.py\u001b[0m in \u001b[0;36murlopen\u001b[0;34m(self, method, url, body, headers, retries, redirect, assert_same_host, timeout, pool_timeout, release_conn, chunked, body_pos, **response_kw)\u001b[0m\n\u001b[1;32m    893\u001b[0m             \u001b[0mlog\u001b[0m\u001b[0;34m.\u001b[0m\u001b[0mdebug\u001b[0m\u001b[0;34m(\u001b[0m\u001b[0;34m\"Retry: %s\"\u001b[0m\u001b[0;34m,\u001b[0m \u001b[0murl\u001b[0m\u001b[0;34m)\u001b[0m\u001b[0;34m\u001b[0m\u001b[0;34m\u001b[0m\u001b[0m\n\u001b[0;32m--> 894\u001b[0;31m             return self.urlopen(\n\u001b[0m\u001b[1;32m    895\u001b[0m                 \u001b[0mmethod\u001b[0m\u001b[0;34m,\u001b[0m\u001b[0;34m\u001b[0m\u001b[0;34m\u001b[0m\u001b[0m\n",
      "\u001b[0;32m~/.local/lib/python3.10/site-packages/urllib3/connectionpool.py\u001b[0m in \u001b[0;36murlopen\u001b[0;34m(self, method, url, body, headers, retries, redirect, assert_same_host, timeout, pool_timeout, release_conn, chunked, body_pos, **response_kw)\u001b[0m\n\u001b[1;32m    883\u001b[0m             \u001b[0;32mtry\u001b[0m\u001b[0;34m:\u001b[0m\u001b[0;34m\u001b[0m\u001b[0;34m\u001b[0m\u001b[0m\n\u001b[0;32m--> 884\u001b[0;31m                 \u001b[0mretries\u001b[0m \u001b[0;34m=\u001b[0m \u001b[0mretries\u001b[0m\u001b[0;34m.\u001b[0m\u001b[0mincrement\u001b[0m\u001b[0;34m(\u001b[0m\u001b[0mmethod\u001b[0m\u001b[0;34m,\u001b[0m \u001b[0murl\u001b[0m\u001b[0;34m,\u001b[0m \u001b[0mresponse\u001b[0m\u001b[0;34m=\u001b[0m\u001b[0mresponse\u001b[0m\u001b[0;34m,\u001b[0m \u001b[0m_pool\u001b[0m\u001b[0;34m=\u001b[0m\u001b[0mself\u001b[0m\u001b[0;34m)\u001b[0m\u001b[0;34m\u001b[0m\u001b[0;34m\u001b[0m\u001b[0m\n\u001b[0m\u001b[1;32m    885\u001b[0m             \u001b[0;32mexcept\u001b[0m \u001b[0mMaxRetryError\u001b[0m\u001b[0;34m:\u001b[0m\u001b[0;34m\u001b[0m\u001b[0;34m\u001b[0m\u001b[0m\n",
      "\u001b[0;32m~/.local/lib/python3.10/site-packages/urllib3/util/retry.py\u001b[0m in \u001b[0;36mincrement\u001b[0;34m(self, method, url, response, error, _pool, _stacktrace)\u001b[0m\n\u001b[1;32m    591\u001b[0m         \u001b[0;32mif\u001b[0m \u001b[0mnew_retry\u001b[0m\u001b[0;34m.\u001b[0m\u001b[0mis_exhausted\u001b[0m\u001b[0;34m(\u001b[0m\u001b[0;34m)\u001b[0m\u001b[0;34m:\u001b[0m\u001b[0;34m\u001b[0m\u001b[0;34m\u001b[0m\u001b[0m\n\u001b[0;32m--> 592\u001b[0;31m             \u001b[0;32mraise\u001b[0m \u001b[0mMaxRetryError\u001b[0m\u001b[0;34m(\u001b[0m\u001b[0m_pool\u001b[0m\u001b[0;34m,\u001b[0m \u001b[0murl\u001b[0m\u001b[0;34m,\u001b[0m \u001b[0merror\u001b[0m \u001b[0;32mor\u001b[0m \u001b[0mResponseError\u001b[0m\u001b[0;34m(\u001b[0m\u001b[0mcause\u001b[0m\u001b[0;34m)\u001b[0m\u001b[0;34m)\u001b[0m\u001b[0;34m\u001b[0m\u001b[0;34m\u001b[0m\u001b[0m\n\u001b[0m\u001b[1;32m    593\u001b[0m \u001b[0;34m\u001b[0m\u001b[0m\n",
      "\u001b[0;31mMaxRetryError\u001b[0m: HTTPSConnectionPool(host='api.spotify.com', port=443): Max retries exceeded with url: /v1/audio-features/?ids=4JNyYp4SxcUAaB8XeVAeHM,0ci44NVZuqzQkjEuJU59lI,0oAR9pJWkiF0bR7PIYd2es,6444OoiysqF9oMUDqeNuT1,7xGIDrber9QNV6sGkXjbU0,56zmbTpGNq5xEFS78Mdubg,26Kf69sxU5WEI9OHLqTrJV,2bh5oo3PkIyd1MVK75dT37,4T4SRHYqyQYo5r00F8Q6pO,3yKQMKSulgVjQv0k7s6XyG,2KMtjCV6Cn9ssl5qOPgOet,6vgbEyGrXdvgQlXdLRKB2B,5FVgyqg76qynbtdVZcTGPS,6JM9oYKfqsv97YiT2HEWBO,49QNhxYpRLNzlYZJROTj2x,7umLQxLHvNgepDa9f6IwUv,5SPn4sYvYjpGQbLSFBR7vr,2qV5SPdswb3sXUOhaRJBNv,5P15cm1CgK7tz9mA66SXaT,5KOvIodYN0RbZxsT9gtHtw,1XcM9HxA8vcYipa3bmwUrP,5IxMjIjxa91QF8pyCxAJvI,0W9ZHmgWTYZyBp5Z3w0Wan,5BQDxbhpYU5b5cdYkWdRFQ,73owgYvspkDWiLwLDxloxn,7FKH8cRBqFjgxfArnJLqaW,20haAkyAekQ96roINFIANm,7LDq2cE0TQV66BXorbV8FD,0MXZ9WpcuHxmwlH5qD4MaM,1Y1JmZx6PxjGwTA2WihtJS,2YwJMorvqqGcVWwjbvl6jN,4EAOZzQ8FAwlMHpRmI1Um3,0FerzWnhUhZdFLnrpsqAiY,6LMjSt9vwT4Q827avd4y8E,1csCF4ujk4DN4swpMxZPdG,04DVF065NOx5wRtYeOP2OH,36vDa8TbcpXawdaYh1IWVm,3B0hzwc1e8AYOytj9hZS2I,0nn1gOjGZjObCNySWVY7fZ,6YLWkUzdBzCtXIGngc1ROj,7Jj9ygPtg5IzRzX9cfeI80,7yLzGp7vC3qg5FlBmUa8Rg,2ejS1kysr5TPQNGSOgzkdA,4rk0u76lg4D0vVLSeTooNJ,3CmrB7T7Lc9crsdvS8q19s,0P6soDF1syQ592sUCseXHe,26TzNAUDOizTv0EJMDpUWS,5K9ka2I5o2T0tmFSpysNqW,0knAHKgoYTNdA6rJTvc4sg,3IIyTdTmKfL4b3U1qOrBTo,4laidm7QyhsId0XX3RQ8Hk,3Cv5sKQDMRfx1Py7gcT2z1,6Dh0TW3rcPn4UD6F7VBgnO,2dxwOjX0uo5gPG7JTUKZW4,5F0SeFoEvGi64888rJz0HK,5XKvea6ua8cPNxSAFJLB7e,7nulQV4GAPHJmqWzEGDdHd,1GVA3pLyw3CuOBDuFO5YNI,5yA7lbHGaER16zBVxyD5ET,6RyIiYvJLW4ak6IXN1eEQp,24wPUgmnaMWgGLz6XhS60g,1mD0LxzCdfathf6j7xMp7b,0uKx0kvuosOccVNVnar1Ka,3eKoLbxkNhAINXr22jjv7E,2LfwFEFF0FqKXFtX0GHXcH,2CLWYxRZ6wSitCaLCM15CF,656fu7zieCVPjpYFA7Hcqj,0ihD0DZaMuLHP3fMZBmGt1,4gVdmXgR8Lp56NonH5LCY6,1zz2Q0OgNChEJX10pkuMzf,1XzGZGwTh8KmFDwexdfdqw,0qRr1jzv5QbUktvWeZUuvs,3ADiFCMXs91ZyEBSWIiAK6,5UrCArd6UDDR2EPFOeWCxb,7IlvADoEl6VZwvyxPRg3GL,78WZ1kSG1kSWEURNhTGzWt,5Sa9ZJCkpSYgLcCYHOCKpN,0Fq3H0W5mxnSEeWDkCpJlP,3Xfg7AegXaDLoD5GOUMf2e,6ldfbljsXS4kSuGxSvJTm1,2YsLvdm387xBKdmVMVZ1q2,5dsu6BWxTobtUuwmyJg07w,2OUBPoxJ91IIdpPZiVW5X8,3LQNvkeBZlYiXEbzhW6QMM,6zY7DGYzGrkniOU1PxaK4h,6DwogjaSBKSMcd1ahmAUSW,5Jaf4NzAvm7SkvOZKNOZRl,2aTuHt6TPwZkT0079MzPHV,0J9xyNtSafUCjLksYrwFqI,3lEzTG0DV4pKjA5ZZiY0C9,4sDf4MGHF1GF76LkmLn2HV,4qJrDTPDsQqaYGKMj0Thjk,08aqoT82lbhlpCqnMWYb0y,6suOpuXcFt3jte5LsRP6J6,3ESt9OYwANn87h5C6sIFDU,3OOIKPMVqlCALvphXtAPkp,2Zg6z0XddeBbb7ceZBcPdR,0ByC7DPj6qJK3FfcpNoWWg,7seuJCMBqkg1ayg1S7b5hE,46XKwgC2uZZWRrIdUcVpGg (Caused by ResponseError('too many 429 error responses'))",
      "\nDuring handling of the above exception, another exception occurred:\n",
      "\u001b[0;31mRetryError\u001b[0m                                Traceback (most recent call last)",
      "\u001b[0;32m~/.local/lib/python3.10/site-packages/spotipy/client.py\u001b[0m in \u001b[0;36m_internal_call\u001b[0;34m(self, method, url, payload, params)\u001b[0m\n\u001b[1;32m    265\u001b[0m         \u001b[0;32mtry\u001b[0m\u001b[0;34m:\u001b[0m\u001b[0;34m\u001b[0m\u001b[0;34m\u001b[0m\u001b[0m\n\u001b[0;32m--> 266\u001b[0;31m             response = self._session.request(\n\u001b[0m\u001b[1;32m    267\u001b[0m                 \u001b[0mmethod\u001b[0m\u001b[0;34m,\u001b[0m \u001b[0murl\u001b[0m\u001b[0;34m,\u001b[0m \u001b[0mheaders\u001b[0m\u001b[0;34m=\u001b[0m\u001b[0mheaders\u001b[0m\u001b[0;34m,\u001b[0m \u001b[0mproxies\u001b[0m\u001b[0;34m=\u001b[0m\u001b[0mself\u001b[0m\u001b[0;34m.\u001b[0m\u001b[0mproxies\u001b[0m\u001b[0;34m,\u001b[0m\u001b[0;34m\u001b[0m\u001b[0;34m\u001b[0m\u001b[0m\n",
      "\u001b[0;32m~/.local/lib/python3.10/site-packages/requests/sessions.py\u001b[0m in \u001b[0;36mrequest\u001b[0;34m(self, method, url, params, data, headers, cookies, files, auth, timeout, allow_redirects, proxies, hooks, stream, verify, cert, json)\u001b[0m\n\u001b[1;32m    588\u001b[0m         \u001b[0msend_kwargs\u001b[0m\u001b[0;34m.\u001b[0m\u001b[0mupdate\u001b[0m\u001b[0;34m(\u001b[0m\u001b[0msettings\u001b[0m\u001b[0;34m)\u001b[0m\u001b[0;34m\u001b[0m\u001b[0;34m\u001b[0m\u001b[0m\n\u001b[0;32m--> 589\u001b[0;31m         \u001b[0mresp\u001b[0m \u001b[0;34m=\u001b[0m \u001b[0mself\u001b[0m\u001b[0;34m.\u001b[0m\u001b[0msend\u001b[0m\u001b[0;34m(\u001b[0m\u001b[0mprep\u001b[0m\u001b[0;34m,\u001b[0m \u001b[0;34m**\u001b[0m\u001b[0msend_kwargs\u001b[0m\u001b[0;34m)\u001b[0m\u001b[0;34m\u001b[0m\u001b[0;34m\u001b[0m\u001b[0m\n\u001b[0m\u001b[1;32m    590\u001b[0m \u001b[0;34m\u001b[0m\u001b[0m\n",
      "\u001b[0;32m~/.local/lib/python3.10/site-packages/requests/sessions.py\u001b[0m in \u001b[0;36msend\u001b[0;34m(self, request, **kwargs)\u001b[0m\n\u001b[1;32m    702\u001b[0m         \u001b[0;31m# Send the request\u001b[0m\u001b[0;34m\u001b[0m\u001b[0;34m\u001b[0m\u001b[0m\n\u001b[0;32m--> 703\u001b[0;31m         \u001b[0mr\u001b[0m \u001b[0;34m=\u001b[0m \u001b[0madapter\u001b[0m\u001b[0;34m.\u001b[0m\u001b[0msend\u001b[0m\u001b[0;34m(\u001b[0m\u001b[0mrequest\u001b[0m\u001b[0;34m,\u001b[0m \u001b[0;34m**\u001b[0m\u001b[0mkwargs\u001b[0m\u001b[0;34m)\u001b[0m\u001b[0;34m\u001b[0m\u001b[0;34m\u001b[0m\u001b[0m\n\u001b[0m\u001b[1;32m    704\u001b[0m \u001b[0;34m\u001b[0m\u001b[0m\n",
      "\u001b[0;32m~/.local/lib/python3.10/site-packages/requests/adapters.py\u001b[0m in \u001b[0;36msend\u001b[0;34m(self, request, stream, timeout, verify, cert, proxies)\u001b[0m\n\u001b[1;32m    509\u001b[0m             \u001b[0;32mif\u001b[0m \u001b[0misinstance\u001b[0m\u001b[0;34m(\u001b[0m\u001b[0me\u001b[0m\u001b[0;34m.\u001b[0m\u001b[0mreason\u001b[0m\u001b[0;34m,\u001b[0m \u001b[0mResponseError\u001b[0m\u001b[0;34m)\u001b[0m\u001b[0;34m:\u001b[0m\u001b[0;34m\u001b[0m\u001b[0;34m\u001b[0m\u001b[0m\n\u001b[0;32m--> 510\u001b[0;31m                 \u001b[0;32mraise\u001b[0m \u001b[0mRetryError\u001b[0m\u001b[0;34m(\u001b[0m\u001b[0me\u001b[0m\u001b[0;34m,\u001b[0m \u001b[0mrequest\u001b[0m\u001b[0;34m=\u001b[0m\u001b[0mrequest\u001b[0m\u001b[0;34m)\u001b[0m\u001b[0;34m\u001b[0m\u001b[0;34m\u001b[0m\u001b[0m\n\u001b[0m\u001b[1;32m    511\u001b[0m \u001b[0;34m\u001b[0m\u001b[0m\n",
      "\u001b[0;31mRetryError\u001b[0m: HTTPSConnectionPool(host='api.spotify.com', port=443): Max retries exceeded with url: /v1/audio-features/?ids=4JNyYp4SxcUAaB8XeVAeHM,0ci44NVZuqzQkjEuJU59lI,0oAR9pJWkiF0bR7PIYd2es,6444OoiysqF9oMUDqeNuT1,7xGIDrber9QNV6sGkXjbU0,56zmbTpGNq5xEFS78Mdubg,26Kf69sxU5WEI9OHLqTrJV,2bh5oo3PkIyd1MVK75dT37,4T4SRHYqyQYo5r00F8Q6pO,3yKQMKSulgVjQv0k7s6XyG,2KMtjCV6Cn9ssl5qOPgOet,6vgbEyGrXdvgQlXdLRKB2B,5FVgyqg76qynbtdVZcTGPS,6JM9oYKfqsv97YiT2HEWBO,49QNhxYpRLNzlYZJROTj2x,7umLQxLHvNgepDa9f6IwUv,5SPn4sYvYjpGQbLSFBR7vr,2qV5SPdswb3sXUOhaRJBNv,5P15cm1CgK7tz9mA66SXaT,5KOvIodYN0RbZxsT9gtHtw,1XcM9HxA8vcYipa3bmwUrP,5IxMjIjxa91QF8pyCxAJvI,0W9ZHmgWTYZyBp5Z3w0Wan,5BQDxbhpYU5b5cdYkWdRFQ,73owgYvspkDWiLwLDxloxn,7FKH8cRBqFjgxfArnJLqaW,20haAkyAekQ96roINFIANm,7LDq2cE0TQV66BXorbV8FD,0MXZ9WpcuHxmwlH5qD4MaM,1Y1JmZx6PxjGwTA2WihtJS,2YwJMorvqqGcVWwjbvl6jN,4EAOZzQ8FAwlMHpRmI1Um3,0FerzWnhUhZdFLnrpsqAiY,6LMjSt9vwT4Q827avd4y8E,1csCF4ujk4DN4swpMxZPdG,04DVF065NOx5wRtYeOP2OH,36vDa8TbcpXawdaYh1IWVm,3B0hzwc1e8AYOytj9hZS2I,0nn1gOjGZjObCNySWVY7fZ,6YLWkUzdBzCtXIGngc1ROj,7Jj9ygPtg5IzRzX9cfeI80,7yLzGp7vC3qg5FlBmUa8Rg,2ejS1kysr5TPQNGSOgzkdA,4rk0u76lg4D0vVLSeTooNJ,3CmrB7T7Lc9crsdvS8q19s,0P6soDF1syQ592sUCseXHe,26TzNAUDOizTv0EJMDpUWS,5K9ka2I5o2T0tmFSpysNqW,0knAHKgoYTNdA6rJTvc4sg,3IIyTdTmKfL4b3U1qOrBTo,4laidm7QyhsId0XX3RQ8Hk,3Cv5sKQDMRfx1Py7gcT2z1,6Dh0TW3rcPn4UD6F7VBgnO,2dxwOjX0uo5gPG7JTUKZW4,5F0SeFoEvGi64888rJz0HK,5XKvea6ua8cPNxSAFJLB7e,7nulQV4GAPHJmqWzEGDdHd,1GVA3pLyw3CuOBDuFO5YNI,5yA7lbHGaER16zBVxyD5ET,6RyIiYvJLW4ak6IXN1eEQp,24wPUgmnaMWgGLz6XhS60g,1mD0LxzCdfathf6j7xMp7b,0uKx0kvuosOccVNVnar1Ka,3eKoLbxkNhAINXr22jjv7E,2LfwFEFF0FqKXFtX0GHXcH,2CLWYxRZ6wSitCaLCM15CF,656fu7zieCVPjpYFA7Hcqj,0ihD0DZaMuLHP3fMZBmGt1,4gVdmXgR8Lp56NonH5LCY6,1zz2Q0OgNChEJX10pkuMzf,1XzGZGwTh8KmFDwexdfdqw,0qRr1jzv5QbUktvWeZUuvs,3ADiFCMXs91ZyEBSWIiAK6,5UrCArd6UDDR2EPFOeWCxb,7IlvADoEl6VZwvyxPRg3GL,78WZ1kSG1kSWEURNhTGzWt,5Sa9ZJCkpSYgLcCYHOCKpN,0Fq3H0W5mxnSEeWDkCpJlP,3Xfg7AegXaDLoD5GOUMf2e,6ldfbljsXS4kSuGxSvJTm1,2YsLvdm387xBKdmVMVZ1q2,5dsu6BWxTobtUuwmyJg07w,2OUBPoxJ91IIdpPZiVW5X8,3LQNvkeBZlYiXEbzhW6QMM,6zY7DGYzGrkniOU1PxaK4h,6DwogjaSBKSMcd1ahmAUSW,5Jaf4NzAvm7SkvOZKNOZRl,2aTuHt6TPwZkT0079MzPHV,0J9xyNtSafUCjLksYrwFqI,3lEzTG0DV4pKjA5ZZiY0C9,4sDf4MGHF1GF76LkmLn2HV,4qJrDTPDsQqaYGKMj0Thjk,08aqoT82lbhlpCqnMWYb0y,6suOpuXcFt3jte5LsRP6J6,3ESt9OYwANn87h5C6sIFDU,3OOIKPMVqlCALvphXtAPkp,2Zg6z0XddeBbb7ceZBcPdR,0ByC7DPj6qJK3FfcpNoWWg,7seuJCMBqkg1ayg1S7b5hE,46XKwgC2uZZWRrIdUcVpGg (Caused by ResponseError('too many 429 error responses'))",
      "\nDuring handling of the above exception, another exception occurred:\n",
      "\u001b[0;31mSpotifyException\u001b[0m                          Traceback (most recent call last)",
      "\u001b[0;32m/tmp/ipykernel_35888/1444355046.py\u001b[0m in \u001b[0;36m<module>\u001b[0;34m\u001b[0m\n\u001b[1;32m     14\u001b[0m     \u001b[0mplaylist_ids\u001b[0m \u001b[0;34m=\u001b[0m \u001b[0;34m[\u001b[0m\u001b[0mi\u001b[0m\u001b[0;34m[\u001b[0m\u001b[0;36m0\u001b[0m\u001b[0;34m]\u001b[0m \u001b[0;32mfor\u001b[0m \u001b[0mi\u001b[0m \u001b[0;32min\u001b[0m \u001b[0mchunk\u001b[0m\u001b[0;34m]\u001b[0m\u001b[0;34m\u001b[0m\u001b[0;34m\u001b[0m\u001b[0m\n\u001b[1;32m     15\u001b[0m     \u001b[0mtrack_ids\u001b[0m \u001b[0;34m=\u001b[0m \u001b[0;34m[\u001b[0m\u001b[0mi\u001b[0m\u001b[0;34m[\u001b[0m\u001b[0;36m1\u001b[0m\u001b[0;34m]\u001b[0m \u001b[0;32mfor\u001b[0m \u001b[0mi\u001b[0m \u001b[0;32min\u001b[0m \u001b[0mchunk\u001b[0m\u001b[0;34m]\u001b[0m\u001b[0;34m\u001b[0m\u001b[0;34m\u001b[0m\u001b[0m\n\u001b[0;32m---> 16\u001b[0;31m     \u001b[0mfeatures_data\u001b[0m \u001b[0;34m=\u001b[0m \u001b[0msp\u001b[0m\u001b[0;34m.\u001b[0m\u001b[0maudio_features\u001b[0m\u001b[0;34m(\u001b[0m\u001b[0mtrack_ids\u001b[0m\u001b[0;34m)\u001b[0m\u001b[0;34m\u001b[0m\u001b[0;34m\u001b[0m\u001b[0m\n\u001b[0m\u001b[1;32m     17\u001b[0m \u001b[0;34m\u001b[0m\u001b[0m\n\u001b[1;32m     18\u001b[0m     \u001b[0;32mfor\u001b[0m \u001b[0mfeature_set\u001b[0m \u001b[0;32min\u001b[0m \u001b[0mfeatures_data\u001b[0m\u001b[0;34m:\u001b[0m\u001b[0;34m\u001b[0m\u001b[0;34m\u001b[0m\u001b[0m\n",
      "\u001b[0;32m~/.local/lib/python3.10/site-packages/spotipy/client.py\u001b[0m in \u001b[0;36maudio_features\u001b[0;34m(self, tracks)\u001b[0m\n\u001b[1;32m   1735\u001b[0m         \u001b[0;32melse\u001b[0m\u001b[0;34m:\u001b[0m\u001b[0;34m\u001b[0m\u001b[0;34m\u001b[0m\u001b[0m\n\u001b[1;32m   1736\u001b[0m             \u001b[0mtlist\u001b[0m \u001b[0;34m=\u001b[0m \u001b[0;34m[\u001b[0m\u001b[0mself\u001b[0m\u001b[0;34m.\u001b[0m\u001b[0m_get_id\u001b[0m\u001b[0;34m(\u001b[0m\u001b[0;34m\"track\"\u001b[0m\u001b[0;34m,\u001b[0m \u001b[0mt\u001b[0m\u001b[0;34m)\u001b[0m \u001b[0;32mfor\u001b[0m \u001b[0mt\u001b[0m \u001b[0;32min\u001b[0m \u001b[0mtracks\u001b[0m\u001b[0;34m]\u001b[0m\u001b[0;34m\u001b[0m\u001b[0;34m\u001b[0m\u001b[0m\n\u001b[0;32m-> 1737\u001b[0;31m             \u001b[0mresults\u001b[0m \u001b[0;34m=\u001b[0m \u001b[0mself\u001b[0m\u001b[0;34m.\u001b[0m\u001b[0m_get\u001b[0m\u001b[0;34m(\u001b[0m\u001b[0;34m\"audio-features/?ids=\"\u001b[0m \u001b[0;34m+\u001b[0m \u001b[0;34m\",\"\u001b[0m\u001b[0;34m.\u001b[0m\u001b[0mjoin\u001b[0m\u001b[0;34m(\u001b[0m\u001b[0mtlist\u001b[0m\u001b[0;34m)\u001b[0m\u001b[0;34m)\u001b[0m\u001b[0;34m\u001b[0m\u001b[0;34m\u001b[0m\u001b[0m\n\u001b[0m\u001b[1;32m   1738\u001b[0m         \u001b[0;31m# the response has changed, look for the new style first, and if\u001b[0m\u001b[0;34m\u001b[0m\u001b[0;34m\u001b[0m\u001b[0m\n\u001b[1;32m   1739\u001b[0m         \u001b[0;31m# its not there, fallback on the old style\u001b[0m\u001b[0;34m\u001b[0m\u001b[0;34m\u001b[0m\u001b[0m\n",
      "\u001b[0;32m~/.local/lib/python3.10/site-packages/spotipy/client.py\u001b[0m in \u001b[0;36m_get\u001b[0;34m(self, url, args, payload, **kwargs)\u001b[0m\n\u001b[1;32m    321\u001b[0m             \u001b[0mkwargs\u001b[0m\u001b[0;34m.\u001b[0m\u001b[0mupdate\u001b[0m\u001b[0;34m(\u001b[0m\u001b[0margs\u001b[0m\u001b[0;34m)\u001b[0m\u001b[0;34m\u001b[0m\u001b[0;34m\u001b[0m\u001b[0m\n\u001b[1;32m    322\u001b[0m \u001b[0;34m\u001b[0m\u001b[0m\n\u001b[0;32m--> 323\u001b[0;31m         \u001b[0;32mreturn\u001b[0m \u001b[0mself\u001b[0m\u001b[0;34m.\u001b[0m\u001b[0m_internal_call\u001b[0m\u001b[0;34m(\u001b[0m\u001b[0;34m\"GET\"\u001b[0m\u001b[0;34m,\u001b[0m \u001b[0murl\u001b[0m\u001b[0;34m,\u001b[0m \u001b[0mpayload\u001b[0m\u001b[0;34m,\u001b[0m \u001b[0mkwargs\u001b[0m\u001b[0;34m)\u001b[0m\u001b[0;34m\u001b[0m\u001b[0;34m\u001b[0m\u001b[0m\n\u001b[0m\u001b[1;32m    324\u001b[0m \u001b[0;34m\u001b[0m\u001b[0m\n\u001b[1;32m    325\u001b[0m     \u001b[0;32mdef\u001b[0m \u001b[0m_post\u001b[0m\u001b[0;34m(\u001b[0m\u001b[0mself\u001b[0m\u001b[0;34m,\u001b[0m \u001b[0murl\u001b[0m\u001b[0;34m,\u001b[0m \u001b[0margs\u001b[0m\u001b[0;34m=\u001b[0m\u001b[0;32mNone\u001b[0m\u001b[0;34m,\u001b[0m \u001b[0mpayload\u001b[0m\u001b[0;34m=\u001b[0m\u001b[0;32mNone\u001b[0m\u001b[0;34m,\u001b[0m \u001b[0;34m**\u001b[0m\u001b[0mkwargs\u001b[0m\u001b[0;34m)\u001b[0m\u001b[0;34m:\u001b[0m\u001b[0;34m\u001b[0m\u001b[0;34m\u001b[0m\u001b[0m\n",
      "\u001b[0;32m~/.local/lib/python3.10/site-packages/spotipy/client.py\u001b[0m in \u001b[0;36m_internal_call\u001b[0;34m(self, method, url, payload, params)\u001b[0m\n\u001b[1;32m    305\u001b[0m             \u001b[0;32mexcept\u001b[0m \u001b[0;34m(\u001b[0m\u001b[0mIndexError\u001b[0m\u001b[0;34m,\u001b[0m \u001b[0mAttributeError\u001b[0m\u001b[0;34m)\u001b[0m\u001b[0;34m:\u001b[0m\u001b[0;34m\u001b[0m\u001b[0;34m\u001b[0m\u001b[0m\n\u001b[1;32m    306\u001b[0m                 \u001b[0mreason\u001b[0m \u001b[0;34m=\u001b[0m \u001b[0;32mNone\u001b[0m\u001b[0;34m\u001b[0m\u001b[0;34m\u001b[0m\u001b[0m\n\u001b[0;32m--> 307\u001b[0;31m             raise SpotifyException(\n\u001b[0m\u001b[1;32m    308\u001b[0m                 \u001b[0;36m429\u001b[0m\u001b[0;34m,\u001b[0m\u001b[0;34m\u001b[0m\u001b[0;34m\u001b[0m\u001b[0m\n\u001b[1;32m    309\u001b[0m                 \u001b[0;34m-\u001b[0m\u001b[0;36m1\u001b[0m\u001b[0;34m,\u001b[0m\u001b[0;34m\u001b[0m\u001b[0;34m\u001b[0m\u001b[0m\n",
      "\u001b[0;31mSpotifyException\u001b[0m: http status: 429, code:-1 - /v1/audio-features/?ids=4JNyYp4SxcUAaB8XeVAeHM,0ci44NVZuqzQkjEuJU59lI,0oAR9pJWkiF0bR7PIYd2es,6444OoiysqF9oMUDqeNuT1,7xGIDrber9QNV6sGkXjbU0,56zmbTpGNq5xEFS78Mdubg,26Kf69sxU5WEI9OHLqTrJV,2bh5oo3PkIyd1MVK75dT37,4T4SRHYqyQYo5r00F8Q6pO,3yKQMKSulgVjQv0k7s6XyG,2KMtjCV6Cn9ssl5qOPgOet,6vgbEyGrXdvgQlXdLRKB2B,5FVgyqg76qynbtdVZcTGPS,6JM9oYKfqsv97YiT2HEWBO,49QNhxYpRLNzlYZJROTj2x,7umLQxLHvNgepDa9f6IwUv,5SPn4sYvYjpGQbLSFBR7vr,2qV5SPdswb3sXUOhaRJBNv,5P15cm1CgK7tz9mA66SXaT,5KOvIodYN0RbZxsT9gtHtw,1XcM9HxA8vcYipa3bmwUrP,5IxMjIjxa91QF8pyCxAJvI,0W9ZHmgWTYZyBp5Z3w0Wan,5BQDxbhpYU5b5cdYkWdRFQ,73owgYvspkDWiLwLDxloxn,7FKH8cRBqFjgxfArnJLqaW,20haAkyAekQ96roINFIANm,7LDq2cE0TQV66BXorbV8FD,0MXZ9WpcuHxmwlH5qD4MaM,1Y1JmZx6PxjGwTA2WihtJS,2YwJMorvqqGcVWwjbvl6jN,4EAOZzQ8FAwlMHpRmI1Um3,0FerzWnhUhZdFLnrpsqAiY,6LMjSt9vwT4Q827avd4y8E,1csCF4ujk4DN4swpMxZPdG,04DVF065NOx5wRtYeOP2OH,36vDa8TbcpXawdaYh1IWVm,3B0hzwc1e8AYOytj9hZS2I,0nn1gOjGZjObCNySWVY7fZ,6YLWkUzdBzCtXIGngc1ROj,7Jj9ygPtg5IzRzX9cfeI80,7yLzGp7vC3qg5FlBmUa8Rg,2ejS1kysr5TPQNGSOgzkdA,4rk0u76lg4D0vVLSeTooNJ,3CmrB7T7Lc9crsdvS8q19s,0P6soDF1syQ592sUCseXHe,26TzNAUDOizTv0EJMDpUWS,5K9ka2I5o2T0tmFSpysNqW,0knAHKgoYTNdA6rJTvc4sg,3IIyTdTmKfL4b3U1qOrBTo,4laidm7QyhsId0XX3RQ8Hk,3Cv5sKQDMRfx1Py7gcT2z1,6Dh0TW3rcPn4UD6F7VBgnO,2dxwOjX0uo5gPG7JTUKZW4,5F0SeFoEvGi64888rJz0HK,5XKvea6ua8cPNxSAFJLB7e,7nulQV4GAPHJmqWzEGDdHd,1GVA3pLyw3CuOBDuFO5YNI,5yA7lbHGaER16zBVxyD5ET,6RyIiYvJLW4ak6IXN1eEQp,24wPUgmnaMWgGLz6XhS60g,1mD0LxzCdfathf6j7xMp7b,0uKx0kvuosOccVNVnar1Ka,3eKoLbxkNhAINXr22jjv7E,2LfwFEFF0FqKXFtX0GHXcH,2CLWYxRZ6wSitCaLCM15CF,656fu7zieCVPjpYFA7Hcqj,0ihD0DZaMuLHP3fMZBmGt1,4gVdmXgR8Lp56NonH5LCY6,1zz2Q0OgNChEJX10pkuMzf,1XzGZGwTh8KmFDwexdfdqw,0qRr1jzv5QbUktvWeZUuvs,3ADiFCMXs91ZyEBSWIiAK6,5UrCArd6UDDR2EPFOeWCxb,7IlvADoEl6VZwvyxPRg3GL,78WZ1kSG1kSWEURNhTGzWt,5Sa9ZJCkpSYgLcCYHOCKpN,0Fq3H0W5mxnSEeWDkCpJlP,3Xfg7AegXaDLoD5GOUMf2e,6ldfbljsXS4kSuGxSvJTm1,2YsLvdm387xBKdmVMVZ1q2,5dsu6BWxTobtUuwmyJg07w,2OUBPoxJ91IIdpPZiVW5X8,3LQNvkeBZlYiXEbzhW6QMM,6zY7DGYzGrkniOU1PxaK4h,6DwogjaSBKSMcd1ahmAUSW,5Jaf4NzAvm7SkvOZKNOZRl,2aTuHt6TPwZkT0079MzPHV,0J9xyNtSafUCjLksYrwFqI,3lEzTG0DV4pKjA5ZZiY0C9,4sDf4MGHF1GF76LkmLn2HV,4qJrDTPDsQqaYGKMj0Thjk,08aqoT82lbhlpCqnMWYb0y,6suOpuXcFt3jte5LsRP6J6,3ESt9OYwANn87h5C6sIFDU,3OOIKPMVqlCALvphXtAPkp,2Zg6z0XddeBbb7ceZBcPdR,0ByC7DPj6qJK3FfcpNoWWg,7seuJCMBqkg1ayg1S7b5hE,46XKwgC2uZZWRrIdUcVpGg:\n Max Retries, reason: too many 429 error responses"
     ]
    }
   ],
   "source": [
    "if \"feature_chunks.pickle\" in listdir():\n",
    "    with open(\"feature_chunks.pickle\", \"rb\") as f:\n",
    "        chunks = pickle.load(f)\n",
    "else:\n",
    "    to_download = []\n",
    "    for playlist_id in to_tracks_db:\n",
    "        for track_id in to_tracks_db[playlist_id]:\n",
    "            to_download.append([playlist_id, track_id])\n",
    "    chunks = split_into_chunks(to_download, 100)\n",
    "\n",
    "chunks_ready = chunks.copy()\n",
    "\n",
    "for chunk in tqdm(chunks):\n",
    "    playlist_ids = [i[0] for i in chunk]\n",
    "    track_ids = [i[1] for i in chunk]\n",
    "    features_data = sp.audio_features(track_ids)\n",
    "    \n",
    "    for feature_set in features_data:\n",
    "        track_id = feature_set['id']\n",
    "        to_tracks_db_second.update({track_id: feature_set})\n",
    "    chunks_ready.pop(0)\n",
    "\n",
    "    with open(\"feature_chunks.pickle\", \"wb\") as f:\n",
    "        pickle.dump(chunks_ready, f)\n",
    "\n",
    "    with open(\"to_tracks_db_second.pickle\", \"wb\") as f:\n",
    "        pickle.dump(to_tracks_db_second, f)"
   ]
  },
  {
   "cell_type": "markdown",
   "id": "f18b05ac-64fe-426a-a87c-7acbf1d42e19",
   "metadata": {},
   "source": [
    "### Unite files"
   ]
  },
  {
   "cell_type": "code",
   "execution_count": 64,
   "id": "37ef0340-99d2-44d2-8a0a-06d497592bdd",
   "metadata": {},
   "outputs": [],
   "source": [
    "to_df = []\n",
    "\n",
    "for genre_name in to_playlist_db:\n",
    "    playlist_id = to_playlist_db[genre_name]['playlist_id']\n",
    "    items = []\n",
    "    for track_id in to_tracks_db_second:\n",
    "        to_items = []\n",
    "        try:\n",
    "            to_items.extend(list(to_tracks_db[playlist_id][track_id].items()))\n",
    "            to_items.extend(list(to_tracks_db_second[track_id].items()))\n",
    "            to_items.extend(list(to_playlist_db[genre_name].items()))\n",
    "        except Exception:\n",
    "            continue\n",
    "        items.append(to_items)\n",
    "    for item in items:        \n",
    "        to_df.append({key: val for key, val in item})\n",
    "    "
   ]
  },
  {
   "cell_type": "code",
   "execution_count": 65,
   "id": "7b1362a9-f9eb-4025-8419-154629db5f37",
   "metadata": {},
   "outputs": [],
   "source": [
    "df = pd.DataFrame(to_df)"
   ]
  },
  {
   "cell_type": "code",
   "execution_count": 68,
   "id": "b57201df-6e26-4f03-a970-9956b8ed0e93",
   "metadata": {},
   "outputs": [],
   "source": [
    "with open(\"tracks_df.pickle\", \"wb\") as f:\n",
    "    pickle.dump(df, f)"
   ]
  }
 ],
 "metadata": {
  "kernelspec": {
   "display_name": "Python 3 (ipykernel)",
   "language": "python",
   "name": "python3"
  },
  "language_info": {
   "codemirror_mode": {
    "name": "ipython",
    "version": 3
   },
   "file_extension": ".py",
   "mimetype": "text/x-python",
   "name": "python",
   "nbconvert_exporter": "python",
   "pygments_lexer": "ipython3",
   "version": "3.10.12"
  }
 },
 "nbformat": 4,
 "nbformat_minor": 5
}
